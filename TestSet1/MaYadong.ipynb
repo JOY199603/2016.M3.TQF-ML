{
 "cells": [
  {
   "cell_type": "code",
   "execution_count": 1,
   "metadata": {
    "collapsed": true
   },
   "outputs": [],
   "source": [
    "# -*- coding: utf-8 -*-\n",
    "\"\"\"\n",
    "Created on Mon Mar 13 13:49:23 2017\n",
    "\n",
    "@author: Musama\n",
    "\"\"\"\n",
    "import pandas as pd\n",
    "import numpy as np\n",
    "from sklearn.linear_model import LinearRegression\n",
    "from sklearn.metrics import mean_squared_error,accuracy_score\n",
    "\n",
    "## Import the data\n",
    "red_wine = pd.read_csv('https://archive.ics.uci.edu/ml/machine-learning-databases/wine-quality/winequality-red.csv',sep=';')\n",
    "white_wine = pd.read_csv('https://archive.ics.uci.edu/ml/machine-learning-databases/wine-quality/winequality-white.csv',sep=';')\n",
    "red_wine['quality'] = red_wine['quality']>6\n",
    "white_wine['quality'] = white_wine['quality']>6"
   ]
  },
  {
   "cell_type": "code",
   "execution_count": 2,
   "metadata": {
    "collapsed": true
   },
   "outputs": [],
   "source": [
    "## Data processing\n",
    "from sklearn.cross_validation import train_test_split\n",
    "X, y = red_wine.iloc[:, :-1].values, red_wine['quality'].values\n",
    "X_train, X_test, y_train, y_test = train_test_split(X, y, test_size=0.3, random_state=0)\n",
    "\n",
    "from sklearn.preprocessing import MinMaxScaler\n",
    "mms = MinMaxScaler()\n",
    "X_train_norm = mms.fit_transform(X_train)\n",
    "X_test_norm = mms.transform(X_test)\n",
    "\n",
    "from sklearn.preprocessing import StandardScaler\n",
    "stdsc = StandardScaler()\n",
    "X_train_std = stdsc.fit_transform(X_train)\n",
    "X_test_std = stdsc.transform(X_test)"
   ]
  },
  {
   "cell_type": "code",
   "execution_count": 3,
   "metadata": {
    "collapsed": false
   },
   "outputs": [
    {
     "name": "stdout",
     "output_type": "stream",
     "text": [
      "OLS MSE train: 0.093, test: 0.081\n",
      "OLS MSE accuracy: 0.868, test: 0.898\n"
     ]
    }
   ],
   "source": [
    "## Linear Regression\n",
    "ols = LinearRegression()\n",
    "ols.fit(X_train_std,y_train)\n",
    "ols_train_pred = ols.predict(X_train_std)\n",
    "ols_test_pred = ols.predict(X_test_std)\n",
    "\n",
    "print('OLS MSE train: %.3f, test: %.3f' % (\n",
    "mean_squared_error(y_train, ols_train_pred),\n",
    "mean_squared_error(y_test, ols_test_pred)))\n",
    "\n",
    "ols_train_pred[ols_train_pred >= 0.5] = 1\n",
    "ols_train_pred[ols_train_pred < 0.5] = 0\n",
    "ols_test_pred[ols_test_pred >= 0.5] = 1\n",
    "ols_test_pred[ols_test_pred < 0.5] = 0\n",
    "print('OLS MSE accuracy: %.3f, test: %.3f' % (\n",
    "accuracy_score(y_train, ols_train_pred),\n",
    "accuracy_score(y_test, ols_test_pred)))"
   ]
  },
  {
   "cell_type": "code",
   "execution_count": 7,
   "metadata": {
    "collapsed": false
   },
   "outputs": [
    {
     "name": "stdout",
     "output_type": "stream",
     "text": [
      "Logistic Regression MSE train: 0.129, test: 0.102\n"
     ]
    },
    {
     "name": "stderr",
     "output_type": "stream",
     "text": [
      "C:\\Anaconda3\\lib\\site-packages\\sklearn\\metrics\\regression.py:232: DeprecationWarning: numpy boolean subtract, the `-` operator, is deprecated, use the bitwise_xor, the `^` operator, or the logical_xor function instead.\n",
      "  output_errors = np.average((y_true - y_pred) ** 2, axis=0,\n",
      "C:\\Anaconda3\\lib\\site-packages\\sklearn\\metrics\\regression.py:232: DeprecationWarning: numpy boolean subtract, the `-` operator, is deprecated, use the bitwise_xor, the `^` operator, or the logical_xor function instead.\n",
      "  output_errors = np.average((y_true - y_pred) ** 2, axis=0,\n"
     ]
    }
   ],
   "source": [
    "## Logistic regression\n",
    "from sklearn.linear_model import LogisticRegression\n",
    "lr = LogisticRegression()\n",
    "lr.fit(X_train_std,y_train)\n",
    "lr_train_pred = lr.predict(X_train_std)\n",
    "lr_test_pred = lr.predict(X_test_std)\n",
    "\n",
    "print('Logistic Regression MSE train: %.3f, test: %.3f' % (\n",
    "mean_squared_error(y_train, lr_train_pred),\n",
    "mean_squared_error(y_test, lr_test_pred)))\n",
    "\n",
    "print('Logistic Regression accuracy: %.3f, test: %.3f' % (\n",
    "accuracy_score(y_train, lr_train_pred),\n",
    "accuracy_score(y_test, lr_test_pred)))"
   ]
  },
  {
   "cell_type": "code",
   "execution_count": 5,
   "metadata": {
    "collapsed": false
   },
   "outputs": [
    {
     "name": "stdout",
     "output_type": "stream",
     "text": [
      "SVM MSE train: 0.126, test: 0.115\n",
      "SVM accuracy train: 0.874, test: 0.885\n"
     ]
    },
    {
     "name": "stderr",
     "output_type": "stream",
     "text": [
      "C:\\Anaconda3\\lib\\site-packages\\sklearn\\metrics\\regression.py:232: DeprecationWarning: numpy boolean subtract, the `-` operator, is deprecated, use the bitwise_xor, the `^` operator, or the logical_xor function instead.\n",
      "  output_errors = np.average((y_true - y_pred) ** 2, axis=0,\n",
      "C:\\Anaconda3\\lib\\site-packages\\sklearn\\metrics\\regression.py:232: DeprecationWarning: numpy boolean subtract, the `-` operator, is deprecated, use the bitwise_xor, the `^` operator, or the logical_xor function instead.\n",
      "  output_errors = np.average((y_true - y_pred) ** 2, axis=0,\n"
     ]
    }
   ],
   "source": [
    "## SVM\n",
    "from sklearn.svm import SVC\n",
    "svm = SVC(kernel='linear', C=1.0, random_state=0)\n",
    "\n",
    "svm.fit(X_train_std,y_train)\n",
    "svm_train_pred = svm.predict(X_train_std)\n",
    "svm_test_pred = svm.predict(X_test_std)\n",
    "\n",
    "print('SVM MSE train: %.3f, test: %.3f' % (\n",
    "mean_squared_error(y_train, svm_train_pred),\n",
    "mean_squared_error(y_test, svm_test_pred)))\n",
    "\n",
    "print('SVM accuracy train: %.3f, test: %.3f' % (\n",
    "accuracy_score(y_train, svm_train_pred),\n",
    "accuracy_score(y_test, svm_test_pred)))"
   ]
  },
  {
   "cell_type": "code",
   "execution_count": null,
   "metadata": {
    "collapsed": true
   },
   "outputs": [],
   "source": []
  }
 ],
 "metadata": {
  "kernelspec": {
   "display_name": "Python [Root]",
   "language": "python",
   "name": "Python [Root]"
  },
  "language_info": {
   "codemirror_mode": {
    "name": "ipython",
    "version": 3
   },
   "file_extension": ".py",
   "mimetype": "text/x-python",
   "name": "python",
   "nbconvert_exporter": "python",
   "pygments_lexer": "ipython3",
   "version": "3.5.2"
  }
 },
 "nbformat": 4,
 "nbformat_minor": 0
}
