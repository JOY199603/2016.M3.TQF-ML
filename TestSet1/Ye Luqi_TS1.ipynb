{
 "cells": [
  {
   "cell_type": "code",
   "execution_count": 1,
   "metadata": {
    "collapsed": true
   },
   "outputs": [],
   "source": [
    "import pandas as pd\n",
    "import numpy as np"
   ]
  },
  {
   "cell_type": "code",
   "execution_count": 5,
   "metadata": {
    "collapsed": false
   },
   "outputs": [],
   "source": [
    "df_red = pd.read_csv('http://archive.ics.uci.edu/ml/machine-learning-databases/wine-quality/winequality-red.csv', sep=\";\")\n",
    "df_white = pd.read_csv('http://archive.ics.uci.edu/ml/machine-learning-databases/wine-quality/winequality-red.csv', sep=\";\")"
   ]
  },
  {
   "cell_type": "markdown",
   "metadata": {},
   "source": [
    "If your internet connection is slow, you can directly read from the local files. Uncomment (remove #) before you execute."
   ]
  },
  {
   "cell_type": "code",
   "execution_count": 20,
   "metadata": {
    "collapsed": true
   },
   "outputs": [],
   "source": [
    "df_red = pd.read_csv('winequality-red.csv', sep=\";\")\n",
    "df_white = pd.read_csv('winequality-red.csv', sep=\";\")"
   ]
  },
  {
   "cell_type": "code",
   "execution_count": 6,
   "metadata": {
    "collapsed": false,
    "scrolled": true
   },
   "outputs": [
    {
     "data": {
      "text/html": [
       "<div>\n",
       "<table border=\"1\" class=\"dataframe\">\n",
       "  <thead>\n",
       "    <tr style=\"text-align: right;\">\n",
       "      <th></th>\n",
       "      <th>fixed acidity</th>\n",
       "      <th>volatile acidity</th>\n",
       "      <th>citric acid</th>\n",
       "      <th>residual sugar</th>\n",
       "      <th>chlorides</th>\n",
       "      <th>free sulfur dioxide</th>\n",
       "      <th>total sulfur dioxide</th>\n",
       "      <th>density</th>\n",
       "      <th>pH</th>\n",
       "      <th>sulphates</th>\n",
       "      <th>alcohol</th>\n",
       "      <th>quality</th>\n",
       "    </tr>\n",
       "  </thead>\n",
       "  <tbody>\n",
       "    <tr>\n",
       "      <th>0</th>\n",
       "      <td>7.4</td>\n",
       "      <td>0.70</td>\n",
       "      <td>0.00</td>\n",
       "      <td>1.9</td>\n",
       "      <td>0.076</td>\n",
       "      <td>11.0</td>\n",
       "      <td>34.0</td>\n",
       "      <td>0.9978</td>\n",
       "      <td>3.51</td>\n",
       "      <td>0.56</td>\n",
       "      <td>9.4</td>\n",
       "      <td>5</td>\n",
       "    </tr>\n",
       "    <tr>\n",
       "      <th>1</th>\n",
       "      <td>7.8</td>\n",
       "      <td>0.88</td>\n",
       "      <td>0.00</td>\n",
       "      <td>2.6</td>\n",
       "      <td>0.098</td>\n",
       "      <td>25.0</td>\n",
       "      <td>67.0</td>\n",
       "      <td>0.9968</td>\n",
       "      <td>3.20</td>\n",
       "      <td>0.68</td>\n",
       "      <td>9.8</td>\n",
       "      <td>5</td>\n",
       "    </tr>\n",
       "    <tr>\n",
       "      <th>2</th>\n",
       "      <td>7.8</td>\n",
       "      <td>0.76</td>\n",
       "      <td>0.04</td>\n",
       "      <td>2.3</td>\n",
       "      <td>0.092</td>\n",
       "      <td>15.0</td>\n",
       "      <td>54.0</td>\n",
       "      <td>0.9970</td>\n",
       "      <td>3.26</td>\n",
       "      <td>0.65</td>\n",
       "      <td>9.8</td>\n",
       "      <td>5</td>\n",
       "    </tr>\n",
       "    <tr>\n",
       "      <th>3</th>\n",
       "      <td>11.2</td>\n",
       "      <td>0.28</td>\n",
       "      <td>0.56</td>\n",
       "      <td>1.9</td>\n",
       "      <td>0.075</td>\n",
       "      <td>17.0</td>\n",
       "      <td>60.0</td>\n",
       "      <td>0.9980</td>\n",
       "      <td>3.16</td>\n",
       "      <td>0.58</td>\n",
       "      <td>9.8</td>\n",
       "      <td>6</td>\n",
       "    </tr>\n",
       "    <tr>\n",
       "      <th>4</th>\n",
       "      <td>7.4</td>\n",
       "      <td>0.70</td>\n",
       "      <td>0.00</td>\n",
       "      <td>1.9</td>\n",
       "      <td>0.076</td>\n",
       "      <td>11.0</td>\n",
       "      <td>34.0</td>\n",
       "      <td>0.9978</td>\n",
       "      <td>3.51</td>\n",
       "      <td>0.56</td>\n",
       "      <td>9.4</td>\n",
       "      <td>5</td>\n",
       "    </tr>\n",
       "  </tbody>\n",
       "</table>\n",
       "</div>"
      ],
      "text/plain": [
       "   fixed acidity  volatile acidity  citric acid  residual sugar  chlorides  \\\n",
       "0            7.4              0.70         0.00             1.9      0.076   \n",
       "1            7.8              0.88         0.00             2.6      0.098   \n",
       "2            7.8              0.76         0.04             2.3      0.092   \n",
       "3           11.2              0.28         0.56             1.9      0.075   \n",
       "4            7.4              0.70         0.00             1.9      0.076   \n",
       "\n",
       "   free sulfur dioxide  total sulfur dioxide  density    pH  sulphates  \\\n",
       "0                 11.0                  34.0   0.9978  3.51       0.56   \n",
       "1                 25.0                  67.0   0.9968  3.20       0.68   \n",
       "2                 15.0                  54.0   0.9970  3.26       0.65   \n",
       "3                 17.0                  60.0   0.9980  3.16       0.58   \n",
       "4                 11.0                  34.0   0.9978  3.51       0.56   \n",
       "\n",
       "   alcohol  quality  \n",
       "0      9.4        5  \n",
       "1      9.8        5  \n",
       "2      9.8        5  \n",
       "3      9.8        6  \n",
       "4      9.4        5  "
      ]
     },
     "execution_count": 6,
     "metadata": {},
     "output_type": "execute_result"
    }
   ],
   "source": [
    "df_red.head()"
   ]
  },
  {
   "cell_type": "code",
   "execution_count": 22,
   "metadata": {
    "collapsed": false,
    "scrolled": true
   },
   "outputs": [
    {
     "data": {
      "text/html": [
       "<div>\n",
       "<table border=\"1\" class=\"dataframe\">\n",
       "  <thead>\n",
       "    <tr style=\"text-align: right;\">\n",
       "      <th></th>\n",
       "      <th>count</th>\n",
       "      <th>mean</th>\n",
       "      <th>std</th>\n",
       "      <th>min</th>\n",
       "      <th>25%</th>\n",
       "      <th>50%</th>\n",
       "      <th>75%</th>\n",
       "      <th>max</th>\n",
       "    </tr>\n",
       "  </thead>\n",
       "  <tbody>\n",
       "    <tr>\n",
       "      <th>fixed acidity</th>\n",
       "      <td>1599.0</td>\n",
       "      <td>8.319637</td>\n",
       "      <td>1.741096</td>\n",
       "      <td>4.60000</td>\n",
       "      <td>7.1000</td>\n",
       "      <td>7.90000</td>\n",
       "      <td>9.200000</td>\n",
       "      <td>15.90000</td>\n",
       "    </tr>\n",
       "    <tr>\n",
       "      <th>volatile acidity</th>\n",
       "      <td>1599.0</td>\n",
       "      <td>0.527821</td>\n",
       "      <td>0.179060</td>\n",
       "      <td>0.12000</td>\n",
       "      <td>0.3900</td>\n",
       "      <td>0.52000</td>\n",
       "      <td>0.640000</td>\n",
       "      <td>1.58000</td>\n",
       "    </tr>\n",
       "    <tr>\n",
       "      <th>citric acid</th>\n",
       "      <td>1599.0</td>\n",
       "      <td>0.270976</td>\n",
       "      <td>0.194801</td>\n",
       "      <td>0.00000</td>\n",
       "      <td>0.0900</td>\n",
       "      <td>0.26000</td>\n",
       "      <td>0.420000</td>\n",
       "      <td>1.00000</td>\n",
       "    </tr>\n",
       "    <tr>\n",
       "      <th>residual sugar</th>\n",
       "      <td>1599.0</td>\n",
       "      <td>2.538806</td>\n",
       "      <td>1.409928</td>\n",
       "      <td>0.90000</td>\n",
       "      <td>1.9000</td>\n",
       "      <td>2.20000</td>\n",
       "      <td>2.600000</td>\n",
       "      <td>15.50000</td>\n",
       "    </tr>\n",
       "    <tr>\n",
       "      <th>chlorides</th>\n",
       "      <td>1599.0</td>\n",
       "      <td>0.087467</td>\n",
       "      <td>0.047065</td>\n",
       "      <td>0.01200</td>\n",
       "      <td>0.0700</td>\n",
       "      <td>0.07900</td>\n",
       "      <td>0.090000</td>\n",
       "      <td>0.61100</td>\n",
       "    </tr>\n",
       "    <tr>\n",
       "      <th>free sulfur dioxide</th>\n",
       "      <td>1599.0</td>\n",
       "      <td>15.874922</td>\n",
       "      <td>10.460157</td>\n",
       "      <td>1.00000</td>\n",
       "      <td>7.0000</td>\n",
       "      <td>14.00000</td>\n",
       "      <td>21.000000</td>\n",
       "      <td>72.00000</td>\n",
       "    </tr>\n",
       "    <tr>\n",
       "      <th>total sulfur dioxide</th>\n",
       "      <td>1599.0</td>\n",
       "      <td>46.467792</td>\n",
       "      <td>32.895324</td>\n",
       "      <td>6.00000</td>\n",
       "      <td>22.0000</td>\n",
       "      <td>38.00000</td>\n",
       "      <td>62.000000</td>\n",
       "      <td>289.00000</td>\n",
       "    </tr>\n",
       "    <tr>\n",
       "      <th>density</th>\n",
       "      <td>1599.0</td>\n",
       "      <td>0.996747</td>\n",
       "      <td>0.001887</td>\n",
       "      <td>0.99007</td>\n",
       "      <td>0.9956</td>\n",
       "      <td>0.99675</td>\n",
       "      <td>0.997835</td>\n",
       "      <td>1.00369</td>\n",
       "    </tr>\n",
       "    <tr>\n",
       "      <th>pH</th>\n",
       "      <td>1599.0</td>\n",
       "      <td>3.311113</td>\n",
       "      <td>0.154386</td>\n",
       "      <td>2.74000</td>\n",
       "      <td>3.2100</td>\n",
       "      <td>3.31000</td>\n",
       "      <td>3.400000</td>\n",
       "      <td>4.01000</td>\n",
       "    </tr>\n",
       "    <tr>\n",
       "      <th>sulphates</th>\n",
       "      <td>1599.0</td>\n",
       "      <td>0.658149</td>\n",
       "      <td>0.169507</td>\n",
       "      <td>0.33000</td>\n",
       "      <td>0.5500</td>\n",
       "      <td>0.62000</td>\n",
       "      <td>0.730000</td>\n",
       "      <td>2.00000</td>\n",
       "    </tr>\n",
       "    <tr>\n",
       "      <th>alcohol</th>\n",
       "      <td>1599.0</td>\n",
       "      <td>10.422983</td>\n",
       "      <td>1.065668</td>\n",
       "      <td>8.40000</td>\n",
       "      <td>9.5000</td>\n",
       "      <td>10.20000</td>\n",
       "      <td>11.100000</td>\n",
       "      <td>14.90000</td>\n",
       "    </tr>\n",
       "    <tr>\n",
       "      <th>quality</th>\n",
       "      <td>1599.0</td>\n",
       "      <td>5.636023</td>\n",
       "      <td>0.807569</td>\n",
       "      <td>3.00000</td>\n",
       "      <td>5.0000</td>\n",
       "      <td>6.00000</td>\n",
       "      <td>6.000000</td>\n",
       "      <td>8.00000</td>\n",
       "    </tr>\n",
       "  </tbody>\n",
       "</table>\n",
       "</div>"
      ],
      "text/plain": [
       "                       count       mean        std      min      25%  \\\n",
       "fixed acidity         1599.0   8.319637   1.741096  4.60000   7.1000   \n",
       "volatile acidity      1599.0   0.527821   0.179060  0.12000   0.3900   \n",
       "citric acid           1599.0   0.270976   0.194801  0.00000   0.0900   \n",
       "residual sugar        1599.0   2.538806   1.409928  0.90000   1.9000   \n",
       "chlorides             1599.0   0.087467   0.047065  0.01200   0.0700   \n",
       "free sulfur dioxide   1599.0  15.874922  10.460157  1.00000   7.0000   \n",
       "total sulfur dioxide  1599.0  46.467792  32.895324  6.00000  22.0000   \n",
       "density               1599.0   0.996747   0.001887  0.99007   0.9956   \n",
       "pH                    1599.0   3.311113   0.154386  2.74000   3.2100   \n",
       "sulphates             1599.0   0.658149   0.169507  0.33000   0.5500   \n",
       "alcohol               1599.0  10.422983   1.065668  8.40000   9.5000   \n",
       "quality               1599.0   5.636023   0.807569  3.00000   5.0000   \n",
       "\n",
       "                           50%        75%        max  \n",
       "fixed acidity          7.90000   9.200000   15.90000  \n",
       "volatile acidity       0.52000   0.640000    1.58000  \n",
       "citric acid            0.26000   0.420000    1.00000  \n",
       "residual sugar         2.20000   2.600000   15.50000  \n",
       "chlorides              0.07900   0.090000    0.61100  \n",
       "free sulfur dioxide   14.00000  21.000000   72.00000  \n",
       "total sulfur dioxide  38.00000  62.000000  289.00000  \n",
       "density                0.99675   0.997835    1.00369  \n",
       "pH                     3.31000   3.400000    4.01000  \n",
       "sulphates              0.62000   0.730000    2.00000  \n",
       "alcohol               10.20000  11.100000   14.90000  \n",
       "quality                6.00000   6.000000    8.00000  "
      ]
     },
     "execution_count": 22,
     "metadata": {},
     "output_type": "execute_result"
    }
   ],
   "source": [
    "df_red.describe().transpose()"
   ]
  },
  {
   "cell_type": "markdown",
   "metadata": {},
   "source": [
    "Assing input (X) and output (y)"
   ]
  },
  {
   "cell_type": "code",
   "execution_count": 7,
   "metadata": {
    "collapsed": false
   },
   "outputs": [],
   "source": [
    "y = (df_red['quality'].values > 6)\n",
    "X = df_red.iloc[:,0:-1]"
   ]
  },
  {
   "cell_type": "markdown",
   "metadata": {},
   "source": [
    "Split training set and test set"
   ]
  },
  {
   "cell_type": "code",
   "execution_count": 1,
   "metadata": {
    "collapsed": false
   },
   "outputs": [
    {
     "ename": "ImportError",
     "evalue": "No module named 'sklearn.model_selection'",
     "output_type": "error",
     "traceback": [
      "\u001b[0;31m---------------------------------------------------------------------------\u001b[0m",
      "\u001b[0;31mImportError\u001b[0m                               Traceback (most recent call last)",
      "\u001b[0;32m<ipython-input-1-0aa71085bc95>\u001b[0m in \u001b[0;36m<module>\u001b[0;34m()\u001b[0m\n\u001b[0;32m----> 1\u001b[0;31m \u001b[0;32mfrom\u001b[0m \u001b[0msklearn\u001b[0m\u001b[0;34m.\u001b[0m\u001b[0mmodel_selection\u001b[0m \u001b[0;32mimport\u001b[0m \u001b[0mtrain_test_split\u001b[0m\u001b[0;34m\u001b[0m\u001b[0m\n\u001b[0m\u001b[1;32m      2\u001b[0m \u001b[0;34m\u001b[0m\u001b[0m\n\u001b[1;32m      3\u001b[0m \u001b[0mX_train\u001b[0m\u001b[0;34m,\u001b[0m \u001b[0mX_test\u001b[0m\u001b[0;34m,\u001b[0m \u001b[0my_train\u001b[0m\u001b[0;34m,\u001b[0m \u001b[0my_test\u001b[0m \u001b[0;34m=\u001b[0m     \u001b[0mtrain_test_split\u001b[0m\u001b[0;34m(\u001b[0m\u001b[0mX\u001b[0m\u001b[0;34m,\u001b[0m \u001b[0my\u001b[0m\u001b[0;34m,\u001b[0m \u001b[0mtest_size\u001b[0m\u001b[0;34m=\u001b[0m\u001b[0;36m0.3\u001b[0m\u001b[0;34m,\u001b[0m \u001b[0mrandom_state\u001b[0m\u001b[0;34m=\u001b[0m\u001b[0;36m0\u001b[0m\u001b[0;34m)\u001b[0m\u001b[0;34m\u001b[0m\u001b[0m\n",
      "\u001b[0;31mImportError\u001b[0m: No module named 'sklearn.model_selection'"
     ]
    }
   ],
   "source": [
    "from sklearn.model_selection import train_test_split\n",
    "\n",
    "X_train, X_test, y_train, y_test = \\\n",
    "    train_test_split(X, y, test_size=0.3, random_state=0)"
   ]
  },
  {
   "cell_type": "markdown",
   "metadata": {},
   "source": [
    "Normalize X data (on training set)"
   ]
  },
  {
   "cell_type": "code",
   "execution_count": 9,
   "metadata": {
    "collapsed": false,
    "scrolled": true
   },
   "outputs": [
    {
     "data": {
      "text/html": [
       "<div>\n",
       "<table border=\"1\" class=\"dataframe\">\n",
       "  <thead>\n",
       "    <tr style=\"text-align: right;\">\n",
       "      <th></th>\n",
       "      <th>count</th>\n",
       "      <th>mean</th>\n",
       "      <th>std</th>\n",
       "      <th>min</th>\n",
       "      <th>25%</th>\n",
       "      <th>50%</th>\n",
       "      <th>75%</th>\n",
       "      <th>max</th>\n",
       "    </tr>\n",
       "  </thead>\n",
       "  <tbody>\n",
       "    <tr>\n",
       "      <th>0</th>\n",
       "      <td>1119.0</td>\n",
       "      <td>-1.271945e-16</td>\n",
       "      <td>1.000447</td>\n",
       "      <td>-2.090941</td>\n",
       "      <td>-0.712549</td>\n",
       "      <td>-0.253085</td>\n",
       "      <td>0.550977</td>\n",
       "      <td>4.341555</td>\n",
       "    </tr>\n",
       "    <tr>\n",
       "      <th>1</th>\n",
       "      <td>1119.0</td>\n",
       "      <td>-1.214399e-16</td>\n",
       "      <td>1.000447</td>\n",
       "      <td>-2.214153</td>\n",
       "      <td>-0.757544</td>\n",
       "      <td>-0.056214</td>\n",
       "      <td>0.591167</td>\n",
       "      <td>5.662322</td>\n",
       "    </tr>\n",
       "    <tr>\n",
       "      <th>2</th>\n",
       "      <td>1119.0</td>\n",
       "      <td>-2.622765e-16</td>\n",
       "      <td>1.000447</td>\n",
       "      <td>-1.396757</td>\n",
       "      <td>-0.934734</td>\n",
       "      <td>-0.062025</td>\n",
       "      <td>0.759348</td>\n",
       "      <td>3.736827</td>\n",
       "    </tr>\n",
       "    <tr>\n",
       "      <th>3</th>\n",
       "      <td>1119.0</td>\n",
       "      <td>2.115277e-16</td>\n",
       "      <td>1.000447</td>\n",
       "      <td>-1.108115</td>\n",
       "      <td>-0.438669</td>\n",
       "      <td>-0.237836</td>\n",
       "      <td>0.029943</td>\n",
       "      <td>8.665794</td>\n",
       "    </tr>\n",
       "    <tr>\n",
       "      <th>4</th>\n",
       "      <td>1119.0</td>\n",
       "      <td>-1.587450e-18</td>\n",
       "      <td>1.000447</td>\n",
       "      <td>-1.527181</td>\n",
       "      <td>-0.356857</td>\n",
       "      <td>-0.175255</td>\n",
       "      <td>0.046703</td>\n",
       "      <td>10.559442</td>\n",
       "    </tr>\n",
       "    <tr>\n",
       "      <th>5</th>\n",
       "      <td>1119.0</td>\n",
       "      <td>1.438627e-16</td>\n",
       "      <td>1.000447</td>\n",
       "      <td>-1.419711</td>\n",
       "      <td>-0.767974</td>\n",
       "      <td>-0.209341</td>\n",
       "      <td>0.535501</td>\n",
       "      <td>5.190770</td>\n",
       "    </tr>\n",
       "    <tr>\n",
       "      <th>6</th>\n",
       "      <td>1119.0</td>\n",
       "      <td>1.230274e-17</td>\n",
       "      <td>1.000447</td>\n",
       "      <td>-1.210217</td>\n",
       "      <td>-0.743039</td>\n",
       "      <td>-0.275861</td>\n",
       "      <td>0.454105</td>\n",
       "      <td>7.052999</td>\n",
       "    </tr>\n",
       "    <tr>\n",
       "      <th>7</th>\n",
       "      <td>1119.0</td>\n",
       "      <td>-5.975193e-14</td>\n",
       "      <td>1.000447</td>\n",
       "      <td>-3.520329</td>\n",
       "      <td>-0.608117</td>\n",
       "      <td>-0.018302</td>\n",
       "      <td>0.582045</td>\n",
       "      <td>3.652243</td>\n",
       "    </tr>\n",
       "    <tr>\n",
       "      <th>8</th>\n",
       "      <td>1119.0</td>\n",
       "      <td>1.005551e-15</td>\n",
       "      <td>1.000447</td>\n",
       "      <td>-3.669365</td>\n",
       "      <td>-0.638236</td>\n",
       "      <td>0.006686</td>\n",
       "      <td>0.587115</td>\n",
       "      <td>4.521134</td>\n",
       "    </tr>\n",
       "    <tr>\n",
       "      <th>9</th>\n",
       "      <td>1119.0</td>\n",
       "      <td>-3.551920e-17</td>\n",
       "      <td>1.000447</td>\n",
       "      <td>-1.626274</td>\n",
       "      <td>-0.618757</td>\n",
       "      <td>-0.226944</td>\n",
       "      <td>0.388761</td>\n",
       "      <td>7.497358</td>\n",
       "    </tr>\n",
       "    <tr>\n",
       "      <th>10</th>\n",
       "      <td>1119.0</td>\n",
       "      <td>-8.838129e-16</td>\n",
       "      <td>1.000447</td>\n",
       "      <td>-1.888447</td>\n",
       "      <td>-0.854927</td>\n",
       "      <td>-0.291189</td>\n",
       "      <td>0.585737</td>\n",
       "      <td>4.218717</td>\n",
       "    </tr>\n",
       "  </tbody>\n",
       "</table>\n",
       "</div>"
      ],
      "text/plain": [
       "     count          mean       std       min       25%       50%       75%  \\\n",
       "0   1119.0 -1.271945e-16  1.000447 -2.090941 -0.712549 -0.253085  0.550977   \n",
       "1   1119.0 -1.214399e-16  1.000447 -2.214153 -0.757544 -0.056214  0.591167   \n",
       "2   1119.0 -2.622765e-16  1.000447 -1.396757 -0.934734 -0.062025  0.759348   \n",
       "3   1119.0  2.115277e-16  1.000447 -1.108115 -0.438669 -0.237836  0.029943   \n",
       "4   1119.0 -1.587450e-18  1.000447 -1.527181 -0.356857 -0.175255  0.046703   \n",
       "5   1119.0  1.438627e-16  1.000447 -1.419711 -0.767974 -0.209341  0.535501   \n",
       "6   1119.0  1.230274e-17  1.000447 -1.210217 -0.743039 -0.275861  0.454105   \n",
       "7   1119.0 -5.975193e-14  1.000447 -3.520329 -0.608117 -0.018302  0.582045   \n",
       "8   1119.0  1.005551e-15  1.000447 -3.669365 -0.638236  0.006686  0.587115   \n",
       "9   1119.0 -3.551920e-17  1.000447 -1.626274 -0.618757 -0.226944  0.388761   \n",
       "10  1119.0 -8.838129e-16  1.000447 -1.888447 -0.854927 -0.291189  0.585737   \n",
       "\n",
       "          max  \n",
       "0    4.341555  \n",
       "1    5.662322  \n",
       "2    3.736827  \n",
       "3    8.665794  \n",
       "4   10.559442  \n",
       "5    5.190770  \n",
       "6    7.052999  \n",
       "7    3.652243  \n",
       "8    4.521134  \n",
       "9    7.497358  \n",
       "10   4.218717  "
      ]
     },
     "execution_count": 9,
     "metadata": {},
     "output_type": "execute_result"
    }
   ],
   "source": [
    "from sklearn.preprocessing import StandardScaler\n",
    "\n",
    "stdsc = StandardScaler()\n",
    "X_train_std = stdsc.fit_transform(X_train)\n",
    "X_test_std = stdsc.transform(X_test)\n",
    "pd.DataFrame(X_train_std).describe().transpose()"
   ]
  },
  {
   "cell_type": "markdown",
   "metadata": {},
   "source": [
    "Instead we can use the pipeline method introduced in  [Ch 5 of PML](https://github.com/PHBS/python-machine-learning-book/blob/master/code/ch06/ch06.ipynb). We sequentially apply normilization, PCA (first 2 components) and logistic regression and get about 89% accuracy!"
   ]
  },
  {
   "cell_type": "code",
   "execution_count": 19,
   "metadata": {
    "collapsed": false
   },
   "outputs": [
    {
     "name": "stdout",
     "output_type": "stream",
     "text": [
      "Test Accuracy: 0.892\n"
     ]
    },
    {
     "data": {
      "image/png": "iVBORw0KGgoAAAANSUhEUgAAAagAAAEYCAYAAAAJeGK1AAAABHNCSVQICAgIfAhkiAAAAAlwSFlz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\n",
      "text/plain": [
       "<matplotlib.figure.Figure at 0x1a000e67a58>"
      ]
     },
     "metadata": {},
     "output_type": "display_data"
    }
   ],
   "source": [
    "from sklearn.preprocessing import StandardScaler\n",
    "from sklearn.decomposition import PCA\n",
    "from sklearn.linear_model import LogisticRegression\n",
    "from sklearn.pipeline import Pipeline\n",
    "\n",
    "pipe_lr = Pipeline([('scl', StandardScaler()),\n",
    "                    ('pca', PCA(n_components=2)),\n",
    "                    ('clf', LogisticRegression(random_state=1))])\n",
    "\n",
    "pipe_lr.fit(X_train, y_train)\n",
    "print('Test Accuracy: %.3f' % pipe_lr.score(X_test, y_test))\n",
    "y_pred = pipe_lr.predict(X_test)\n",
    "\n",
    "#pca#\n",
    "\n",
    "pca= PCA(n_components=2)\n",
    "X_train_pca = pca.fit_transform(X_train_std)\n",
    "X_test_pca = pca.transform(X_test_std)\n",
    "plt.scatter(X_train_pca[:, 0], X_train_pca[:, 1])\n",
    "\n",
    "plt.xlabel('PCA1')\n",
    "plt.ylabel('PCA2')\n",
    "\n",
    "plt.tight_layout()\n",
    "plt.show()"
   ]
  },
  {
   "cell_type": "code",
   "execution_count": 11,
   "metadata": {
    "collapsed": false
   },
   "outputs": [
    {
     "name": "stdout",
     "output_type": "stream",
     "text": [
      "[[423   7]\n",
      " [ 45   5]]\n"
     ]
    },
    {
     "data": {
      "image/png": "iVBORw0KGgoAAAANSUhEUgAAAPQAAAD0CAYAAACsLwv+AAAABHNCSVQICAgIfAhkiAAAAAlwSFlz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\n",
      "text/plain": [
       "<matplotlib.figure.Figure at 0x1a000cc3f98>"
      ]
     },
     "metadata": {},
     "output_type": "display_data"
    },
    {
     "data": {
      "text/plain": [
       "0.10833333333333334"
      ]
     },
     "execution_count": 11,
     "metadata": {},
     "output_type": "execute_result"
    }
   ],
   "source": [
    "#confusion matrix#\n",
    "import matplotlib.pyplot as plt\n",
    "from sklearn.metrics import confusion_matrix\n",
    "\n",
    "outcome = confusion_matrix(y_true=y_test, y_pred=y_pred)\n",
    "print(outcome)\n",
    "\n",
    "fig, ax = plt.subplots(figsize=(3.5, 3.5))\n",
    "ax.matshow(outcome, cmap=plt.cm.Blues, alpha=0.3)\n",
    "for i in range(outcome.shape[0]):\n",
    "    for j in range(outcome.shape[1]):\n",
    "        ax.text(x=j, y=i, s=outcome[i, j], va='center', ha='center')\n",
    "\n",
    "plt.xlabel('predicted label')\n",
    "plt.ylabel('true label')\n",
    "\n",
    "plt.tight_layout()\n",
    "plt.show()\n",
    "\n",
    "result=np.matrix(outcome)\n",
    "ERR=(result[0,1]+result[1,0])/(result[0,0]+result[0,1]+result[1,0]+result[1,1])\n",
    "ERR\n"
   ]
  },
  {
   "cell_type": "code",
   "execution_count": 21,
   "metadata": {
    "collapsed": false
   },
   "outputs": [
    {
     "name": "stdout",
     "output_type": "stream",
     "text": [
      "Test Accuracy: 0.894\n"
     ]
    }
   ],
   "source": [
    "from sklearn.svm import SVC\n",
    "\n",
    "pipe_lr = Pipeline([('scl', StandardScaler()),\n",
    "                    ('pca', PCA(n_components=2)),\n",
    "                    ('svm', SVC(kernel='rbf', random_state=0, gamma=0.20, C=5.0))])\n",
    "\n",
    "pipe_lr.fit(X_train, y_train)\n",
    "print('Test Accuracy: %.3f' % pipe_lr.score(X_test, y_test))\n",
    "y_pred = pipe_lr.predict(X_test)"
   ]
  },
  {
   "cell_type": "code",
   "execution_count": 22,
   "metadata": {
    "collapsed": false
   },
   "outputs": [
    {
     "data": {
      "image/png": "iVBORw0KGgoAAAANSUhEUgAAAagAAAEYCAYAAAAJeGK1AAAABHNCSVQICAgIfAhkiAAAAAlwSFlz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\n",
      "text/plain": [
       "<matplotlib.figure.Figure at 0x1a000d1f080>"
      ]
     },
     "metadata": {},
     "output_type": "display_data"
    }
   ],
   "source": [
    "#pca#\n",
    "\n",
    "pca= PCA(n_components=2)\n",
    "X_train_pca = pca.fit_transform(X_train_std)\n",
    "X_test_pca = pca.transform(X_test_std)\n",
    "plt.scatter(X_train_pca[:, 0], X_train_pca[:, 1])\n",
    "\n",
    "plt.xlabel('PCA1')\n",
    "plt.ylabel('PCA2')\n",
    "\n",
    "plt.tight_layout()\n",
    "plt.show()"
   ]
  },
  {
   "cell_type": "code",
   "execution_count": 23,
   "metadata": {
    "collapsed": false
   },
   "outputs": [
    {
     "name": "stdout",
     "output_type": "stream",
     "text": [
      "[[425   5]\n",
      " [ 46   4]]\n"
     ]
    },
    {
     "data": {
      "image/png": "iVBORw0KGgoAAAANSUhEUgAAAKwAAACsCAYAAADmMUfYAAAABHNCSVQICAgIfAhkiAAAAAlwSFlz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\nagAAAABJRU5ErkJggg==\n",
      "text/plain": [
       "<matplotlib.figure.Figure at 0x1a001fa5cc0>"
      ]
     },
     "metadata": {},
     "output_type": "display_data"
    },
    {
     "data": {
      "text/plain": [
       "0.10625"
      ]
     },
     "execution_count": 23,
     "metadata": {},
     "output_type": "execute_result"
    }
   ],
   "source": [
    "\n",
    "#confusion matrix#\n",
    "from sklearn.metrics import confusion_matrix\n",
    "outcome = confusion_matrix(y_true=y_test, y_pred=y_pred)\n",
    "print(outcome)\n",
    "\n",
    "fig, ax = plt.subplots(figsize=(2.5, 2.5))\n",
    "ax.matshow(outcome, cmap=plt.cm.Blues, alpha=0.3)\n",
    "for i in range(outcome.shape[0]):\n",
    "    for j in range(outcome.shape[1]):\n",
    "        ax.text(x=j, y=i, s=outcome[i, j], va='center', ha='center')\n",
    "\n",
    "plt.xlabel('predicted label')\n",
    "plt.ylabel('true label')\n",
    "\n",
    "plt.tight_layout()\n",
    "plt.show()\n",
    "\n",
    "result=np.matrix(outcome)\n",
    "ERR=(result[0,1]+result[1,0])/(result[0,0]+result[0,1]+result[1,0]+result[1,1])\n",
    "ERR"
   ]
  },
  {
   "cell_type": "code",
   "execution_count": 24,
   "metadata": {
    "collapsed": true
   },
   "outputs": [],
   "source": [
    "\n",
    "# linear regression#\n",
    "import sklearn.linear_model as skl_lm\n",
    "\n",
    "y = df_red['quality']\n",
    "\n",
    "X_train, X_test, y_train, y_test = \\\n",
    "    train_test_split(X, y, test_size=0.3, random_state=0)\n",
    "\n",
    "regr=skl_lm.LinearRegression()\n",
    "\n",
    "regr.fit(X_train,y_train)\n",
    "\n",
    "y_pred =regr.predict(X_test)\n",
    "\n",
    "y_pred = (y_pred > 5.63)\n",
    "y_test = (y_test > 5.63)"
   ]
  },
  {
   "cell_type": "code",
   "execution_count": 25,
   "metadata": {
    "collapsed": false
   },
   "outputs": [
    {
     "name": "stdout",
     "output_type": "stream",
     "text": [
      "[[173  53]\n",
      " [ 78 176]]\n"
     ]
    },
    {
     "data": {
      "image/png": "iVBORw0KGgoAAAANSUhEUgAAAKwAAACsCAYAAADmMUfYAAAABHNCSVQICAgIfAhkiAAAAAlwSFlz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\nhnWJ4oF1ieKBdYnigXWJ4oF1ifL/4mZmzuuL5ZgAAAAASUVORK5CYII=\n",
      "text/plain": [
       "<matplotlib.figure.Figure at 0x1a002024780>"
      ]
     },
     "metadata": {},
     "output_type": "display_data"
    },
    {
     "data": {
      "text/plain": [
       "0.27291666666666664"
      ]
     },
     "execution_count": 25,
     "metadata": {},
     "output_type": "execute_result"
    }
   ],
   "source": [
    "\n",
    "#confusion matrix#\n",
    "from sklearn.metrics import confusion_matrix\n",
    "outcome = confusion_matrix(y_true=y_test, y_pred=y_pred)\n",
    "print(outcome)\n",
    "\n",
    "fig, ax = plt.subplots(figsize=(2.5, 2.5))\n",
    "ax.matshow(outcome, cmap=plt.cm.Blues, alpha=0.3)\n",
    "for i in range(outcome.shape[0]):\n",
    "    for j in range(outcome.shape[1]):\n",
    "        ax.text(x=j, y=i, s=outcome[i, j], va='center', ha='center')\n",
    "\n",
    "plt.xlabel('predicted label')\n",
    "plt.ylabel('true label')\n",
    "\n",
    "plt.tight_layout()\n",
    "plt.show()\n",
    "\n",
    "result=np.matrix(outcome)\n",
    "ERR=(result[0,1]+result[1,0])/(result[0,0]+result[0,1]+result[1,0]+result[1,1])\n",
    "ERR\n"
   ]
  },
  {
   "cell_type": "code",
   "execution_count": null,
   "metadata": {
    "collapsed": true
   },
   "outputs": [],
   "source": []
  }
 ],
 "metadata": {
  "anaconda-cloud": {},
  "kernelspec": {
   "display_name": "Python [default]",
   "language": "python",
   "name": "python3"
  },
  "language_info": {
   "codemirror_mode": {
    "name": "ipython",
    "version": 3
   },
   "file_extension": ".py",
   "mimetype": "text/x-python",
   "name": "python",
   "nbconvert_exporter": "python",
   "pygments_lexer": "ipython3",
<<<<<<< Updated upstream
   "version": "3.5.2"
=======
   "version": "3.5.1"
>>>>>>> Stashed changes
  }
 },
 "nbformat": 4,
 "nbformat_minor": 1
}
