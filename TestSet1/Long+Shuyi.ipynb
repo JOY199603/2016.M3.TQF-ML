{
 "cells": [
  {
   "cell_type": "code",
   "execution_count": 178,
   "metadata": {
    "collapsed": true
   },
   "outputs": [],
   "source": [
    "import pandas as pd\n",
    "import numpy as np\n",
    "import math as ma\n",
    "from sklearn.linear_model import LinearRegression\n",
    "from sklearn.model_selection import train_test_spli\n",
    "from sklearn.preprocessing import StandardScaler\n",
    "#get data\n",
    "red_wine = pd.read_csv('https://archive.ics.uci.edu/ml/machine-learning-databases/wine-quality/winequality-red.csv',sep=';')\n",
    "white_wine = pd.read_csv('https://archive.ics.uci.edu/ml/machine-learning-databases/wine-quality/winequality-white.csv',sep=';')\n",
    "X, y = red_wine.iloc[:, :11].values, red_wine.iloc[:,-1:].values"
   ]
  },
  {
   "cell_type": "code",
   "execution_count": 184,
   "metadata": {
    "collapsed": false
   },
   "outputs": [],
   "source": [
    "#split data into train and test groups\n",
    "X_train, X_test, y_train, y_test =train_test_split(X, y, test_size=0.3, random_state=0)\n"
   ]
  },
  {
   "cell_type": "code",
   "execution_count": 185,
   "metadata": {
    "collapsed": false
   },
   "outputs": [],
   "source": [
    "#Standardize data\n",
    "stddata = StandardScaler()\n",
    "X_train_std = stddata.fit_transform(X_train)\n",
    "X_test_std = stddata.transform(X_test)"
   ]
  },
  {
   "cell_type": "code",
   "execution_count": 186,
   "metadata": {
    "collapsed": false
   },
   "outputs": [],
   "source": [
    "#process linear regression\n",
    "linreg = LinearRegression()  \n",
    "model=linreg.fit(X_train, y_train)\n",
    "test_result=np.mat(X_test)*np.mat(linreg.coef_).transpose()+linreg.intercept_"
   ]
  },
  {
   "cell_type": "code",
   "execution_count": 187,
   "metadata": {
    "collapsed": false
   },
   "outputs": [
    {
     "name": "stdout",
     "output_type": "stream",
     "text": [
      "The linear_regression_prediction accuracy is 0.6229166666666667\n"
     ]
    }
   ],
   "source": [
    "#calculate the linear regression test accuracy\n",
    "countnumber=0\n",
    "for i in range(len(test_result)):\n",
    "    if abs(test_result[i]-y_test[i])<=0.5:\n",
    "        countnumber+=1\n",
    "predict_accuracy=float(countnumber/len(test_result))\n",
    "print('The linear_regression_prediction accuracy is',predict_accuracy)"
   ]
  },
  {
   "cell_type": "code",
   "execution_count": 188,
   "metadata": {
    "collapsed": false
   },
   "outputs": [
    {
     "name": "stderr",
     "output_type": "stream",
     "text": [
      "/Users/longxiaoyi/anaconda/lib/python3.6/site-packages/sklearn/utils/validation.py:526: DataConversionWarning: A column-vector y was passed when a 1d array was expected. Please change the shape of y to (n_samples, ), for example using ravel().\n",
      "  y = column_or_1d(y, warn=True)\n"
     ]
    }
   ],
   "source": [
    "#process Logistic regression\n",
    "from sklearn.linear_model import LogisticRegression\n",
    "Logic_reg= LogisticRegression()\n",
    "Logic_reg.fit(X_train_std,y_train)\n",
    "lr_test_pred = lr.predict(X_test_std)"
   ]
  },
  {
   "cell_type": "code",
   "execution_count": 189,
   "metadata": {
    "collapsed": false
   },
   "outputs": [
    {
     "name": "stdout",
     "output_type": "stream",
     "text": [
      "The Logistic_regression_prediction accuracy is 0.6291666666666667\n"
     ]
    }
   ],
   "source": [
    "#calculate the Logistic regression test accuracy\n",
    "countnumber=0\n",
    "for i in range(len(test_result)):\n",
    "    if abs(lr_test_pred[i]-y_test[i])<=0.5:\n",
    "        countnumber+=1\n",
    "predict_accuracy=float(countnumber/len(test_result))\n",
    "print('The Logistic_regression_prediction accuracy is',predict_accuracy)\n"
   ]
  },
  {
   "cell_type": "code",
   "execution_count": 293,
   "metadata": {
    "collapsed": false
   },
   "outputs": [
    {
     "name": "stderr",
     "output_type": "stream",
     "text": [
      "/Users/longxiaoyi/anaconda/lib/python3.6/site-packages/ipykernel/__main__.py:32: FutureWarning: sort(columns=....) is deprecated, use sort_values(by=.....)\n"
     ]
    }
   ],
   "source": [
    "#process knn method \n",
    "#In general, the quanlity of wine can be splited into two parts:good or bad.\n",
    "#and we think the above-average (or quanlity>5) is good. below-average is bad\n",
    "#so before we process our data, we need to transfer the quantily number to 0-1\n",
    "X_train, X_test, y_train, y_test =train_test_split(X, y, test_size=0.3, random_state=0)\n",
    "ave_standard=y_train.mean()\n",
    "for i in range(len(y_test)):\n",
    "    if y_test[i]>ave_standard:\n",
    "        y_test[i]=1\n",
    "    elif y_test[i]<=ave_standard:\n",
    "        y_test[i]=0\n",
    "\n",
    "#define a function to calculate distance\n",
    "def Distance(vector1,vector2,q):\n",
    "    distance=0\n",
    "    n=len(vector1)\n",
    "    for i in range(n):\n",
    "        distance+=pow(abs(vector1[i]-vector2[i]),q)\n",
    "    return pow(distance,1/q)\n",
    "\n",
    "#Given a test sample,this function aim to get 50th nearest distance with train samples\n",
    "def test_distance(vector):\n",
    "    distance_list=[]\n",
    "    quantity_list=[]\n",
    "    result=pd.DataFrame()\n",
    "    for i in range(1119):\n",
    "        dist=Distance(vector,X_train_std[i],2)\n",
    "        distance_list.append(dist)\n",
    "        quantity_list.append(y_train[i])\n",
    "    result['distance']=distance_list\n",
    "    result['quantity']=quantity_list\n",
    "    return result.sort(columns='distance')\n",
    " \n",
    "#this function determine de quantity of test sample\n",
    "def test_result(vector):\n",
    "    result_dataframe=test_distance(vector)[0:50]\n",
    "    avedistance,avequantity=result_dataframe.mean()\n",
    "    if avequantity>ave_standard:\n",
    "        return 1\n",
    "    elif avequantity<=ave_standard:\n",
    "        return 0\n",
    "\n",
    "test_outcome=[]\n",
    "for i in range(len(X_test_std)):\n",
    "    test_outcome.append(test_result(X_test_std[i]))\n",
    "\n",
    "#the outcome of prediction is test_outcome. 1 represent good;0 is bad"
   ]
  },
  {
   "cell_type": "code",
   "execution_count": 297,
   "metadata": {
    "collapsed": false
   },
   "outputs": [
    {
     "name": "stdout",
     "output_type": "stream",
     "text": [
      "KNN method test accuracy is 0.7208333333333333\n"
     ]
    }
   ],
   "source": [
    "#we need to test the accuracy of knn\n",
    "countnumber=0\n",
    "for i in range(len(test_outcome)):\n",
    "    if test_outcome[i]==y_test[i]:\n",
    "        countnumber+=1\n",
    "test_accuracy=countnumber/len(test_outcome)\n",
    "\n",
    "print('KNN method test accuracy is',test_accuracy)"
   ]
  }
 ],
 "metadata": {
  "kernelspec": {
   "display_name": "Python 3",
   "language": "python",
   "name": "python3"
  },
  "language_info": {
   "codemirror_mode": {
    "name": "ipython",
    "version": 3
   },
   "file_extension": ".py",
   "mimetype": "text/x-python",
   "name": "python",
   "nbconvert_exporter": "python",
   "pygments_lexer": "ipython3",
   "version": "3.6.0"
  }
 },
 "nbformat": 4,
 "nbformat_minor": 2
}
