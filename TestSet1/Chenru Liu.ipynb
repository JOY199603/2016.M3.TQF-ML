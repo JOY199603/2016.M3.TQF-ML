{
 "cells": [
  {
   "cell_type": "code",
   "execution_count": 18,
   "metadata": {
    "collapsed": false
   },
   "outputs": [],
   "source": [
    "import pandas as pd\n",
    "import numpy as np\n",
    "import sklearn\n",
    "\n"
   ]
  },
  {
   "cell_type": "code",
   "execution_count": 19,
   "metadata": {
    "collapsed": false
   },
   "outputs": [],
   "source": [
    "df_red = pd.read_csv('http://mlr.cs.umass.edu/ml/machine-learning-databases/wine-quality/winequality-red.csv', sep=\";\")\n",
    "df_white = pd.read_csv('http://mlr.cs.umass.edu/ml/machine-learning-databases/wine-quality/winequality-red.csv', sep=\";\")"
   ]
  },
  {
   "cell_type": "markdown",
   "metadata": {},
   "source": [
    "If your internet connection is slow, you can directly read from the local files. Uncomment (remove #) before you execute."
   ]
  },
  {
   "cell_type": "code",
   "execution_count": 20,
   "metadata": {
    "collapsed": true
   },
   "outputs": [],
   "source": [
    "df_red = pd.read_csv('winequality-red.csv', sep=\";\")\n",
    "df_white = pd.read_csv('winequality-red.csv', sep=\";\")"
   ]
  },
  {
   "cell_type": "code",
   "execution_count": 21,
   "metadata": {
    "collapsed": false,
    "scrolled": true
   },
   "outputs": [
    {
     "data": {
      "text/html": [
       "<div>\n",
       "<table border=\"1\" class=\"dataframe\">\n",
       "  <thead>\n",
       "    <tr style=\"text-align: right;\">\n",
       "      <th></th>\n",
       "      <th>count</th>\n",
       "      <th>mean</th>\n",
       "      <th>std</th>\n",
       "      <th>min</th>\n",
       "      <th>25%</th>\n",
       "      <th>50%</th>\n",
       "      <th>75%</th>\n",
       "      <th>max</th>\n",
       "    </tr>\n",
       "  </thead>\n",
       "  <tbody>\n",
       "    <tr>\n",
       "      <th>fixed acidity</th>\n",
       "      <td>1599.0</td>\n",
       "      <td>8.319637</td>\n",
       "      <td>1.741096</td>\n",
       "      <td>4.60000</td>\n",
       "      <td>7.1000</td>\n",
       "      <td>7.90000</td>\n",
       "      <td>9.200000</td>\n",
       "      <td>15.90000</td>\n",
       "    </tr>\n",
       "    <tr>\n",
       "      <th>volatile acidity</th>\n",
       "      <td>1599.0</td>\n",
       "      <td>0.527821</td>\n",
       "      <td>0.179060</td>\n",
       "      <td>0.12000</td>\n",
       "      <td>0.3900</td>\n",
       "      <td>0.52000</td>\n",
       "      <td>0.640000</td>\n",
       "      <td>1.58000</td>\n",
       "    </tr>\n",
       "    <tr>\n",
       "      <th>citric acid</th>\n",
       "      <td>1599.0</td>\n",
       "      <td>0.270976</td>\n",
       "      <td>0.194801</td>\n",
       "      <td>0.00000</td>\n",
       "      <td>0.0900</td>\n",
       "      <td>0.26000</td>\n",
       "      <td>0.420000</td>\n",
       "      <td>1.00000</td>\n",
       "    </tr>\n",
       "    <tr>\n",
       "      <th>residual sugar</th>\n",
       "      <td>1599.0</td>\n",
       "      <td>2.538806</td>\n",
       "      <td>1.409928</td>\n",
       "      <td>0.90000</td>\n",
       "      <td>1.9000</td>\n",
       "      <td>2.20000</td>\n",
       "      <td>2.600000</td>\n",
       "      <td>15.50000</td>\n",
       "    </tr>\n",
       "    <tr>\n",
       "      <th>chlorides</th>\n",
       "      <td>1599.0</td>\n",
       "      <td>0.087467</td>\n",
       "      <td>0.047065</td>\n",
       "      <td>0.01200</td>\n",
       "      <td>0.0700</td>\n",
       "      <td>0.07900</td>\n",
       "      <td>0.090000</td>\n",
       "      <td>0.61100</td>\n",
       "    </tr>\n",
       "    <tr>\n",
       "      <th>free sulfur dioxide</th>\n",
       "      <td>1599.0</td>\n",
       "      <td>15.874922</td>\n",
       "      <td>10.460157</td>\n",
       "      <td>1.00000</td>\n",
       "      <td>7.0000</td>\n",
       "      <td>14.00000</td>\n",
       "      <td>21.000000</td>\n",
       "      <td>72.00000</td>\n",
       "    </tr>\n",
       "    <tr>\n",
       "      <th>total sulfur dioxide</th>\n",
       "      <td>1599.0</td>\n",
       "      <td>46.467792</td>\n",
       "      <td>32.895324</td>\n",
       "      <td>6.00000</td>\n",
       "      <td>22.0000</td>\n",
       "      <td>38.00000</td>\n",
       "      <td>62.000000</td>\n",
       "      <td>289.00000</td>\n",
       "    </tr>\n",
       "    <tr>\n",
       "      <th>density</th>\n",
       "      <td>1599.0</td>\n",
       "      <td>0.996747</td>\n",
       "      <td>0.001887</td>\n",
       "      <td>0.99007</td>\n",
       "      <td>0.9956</td>\n",
       "      <td>0.99675</td>\n",
       "      <td>0.997835</td>\n",
       "      <td>1.00369</td>\n",
       "    </tr>\n",
       "    <tr>\n",
       "      <th>pH</th>\n",
       "      <td>1599.0</td>\n",
       "      <td>3.311113</td>\n",
       "      <td>0.154386</td>\n",
       "      <td>2.74000</td>\n",
       "      <td>3.2100</td>\n",
       "      <td>3.31000</td>\n",
       "      <td>3.400000</td>\n",
       "      <td>4.01000</td>\n",
       "    </tr>\n",
       "    <tr>\n",
       "      <th>sulphates</th>\n",
       "      <td>1599.0</td>\n",
       "      <td>0.658149</td>\n",
       "      <td>0.169507</td>\n",
       "      <td>0.33000</td>\n",
       "      <td>0.5500</td>\n",
       "      <td>0.62000</td>\n",
       "      <td>0.730000</td>\n",
       "      <td>2.00000</td>\n",
       "    </tr>\n",
       "    <tr>\n",
       "      <th>alcohol</th>\n",
       "      <td>1599.0</td>\n",
       "      <td>10.422983</td>\n",
       "      <td>1.065668</td>\n",
       "      <td>8.40000</td>\n",
       "      <td>9.5000</td>\n",
       "      <td>10.20000</td>\n",
       "      <td>11.100000</td>\n",
       "      <td>14.90000</td>\n",
       "    </tr>\n",
       "    <tr>\n",
       "      <th>quality</th>\n",
       "      <td>1599.0</td>\n",
       "      <td>5.636023</td>\n",
       "      <td>0.807569</td>\n",
       "      <td>3.00000</td>\n",
       "      <td>5.0000</td>\n",
       "      <td>6.00000</td>\n",
       "      <td>6.000000</td>\n",
       "      <td>8.00000</td>\n",
       "    </tr>\n",
       "  </tbody>\n",
       "</table>\n",
       "</div>"
      ],
      "text/plain": [
       "                       count       mean        std      min      25%  \\\n",
       "fixed acidity         1599.0   8.319637   1.741096  4.60000   7.1000   \n",
       "volatile acidity      1599.0   0.527821   0.179060  0.12000   0.3900   \n",
       "citric acid           1599.0   0.270976   0.194801  0.00000   0.0900   \n",
       "residual sugar        1599.0   2.538806   1.409928  0.90000   1.9000   \n",
       "chlorides             1599.0   0.087467   0.047065  0.01200   0.0700   \n",
       "free sulfur dioxide   1599.0  15.874922  10.460157  1.00000   7.0000   \n",
       "total sulfur dioxide  1599.0  46.467792  32.895324  6.00000  22.0000   \n",
       "density               1599.0   0.996747   0.001887  0.99007   0.9956   \n",
       "pH                    1599.0   3.311113   0.154386  2.74000   3.2100   \n",
       "sulphates             1599.0   0.658149   0.169507  0.33000   0.5500   \n",
       "alcohol               1599.0  10.422983   1.065668  8.40000   9.5000   \n",
       "quality               1599.0   5.636023   0.807569  3.00000   5.0000   \n",
       "\n",
       "                           50%        75%        max  \n",
       "fixed acidity          7.90000   9.200000   15.90000  \n",
       "volatile acidity       0.52000   0.640000    1.58000  \n",
       "citric acid            0.26000   0.420000    1.00000  \n",
       "residual sugar         2.20000   2.600000   15.50000  \n",
       "chlorides              0.07900   0.090000    0.61100  \n",
       "free sulfur dioxide   14.00000  21.000000   72.00000  \n",
       "total sulfur dioxide  38.00000  62.000000  289.00000  \n",
       "density                0.99675   0.997835    1.00369  \n",
       "pH                     3.31000   3.400000    4.01000  \n",
       "sulphates              0.62000   0.730000    2.00000  \n",
       "alcohol               10.20000  11.100000   14.90000  \n",
       "quality                6.00000   6.000000    8.00000  "
      ]
     },
     "execution_count": 21,
     "metadata": {},
     "output_type": "execute_result"
    }
   ],
   "source": [
    "df_red.describe().transpose()"
   ]
  },
  {
   "cell_type": "markdown",
   "metadata": {},
   "source": [
    "Assing input (X) and output (y)"
   ]
  },
  {
   "cell_type": "code",
   "execution_count": 22,
   "metadata": {
    "collapsed": false
   },
   "outputs": [],
   "source": [
    "y = (df_red['quality'].values > 6)\n",
    "X = df_red.iloc[:,0:-1]"
   ]
  },
  {
   "cell_type": "markdown",
   "metadata": {},
   "source": [
    "Split training set and test set"
   ]
  },
  {
   "cell_type": "code",
   "execution_count": 23,
   "metadata": {
    "collapsed": false
   },
   "outputs": [],
   "source": [
    "from sklearn.model_selection import train_test_split\n",
    "\n",
    "X_train, X_test, y_train, y_test = \\\n",
    "    train_test_split(X, y, test_size=0.3, random_state=0)"
   ]
  },
  {
   "cell_type": "markdown",
   "metadata": {},
   "source": [
    "Normalize X data (on training set)"
   ]
  },
  {
   "cell_type": "code",
   "execution_count": 24,
   "metadata": {
    "collapsed": false,
    "scrolled": true
   },
   "outputs": [
    {
     "data": {
      "text/html": [
       "<div>\n",
       "<table border=\"1\" class=\"dataframe\">\n",
       "  <thead>\n",
       "    <tr style=\"text-align: right;\">\n",
       "      <th></th>\n",
       "      <th>count</th>\n",
       "      <th>mean</th>\n",
       "      <th>std</th>\n",
       "      <th>min</th>\n",
       "      <th>25%</th>\n",
       "      <th>50%</th>\n",
       "      <th>75%</th>\n",
       "      <th>max</th>\n",
       "    </tr>\n",
       "  </thead>\n",
       "  <tbody>\n",
       "    <tr>\n",
       "      <th>0</th>\n",
       "      <td>1119.0</td>\n",
       "      <td>-1.271945e-16</td>\n",
       "      <td>1.000447</td>\n",
       "      <td>-2.090941</td>\n",
       "      <td>-0.712549</td>\n",
       "      <td>-0.253085</td>\n",
       "      <td>0.550977</td>\n",
       "      <td>4.341555</td>\n",
       "    </tr>\n",
       "    <tr>\n",
       "      <th>1</th>\n",
       "      <td>1119.0</td>\n",
       "      <td>-1.214399e-16</td>\n",
       "      <td>1.000447</td>\n",
       "      <td>-2.214153</td>\n",
       "      <td>-0.757544</td>\n",
       "      <td>-0.056214</td>\n",
       "      <td>0.591167</td>\n",
       "      <td>5.662322</td>\n",
       "    </tr>\n",
       "    <tr>\n",
       "      <th>2</th>\n",
       "      <td>1119.0</td>\n",
       "      <td>-2.622765e-16</td>\n",
       "      <td>1.000447</td>\n",
       "      <td>-1.396757</td>\n",
       "      <td>-0.934734</td>\n",
       "      <td>-0.062025</td>\n",
       "      <td>0.759348</td>\n",
       "      <td>3.736827</td>\n",
       "    </tr>\n",
       "    <tr>\n",
       "      <th>3</th>\n",
       "      <td>1119.0</td>\n",
       "      <td>2.115277e-16</td>\n",
       "      <td>1.000447</td>\n",
       "      <td>-1.108115</td>\n",
       "      <td>-0.438669</td>\n",
       "      <td>-0.237836</td>\n",
       "      <td>0.029943</td>\n",
       "      <td>8.665794</td>\n",
       "    </tr>\n",
       "    <tr>\n",
       "      <th>4</th>\n",
       "      <td>1119.0</td>\n",
       "      <td>-1.587450e-18</td>\n",
       "      <td>1.000447</td>\n",
       "      <td>-1.527181</td>\n",
       "      <td>-0.356857</td>\n",
       "      <td>-0.175255</td>\n",
       "      <td>0.046703</td>\n",
       "      <td>10.559442</td>\n",
       "    </tr>\n",
       "    <tr>\n",
       "      <th>5</th>\n",
       "      <td>1119.0</td>\n",
       "      <td>1.438627e-16</td>\n",
       "      <td>1.000447</td>\n",
       "      <td>-1.419711</td>\n",
       "      <td>-0.767974</td>\n",
       "      <td>-0.209341</td>\n",
       "      <td>0.535501</td>\n",
       "      <td>5.190770</td>\n",
       "    </tr>\n",
       "    <tr>\n",
       "      <th>6</th>\n",
       "      <td>1119.0</td>\n",
       "      <td>1.230274e-17</td>\n",
       "      <td>1.000447</td>\n",
       "      <td>-1.210217</td>\n",
       "      <td>-0.743039</td>\n",
       "      <td>-0.275861</td>\n",
       "      <td>0.454105</td>\n",
       "      <td>7.052999</td>\n",
       "    </tr>\n",
       "    <tr>\n",
       "      <th>7</th>\n",
       "      <td>1119.0</td>\n",
       "      <td>-5.975193e-14</td>\n",
       "      <td>1.000447</td>\n",
       "      <td>-3.520329</td>\n",
       "      <td>-0.608117</td>\n",
       "      <td>-0.018302</td>\n",
       "      <td>0.582045</td>\n",
       "      <td>3.652243</td>\n",
       "    </tr>\n",
       "    <tr>\n",
       "      <th>8</th>\n",
       "      <td>1119.0</td>\n",
       "      <td>1.005551e-15</td>\n",
       "      <td>1.000447</td>\n",
       "      <td>-3.669365</td>\n",
       "      <td>-0.638236</td>\n",
       "      <td>0.006686</td>\n",
       "      <td>0.587115</td>\n",
       "      <td>4.521134</td>\n",
       "    </tr>\n",
       "    <tr>\n",
       "      <th>9</th>\n",
       "      <td>1119.0</td>\n",
       "      <td>-3.551920e-17</td>\n",
       "      <td>1.000447</td>\n",
       "      <td>-1.626274</td>\n",
       "      <td>-0.618757</td>\n",
       "      <td>-0.226944</td>\n",
       "      <td>0.388761</td>\n",
       "      <td>7.497358</td>\n",
       "    </tr>\n",
       "    <tr>\n",
       "      <th>10</th>\n",
       "      <td>1119.0</td>\n",
       "      <td>-8.838129e-16</td>\n",
       "      <td>1.000447</td>\n",
       "      <td>-1.888447</td>\n",
       "      <td>-0.854927</td>\n",
       "      <td>-0.291189</td>\n",
       "      <td>0.585737</td>\n",
       "      <td>4.218717</td>\n",
       "    </tr>\n",
       "  </tbody>\n",
       "</table>\n",
       "</div>"
      ],
      "text/plain": [
       "     count          mean       std       min       25%       50%       75%  \\\n",
       "0   1119.0 -1.271945e-16  1.000447 -2.090941 -0.712549 -0.253085  0.550977   \n",
       "1   1119.0 -1.214399e-16  1.000447 -2.214153 -0.757544 -0.056214  0.591167   \n",
       "2   1119.0 -2.622765e-16  1.000447 -1.396757 -0.934734 -0.062025  0.759348   \n",
       "3   1119.0  2.115277e-16  1.000447 -1.108115 -0.438669 -0.237836  0.029943   \n",
       "4   1119.0 -1.587450e-18  1.000447 -1.527181 -0.356857 -0.175255  0.046703   \n",
       "5   1119.0  1.438627e-16  1.000447 -1.419711 -0.767974 -0.209341  0.535501   \n",
       "6   1119.0  1.230274e-17  1.000447 -1.210217 -0.743039 -0.275861  0.454105   \n",
       "7   1119.0 -5.975193e-14  1.000447 -3.520329 -0.608117 -0.018302  0.582045   \n",
       "8   1119.0  1.005551e-15  1.000447 -3.669365 -0.638236  0.006686  0.587115   \n",
       "9   1119.0 -3.551920e-17  1.000447 -1.626274 -0.618757 -0.226944  0.388761   \n",
       "10  1119.0 -8.838129e-16  1.000447 -1.888447 -0.854927 -0.291189  0.585737   \n",
       "\n",
       "          max  \n",
       "0    4.341555  \n",
       "1    5.662322  \n",
       "2    3.736827  \n",
       "3    8.665794  \n",
       "4   10.559442  \n",
       "5    5.190770  \n",
       "6    7.052999  \n",
       "7    3.652243  \n",
       "8    4.521134  \n",
       "9    7.497358  \n",
       "10   4.218717  "
      ]
     },
     "execution_count": 24,
     "metadata": {},
     "output_type": "execute_result"
    }
   ],
   "source": [
    "from sklearn.preprocessing import StandardScaler\n",
    "\n",
    "stdsc = StandardScaler()\n",
    "X_train_std = stdsc.fit_transform(X_train)\n",
    "X_test_std = stdsc.transform(X_test)\n",
    "pd.DataFrame(X_train_std).describe().transpose()"
   ]
  },
  {
   "cell_type": "code",
   "execution_count": 25,
   "metadata": {
    "collapsed": false
   },
   "outputs": [
    {
     "data": {
      "text/html": [
       "<div>\n",
       "<table border=\"1\" class=\"dataframe\">\n",
       "  <thead>\n",
       "    <tr style=\"text-align: right;\">\n",
       "      <th></th>\n",
       "      <th>count</th>\n",
       "      <th>mean</th>\n",
       "      <th>std</th>\n",
       "      <th>min</th>\n",
       "      <th>25%</th>\n",
       "      <th>50%</th>\n",
       "      <th>75%</th>\n",
       "      <th>max</th>\n",
       "    </tr>\n",
       "  </thead>\n",
       "  <tbody>\n",
       "    <tr>\n",
       "      <th>0</th>\n",
       "      <td>480.0</td>\n",
       "      <td>-0.040224</td>\n",
       "      <td>0.999312</td>\n",
       "      <td>-2.148374</td>\n",
       "      <td>-0.712549</td>\n",
       "      <td>-0.253085</td>\n",
       "      <td>0.450469</td>\n",
       "      <td>4.169256</td>\n",
       "    </tr>\n",
       "    <tr>\n",
       "      <th>1</th>\n",
       "      <td>480.0</td>\n",
       "      <td>-0.046717</td>\n",
       "      <td>0.880606</td>\n",
       "      <td>-1.998359</td>\n",
       "      <td>-0.757544</td>\n",
       "      <td>-0.056214</td>\n",
       "      <td>0.564193</td>\n",
       "      <td>2.749105</td>\n",
       "    </tr>\n",
       "    <tr>\n",
       "      <th>2</th>\n",
       "      <td>480.0</td>\n",
       "      <td>-0.018924</td>\n",
       "      <td>0.999968</td>\n",
       "      <td>-1.396757</td>\n",
       "      <td>-0.934734</td>\n",
       "      <td>-0.113361</td>\n",
       "      <td>0.810684</td>\n",
       "      <td>2.658775</td>\n",
       "    </tr>\n",
       "    <tr>\n",
       "      <th>3</th>\n",
       "      <td>480.0</td>\n",
       "      <td>-0.036723</td>\n",
       "      <td>0.796904</td>\n",
       "      <td>-0.907282</td>\n",
       "      <td>-0.438669</td>\n",
       "      <td>-0.237836</td>\n",
       "      <td>0.029943</td>\n",
       "      <td>6.925235</td>\n",
       "    </tr>\n",
       "    <tr>\n",
       "      <th>4</th>\n",
       "      <td>480.0</td>\n",
       "      <td>-0.014713</td>\n",
       "      <td>0.820105</td>\n",
       "      <td>-1.083265</td>\n",
       "      <td>-0.336679</td>\n",
       "      <td>-0.165166</td>\n",
       "      <td>0.046703</td>\n",
       "      <td>6.745800</td>\n",
       "    </tr>\n",
       "    <tr>\n",
       "      <th>5</th>\n",
       "      <td>480.0</td>\n",
       "      <td>-0.115848</td>\n",
       "      <td>0.904818</td>\n",
       "      <td>-1.419711</td>\n",
       "      <td>-0.861079</td>\n",
       "      <td>-0.302447</td>\n",
       "      <td>0.442396</td>\n",
       "      <td>3.328663</td>\n",
       "    </tr>\n",
       "    <tr>\n",
       "      <th>6</th>\n",
       "      <td>480.0</td>\n",
       "      <td>-0.095316</td>\n",
       "      <td>0.857481</td>\n",
       "      <td>-1.210217</td>\n",
       "      <td>-0.772238</td>\n",
       "      <td>-0.305059</td>\n",
       "      <td>0.366510</td>\n",
       "      <td>3.432367</td>\n",
       "    </tr>\n",
       "    <tr>\n",
       "      <th>7</th>\n",
       "      <td>480.0</td>\n",
       "      <td>-0.014166</td>\n",
       "      <td>0.979460</td>\n",
       "      <td>-3.451868</td>\n",
       "      <td>-0.629182</td>\n",
       "      <td>0.023827</td>\n",
       "      <td>0.550448</td>\n",
       "      <td>3.394199</td>\n",
       "    </tr>\n",
       "    <tr>\n",
       "      <th>8</th>\n",
       "      <td>480.0</td>\n",
       "      <td>0.046187</td>\n",
       "      <td>0.984725</td>\n",
       "      <td>-2.766476</td>\n",
       "      <td>-0.638236</td>\n",
       "      <td>0.071178</td>\n",
       "      <td>0.587115</td>\n",
       "      <td>3.811720</td>\n",
       "    </tr>\n",
       "    <tr>\n",
       "      <th>9</th>\n",
       "      <td>480.0</td>\n",
       "      <td>-0.044681</td>\n",
       "      <td>0.815862</td>\n",
       "      <td>-1.850167</td>\n",
       "      <td>-0.562783</td>\n",
       "      <td>-0.226944</td>\n",
       "      <td>0.388761</td>\n",
       "      <td>3.803127</td>\n",
       "    </tr>\n",
       "    <tr>\n",
       "      <th>10</th>\n",
       "      <td>480.0</td>\n",
       "      <td>0.040888</td>\n",
       "      <td>1.003622</td>\n",
       "      <td>-1.888447</td>\n",
       "      <td>-0.854927</td>\n",
       "      <td>-0.197233</td>\n",
       "      <td>0.671864</td>\n",
       "      <td>3.373109</td>\n",
       "    </tr>\n",
       "  </tbody>\n",
       "</table>\n",
       "</div>"
      ],
      "text/plain": [
       "    count      mean       std       min       25%       50%       75%  \\\n",
       "0   480.0 -0.040224  0.999312 -2.148374 -0.712549 -0.253085  0.450469   \n",
       "1   480.0 -0.046717  0.880606 -1.998359 -0.757544 -0.056214  0.564193   \n",
       "2   480.0 -0.018924  0.999968 -1.396757 -0.934734 -0.113361  0.810684   \n",
       "3   480.0 -0.036723  0.796904 -0.907282 -0.438669 -0.237836  0.029943   \n",
       "4   480.0 -0.014713  0.820105 -1.083265 -0.336679 -0.165166  0.046703   \n",
       "5   480.0 -0.115848  0.904818 -1.419711 -0.861079 -0.302447  0.442396   \n",
       "6   480.0 -0.095316  0.857481 -1.210217 -0.772238 -0.305059  0.366510   \n",
       "7   480.0 -0.014166  0.979460 -3.451868 -0.629182  0.023827  0.550448   \n",
       "8   480.0  0.046187  0.984725 -2.766476 -0.638236  0.071178  0.587115   \n",
       "9   480.0 -0.044681  0.815862 -1.850167 -0.562783 -0.226944  0.388761   \n",
       "10  480.0  0.040888  1.003622 -1.888447 -0.854927 -0.197233  0.671864   \n",
       "\n",
       "         max  \n",
       "0   4.169256  \n",
       "1   2.749105  \n",
       "2   2.658775  \n",
       "3   6.925235  \n",
       "4   6.745800  \n",
       "5   3.328663  \n",
       "6   3.432367  \n",
       "7   3.394199  \n",
       "8   3.811720  \n",
       "9   3.803127  \n",
       "10  3.373109  "
      ]
     },
     "execution_count": 25,
     "metadata": {},
     "output_type": "execute_result"
    }
   ],
   "source": [
    "pd.DataFrame(X_test_std).describe().transpose() ##to see whether the standardscaler are correct or not"
   ]
  },
  {
   "cell_type": "code",
   "execution_count": 31,
   "metadata": {
    "collapsed": true
   },
   "outputs": [],
   "source": [
    "y_train0=np.where(y_train,1,-1)\n",
    "y_test0=np.where(y_test,1,-1)"
   ]
  },
  {
   "cell_type": "code",
   "execution_count": 26,
   "metadata": {
    "collapsed": false
   },
   "outputs": [],
   "source": [
    "from sklearn.pipeline import Pipeline\n",
    "from sklearn.decomposition import PCA\n",
    "from sklearn.linear_model import LogisticRegression\n",
    "from sklearn.svm import SVC\n",
    "from sklearn.tree import DecisionTreeClassifier"
   ]
  },
  {
   "cell_type": "code",
   "execution_count": 27,
   "metadata": {
    "collapsed": false
   },
   "outputs": [
    {
     "name": "stdout",
     "output_type": "stream",
     "text": [
      "\n",
      "Eigenvalues \n",
      "[  1.22866134e+03   6.10611629e+01   3.16240854e+00   1.95060182e+00\n",
      "   1.05153989e+00   4.40959004e-02   2.54428609e-02   1.15533073e-02\n",
      "   1.03853576e-02   1.59834545e-03   5.71976783e-07]\n"
     ]
    }
   ],
   "source": [
    "import numpy as np\n",
    "cov_mat=np.cov(X_train.T)\n",
    "eigen_vals,eigen_vecs=np.linalg.eig(cov_mat)\n",
    "print('\\nEigenvalues \\n%s' %eigen_vals)"
   ]
  },
  {
   "cell_type": "code",
   "execution_count": 28,
   "metadata": {
    "collapsed": false
   },
   "outputs": [
    {
     "data": {
      "image/png": "[encoded data removed]",
      "text/plain": [
       "<matplotlib.figure.Figure at 0x2019ff2d390>"
      ]
     },
     "metadata": {},
     "output_type": "display_data"
    }
   ],
   "source": [
    "tot=sum(eigen_vals)\n",
    "var_exp=[(i/tot) for i in sorted(eigen_vals,reverse=True)]\n",
    "cum_var_exp=np.cumsum(var_exp)\n",
    "import matplotlib.pyplot as plt\n",
    "plt.bar(range(1,len(var_exp)+1),var_exp,alpha=0.5,align='center',label='individual explained variance')\n",
    "plt.step(range(1,len(var_exp)+1),cum_var_exp,where='mid',label='cumulative explained variance')\n",
    "plt.ylabel('Explained variance ratio')\n",
    "plt.xlabel('Principal components')\n",
    "plt.legend(loc='best')\n",
    "plt.show()"
   ]
  },
  {
   "cell_type": "code",
   "execution_count": 29,
   "metadata": {
    "collapsed": false
   },
   "outputs": [
    {
     "data": {
      "text/plain": [
       "array([ 0.00614323, -0.02377867, -0.92378055, -0.3538459 ,  0.09838097,\n",
       "        0.08049212,  0.0129109 ,  0.06434147, -0.01400819,  0.01256958,\n",
       "       -0.00093792])"
      ]
     },
     "execution_count": 29,
     "metadata": {},
     "output_type": "execute_result"
    }
   ],
   "source": [
    "eigen_vecs[0]  ##from here we can see that\n",
    "#the most import character is the third character(having the largest absolute value)"
   ]
  },
  {
   "cell_type": "code",
   "execution_count": 32,
   "metadata": {
    "collapsed": false
   },
   "outputs": [
    {
     "name": "stdout",
     "output_type": "stream",
     "text": [
      "Test Accuracy for PCA 1 LogisticReg: 0.896\n",
      "Test Accuracy for PCA 2 LogisticReg: 0.892\n",
      "Test Accuracy for PCA 3 LogisticReg: 0.894\n",
      "Test Accuracy for PCA 4 LogisticReg: 0.892\n",
      "Test Accuracy for PCA 5 LogisticReg: 0.894\n",
      "Test Accuracy for PCA 6 LogisticReg: 0.890\n",
      "Test Accuracy for PCA 7 LogisticReg: 0.892\n",
      "Test Accuracy for PCA 8 LogisticReg: 0.892\n",
      "Test Accuracy for PCA 9 LogisticReg: 0.900\n",
      "Test Accuracy for PCA 10 LogisticReg: 0.902\n",
      "Test Accuracy for PCA 11 LogisticReg: 0.898\n"
     ]
    }
   ],
   "source": [
    "AccArr=np.zeros(11)\n",
    "for i in np.arange(1,12):\n",
    "    pipe_lr=Pipeline([('scl',StandardScaler()),('pca',PCA(n_components=i)),('clf',LogisticRegression(random_state=1))])\n",
    "    pipe_lr.fit(X_train,y_train0)\n",
    "    AccArr[i-1]=pipe_lr.score(X_test,y_test0)\n",
    "    print('Test Accuracy for PCA %d LogisticReg: %.3f' %(i,AccArr[i-1]))    "
   ]
  },
  {
   "cell_type": "code",
   "execution_count": 34,
   "metadata": {
    "collapsed": false
   },
   "outputs": [
    {
     "name": "stdout",
     "output_type": "stream",
     "text": [
      "Test Accuracy for  DecisionTree depth2 without PCA : 0.806\n",
      "Test Accuracy for  DecisionTree depth3 without PCA : 0.848\n",
      "Test Accuracy for  DecisionTree depth4 without PCA : 0.873\n",
      "Test Accuracy for  DecisionTree depth5 without PCA : 0.873\n",
      "Test Accuracy for  DecisionTree depth6 without PCA : 0.856\n",
      "Test Accuracy for  DecisionTree depth7 without PCA : 0.871\n",
      "Test Accuracy for  DecisionTree depth8 without PCA : 0.881\n",
      "Test Accuracy for  DecisionTree depth9 without PCA : 0.875\n"
     ]
    }
   ],
   "source": [
    "AccArr=np.zeros(9)\n",
    "for i in np.arange(2,10):\n",
    "    pipe_lr=Pipeline([('scl',StandardScaler()),('clf',DecisionTreeClassifier(criterion='entropy',max_depth=i,random_state=0))])\n",
    "    pipe_lr.fit(X_train,y_train0)\n",
    "    AccArr[i-1]=pipe_lr.score(X_test,y_test0)\n",
    "    print('Test Accuracy for  DecisionTree depth%d without PCA : %.3f' %(i,AccArr[i-1]))    "
   ]
  },
  {
   "cell_type": "code",
   "execution_count": 39,
   "metadata": {
    "collapsed": false
   },
   "outputs": [
    {
     "name": "stdout",
     "output_type": "stream",
     "text": [
      "Test Accuracy for  DecisionTree with PCA : 0.896\n"
     ]
    }
   ],
   "source": [
    "pipe_lr=Pipeline([('scl',StandardScaler()),('pca',PCA(n_components=2)),('clf',DecisionTreeClassifier(criterion='entropy',max_depth=2,random_state=0))])\n",
    "pipe_lr.fit(X_train,y_train0)\n",
    "print('Test Accuracy for  DecisionTree with PCA : %.3f' %(pipe_lr.score(X_test,y_test0)))    "
   ]
  },
  {
   "cell_type": "code",
   "execution_count": 40,
   "metadata": {
    "collapsed": false
   },
   "outputs": [
    {
     "name": "stdout",
     "output_type": "stream",
     "text": [
      "Test Accuracy for PCA 1 SVC: 0.896\n",
      "Test Accuracy for PCA 2 SVC: 0.896\n",
      "Test Accuracy for PCA 3 SVC: 0.896\n",
      "Test Accuracy for PCA 4 SVC: 0.896\n",
      "Test Accuracy for PCA 5 SVC: 0.896\n",
      "Test Accuracy for PCA 6 SVC: 0.896\n",
      "Test Accuracy for PCA 7 SVC: 0.896\n",
      "Test Accuracy for PCA 8 SVC: 0.896\n",
      "Test Accuracy for PCA 9 SVC: 0.896\n",
      "Test Accuracy for PCA 10 SVC: 0.902\n",
      "Test Accuracy for PCA 11 SVC: 0.885\n"
     ]
    }
   ],
   "source": [
    "AccArr=np.zeros(11)\n",
    "for i in np.arange(1,12):\n",
    "    pipe_lr=Pipeline([('scl',StandardScaler()),('pca',PCA(n_components=i)),('clf',SVC(kernel='linear',C=1.0,random_state=0))])\n",
    "    pipe_lr.fit(X_train,y_train0)\n",
    "    AccArr[i-1]=pipe_lr.score(X_test,y_test0)\n",
    "    print('Test Accuracy for PCA %d SVC: %.3f' %(i,AccArr[i-1]))   "
   ]
  },
  {
   "cell_type": "code",
   "execution_count": null,
   "metadata": {
    "collapsed": true
   },
   "outputs": [],
   "source": []
  }
 ],
 "metadata": {
  "anaconda-cloud": {},
  "kernelspec": {
   "display_name": "Python [default]",
   "language": "python",
   "name": "python3"
  },
  "language_info": {
   "codemirror_mode": {
    "name": "ipython",
    "version": 3
   },
   "file_extension": ".py",
   "mimetype": "text/x-python",
   "name": "python",
   "nbconvert_exporter": "python",
   "pygments_lexer": "ipython3",
   "version": "3.5.2"
  }
 },
 "nbformat": 4,
 "nbformat_minor": 1
}
