{
 "cells": [
  {
   "cell_type": "markdown",
   "metadata": {},
   "source": [
    "# Wine quality"
   ]
  },
  {
   "cell_type": "markdown",
   "metadata": {},
   "source": [
    "We imported pandas and numpy"
   ]
  },
  {
   "cell_type": "code",
   "execution_count": 51,
   "metadata": {
    "collapsed": true
   },
   "outputs": [],
   "source": [
    "import pandas as pd\n",
    "import numpy as np\n",
    "import matplotlib.pyplot as plt"
   ]
  },
  {
   "cell_type": "markdown",
   "metadata": {},
   "source": [
    "we download the file \"csv\" red wine "
   ]
  },
  {
   "cell_type": "code",
   "execution_count": 5,
   "metadata": {
    "collapsed": false
   },
   "outputs": [],
   "source": [
    "df_red = pd.read_csv('http://mlr.cs.umass.edu/ml/machine-learning-databases/wine-quality/winequality-red.csv', sep=\";\").sort_values('quality')\n"
   ]
  },
  {
   "cell_type": "markdown",
   "metadata": {},
   "source": [
    "we want to see our data"
   ]
  },
  {
   "cell_type": "code",
   "execution_count": 6,
   "metadata": {
    "collapsed": false
   },
   "outputs": [
    {
     "data": {
      "text/html": [
       "<div>\n",
       "<table border=\"1\" class=\"dataframe\">\n",
       "  <thead>\n",
       "    <tr style=\"text-align: right;\">\n",
       "      <th></th>\n",
       "      <th>fixed acidity</th>\n",
       "      <th>volatile acidity</th>\n",
       "      <th>citric acid</th>\n",
       "      <th>residual sugar</th>\n",
       "      <th>chlorides</th>\n",
       "      <th>free sulfur dioxide</th>\n",
       "      <th>total sulfur dioxide</th>\n",
       "      <th>density</th>\n",
       "      <th>pH</th>\n",
       "      <th>sulphates</th>\n",
       "      <th>alcohol</th>\n",
       "      <th>quality</th>\n",
       "    </tr>\n",
       "  </thead>\n",
       "  <tbody>\n",
       "    <tr>\n",
       "      <th>1478</th>\n",
       "      <td>7.1</td>\n",
       "      <td>0.875</td>\n",
       "      <td>0.05</td>\n",
       "      <td>5.7</td>\n",
       "      <td>0.082</td>\n",
       "      <td>3.0</td>\n",
       "      <td>14.0</td>\n",
       "      <td>0.99808</td>\n",
       "      <td>3.40</td>\n",
       "      <td>0.52</td>\n",
       "      <td>10.2</td>\n",
       "      <td>3</td>\n",
       "    </tr>\n",
       "    <tr>\n",
       "      <th>832</th>\n",
       "      <td>10.4</td>\n",
       "      <td>0.440</td>\n",
       "      <td>0.42</td>\n",
       "      <td>1.5</td>\n",
       "      <td>0.145</td>\n",
       "      <td>34.0</td>\n",
       "      <td>48.0</td>\n",
       "      <td>0.99832</td>\n",
       "      <td>3.38</td>\n",
       "      <td>0.86</td>\n",
       "      <td>9.9</td>\n",
       "      <td>3</td>\n",
       "    </tr>\n",
       "    <tr>\n",
       "      <th>899</th>\n",
       "      <td>8.3</td>\n",
       "      <td>1.020</td>\n",
       "      <td>0.02</td>\n",
       "      <td>3.4</td>\n",
       "      <td>0.084</td>\n",
       "      <td>6.0</td>\n",
       "      <td>11.0</td>\n",
       "      <td>0.99892</td>\n",
       "      <td>3.48</td>\n",
       "      <td>0.49</td>\n",
       "      <td>11.0</td>\n",
       "      <td>3</td>\n",
       "    </tr>\n",
       "    <tr>\n",
       "      <th>1374</th>\n",
       "      <td>6.8</td>\n",
       "      <td>0.815</td>\n",
       "      <td>0.00</td>\n",
       "      <td>1.2</td>\n",
       "      <td>0.267</td>\n",
       "      <td>16.0</td>\n",
       "      <td>29.0</td>\n",
       "      <td>0.99471</td>\n",
       "      <td>3.32</td>\n",
       "      <td>0.51</td>\n",
       "      <td>9.8</td>\n",
       "      <td>3</td>\n",
       "    </tr>\n",
       "    <tr>\n",
       "      <th>459</th>\n",
       "      <td>11.6</td>\n",
       "      <td>0.580</td>\n",
       "      <td>0.66</td>\n",
       "      <td>2.2</td>\n",
       "      <td>0.074</td>\n",
       "      <td>10.0</td>\n",
       "      <td>47.0</td>\n",
       "      <td>1.00080</td>\n",
       "      <td>3.25</td>\n",
       "      <td>0.57</td>\n",
       "      <td>9.0</td>\n",
       "      <td>3</td>\n",
       "    </tr>\n",
       "  </tbody>\n",
       "</table>\n",
       "</div>"
      ],
      "text/plain": [
       "      fixed acidity  volatile acidity  citric acid  residual sugar  chlorides  \\\n",
       "1478            7.1             0.875         0.05             5.7      0.082   \n",
       "832            10.4             0.440         0.42             1.5      0.145   \n",
       "899             8.3             1.020         0.02             3.4      0.084   \n",
       "1374            6.8             0.815         0.00             1.2      0.267   \n",
       "459            11.6             0.580         0.66             2.2      0.074   \n",
       "\n",
       "      free sulfur dioxide  total sulfur dioxide  density    pH  sulphates  \\\n",
       "1478                  3.0                  14.0  0.99808  3.40       0.52   \n",
       "832                  34.0                  48.0  0.99832  3.38       0.86   \n",
       "899                   6.0                  11.0  0.99892  3.48       0.49   \n",
       "1374                 16.0                  29.0  0.99471  3.32       0.51   \n",
       "459                  10.0                  47.0  1.00080  3.25       0.57   \n",
       "\n",
       "      alcohol  quality  \n",
       "1478     10.2        3  \n",
       "832       9.9        3  \n",
       "899      11.0        3  \n",
       "1374      9.8        3  \n",
       "459       9.0        3  "
      ]
     },
     "execution_count": 6,
     "metadata": {},
     "output_type": "execute_result"
    }
   ],
   "source": [
    "df_red.head()"
   ]
  },
  {
   "cell_type": "code",
   "execution_count": 7,
   "metadata": {
    "collapsed": false
   },
   "outputs": [
    {
     "data": {
      "text/html": [
       "<div>\n",
       "<table border=\"1\" class=\"dataframe\">\n",
       "  <thead>\n",
       "    <tr style=\"text-align: right;\">\n",
       "      <th></th>\n",
       "      <th>count</th>\n",
       "      <th>mean</th>\n",
       "      <th>std</th>\n",
       "      <th>min</th>\n",
       "      <th>25%</th>\n",
       "      <th>50%</th>\n",
       "      <th>75%</th>\n",
       "      <th>max</th>\n",
       "    </tr>\n",
       "  </thead>\n",
       "  <tbody>\n",
       "    <tr>\n",
       "      <th>fixed acidity</th>\n",
       "      <td>1599.0</td>\n",
       "      <td>8.319637</td>\n",
       "      <td>1.741096</td>\n",
       "      <td>4.60000</td>\n",
       "      <td>7.1000</td>\n",
       "      <td>7.90000</td>\n",
       "      <td>9.200000</td>\n",
       "      <td>15.90000</td>\n",
       "    </tr>\n",
       "    <tr>\n",
       "      <th>volatile acidity</th>\n",
       "      <td>1599.0</td>\n",
       "      <td>0.527821</td>\n",
       "      <td>0.179060</td>\n",
       "      <td>0.12000</td>\n",
       "      <td>0.3900</td>\n",
       "      <td>0.52000</td>\n",
       "      <td>0.640000</td>\n",
       "      <td>1.58000</td>\n",
       "    </tr>\n",
       "    <tr>\n",
       "      <th>citric acid</th>\n",
       "      <td>1599.0</td>\n",
       "      <td>0.270976</td>\n",
       "      <td>0.194801</td>\n",
       "      <td>0.00000</td>\n",
       "      <td>0.0900</td>\n",
       "      <td>0.26000</td>\n",
       "      <td>0.420000</td>\n",
       "      <td>1.00000</td>\n",
       "    </tr>\n",
       "    <tr>\n",
       "      <th>residual sugar</th>\n",
       "      <td>1599.0</td>\n",
       "      <td>2.538806</td>\n",
       "      <td>1.409928</td>\n",
       "      <td>0.90000</td>\n",
       "      <td>1.9000</td>\n",
       "      <td>2.20000</td>\n",
       "      <td>2.600000</td>\n",
       "      <td>15.50000</td>\n",
       "    </tr>\n",
       "    <tr>\n",
       "      <th>chlorides</th>\n",
       "      <td>1599.0</td>\n",
       "      <td>0.087467</td>\n",
       "      <td>0.047065</td>\n",
       "      <td>0.01200</td>\n",
       "      <td>0.0700</td>\n",
       "      <td>0.07900</td>\n",
       "      <td>0.090000</td>\n",
       "      <td>0.61100</td>\n",
       "    </tr>\n",
       "    <tr>\n",
       "      <th>free sulfur dioxide</th>\n",
       "      <td>1599.0</td>\n",
       "      <td>15.874922</td>\n",
       "      <td>10.460157</td>\n",
       "      <td>1.00000</td>\n",
       "      <td>7.0000</td>\n",
       "      <td>14.00000</td>\n",
       "      <td>21.000000</td>\n",
       "      <td>72.00000</td>\n",
       "    </tr>\n",
       "    <tr>\n",
       "      <th>total sulfur dioxide</th>\n",
       "      <td>1599.0</td>\n",
       "      <td>46.467792</td>\n",
       "      <td>32.895324</td>\n",
       "      <td>6.00000</td>\n",
       "      <td>22.0000</td>\n",
       "      <td>38.00000</td>\n",
       "      <td>62.000000</td>\n",
       "      <td>289.00000</td>\n",
       "    </tr>\n",
       "    <tr>\n",
       "      <th>density</th>\n",
       "      <td>1599.0</td>\n",
       "      <td>0.996747</td>\n",
       "      <td>0.001887</td>\n",
       "      <td>0.99007</td>\n",
       "      <td>0.9956</td>\n",
       "      <td>0.99675</td>\n",
       "      <td>0.997835</td>\n",
       "      <td>1.00369</td>\n",
       "    </tr>\n",
       "    <tr>\n",
       "      <th>pH</th>\n",
       "      <td>1599.0</td>\n",
       "      <td>3.311113</td>\n",
       "      <td>0.154386</td>\n",
       "      <td>2.74000</td>\n",
       "      <td>3.2100</td>\n",
       "      <td>3.31000</td>\n",
       "      <td>3.400000</td>\n",
       "      <td>4.01000</td>\n",
       "    </tr>\n",
       "    <tr>\n",
       "      <th>sulphates</th>\n",
       "      <td>1599.0</td>\n",
       "      <td>0.658149</td>\n",
       "      <td>0.169507</td>\n",
       "      <td>0.33000</td>\n",
       "      <td>0.5500</td>\n",
       "      <td>0.62000</td>\n",
       "      <td>0.730000</td>\n",
       "      <td>2.00000</td>\n",
       "    </tr>\n",
       "    <tr>\n",
       "      <th>alcohol</th>\n",
       "      <td>1599.0</td>\n",
       "      <td>10.422983</td>\n",
       "      <td>1.065668</td>\n",
       "      <td>8.40000</td>\n",
       "      <td>9.5000</td>\n",
       "      <td>10.20000</td>\n",
       "      <td>11.100000</td>\n",
       "      <td>14.90000</td>\n",
       "    </tr>\n",
       "    <tr>\n",
       "      <th>quality</th>\n",
       "      <td>1599.0</td>\n",
       "      <td>5.636023</td>\n",
       "      <td>0.807569</td>\n",
       "      <td>3.00000</td>\n",
       "      <td>5.0000</td>\n",
       "      <td>6.00000</td>\n",
       "      <td>6.000000</td>\n",
       "      <td>8.00000</td>\n",
       "    </tr>\n",
       "  </tbody>\n",
       "</table>\n",
       "</div>"
      ],
      "text/plain": [
       "                       count       mean        std      min      25%  \\\n",
       "fixed acidity         1599.0   8.319637   1.741096  4.60000   7.1000   \n",
       "volatile acidity      1599.0   0.527821   0.179060  0.12000   0.3900   \n",
       "citric acid           1599.0   0.270976   0.194801  0.00000   0.0900   \n",
       "residual sugar        1599.0   2.538806   1.409928  0.90000   1.9000   \n",
       "chlorides             1599.0   0.087467   0.047065  0.01200   0.0700   \n",
       "free sulfur dioxide   1599.0  15.874922  10.460157  1.00000   7.0000   \n",
       "total sulfur dioxide  1599.0  46.467792  32.895324  6.00000  22.0000   \n",
       "density               1599.0   0.996747   0.001887  0.99007   0.9956   \n",
       "pH                    1599.0   3.311113   0.154386  2.74000   3.2100   \n",
       "sulphates             1599.0   0.658149   0.169507  0.33000   0.5500   \n",
       "alcohol               1599.0  10.422983   1.065668  8.40000   9.5000   \n",
       "quality               1599.0   5.636023   0.807569  3.00000   5.0000   \n",
       "\n",
       "                           50%        75%        max  \n",
       "fixed acidity          7.90000   9.200000   15.90000  \n",
       "volatile acidity       0.52000   0.640000    1.58000  \n",
       "citric acid            0.26000   0.420000    1.00000  \n",
       "residual sugar         2.20000   2.600000   15.50000  \n",
       "chlorides              0.07900   0.090000    0.61100  \n",
       "free sulfur dioxide   14.00000  21.000000   72.00000  \n",
       "total sulfur dioxide  38.00000  62.000000  289.00000  \n",
       "density                0.99675   0.997835    1.00369  \n",
       "pH                     3.31000   3.400000    4.01000  \n",
       "sulphates              0.62000   0.730000    2.00000  \n",
       "alcohol               10.20000  11.100000   14.90000  \n",
       "quality                6.00000   6.000000    8.00000  "
      ]
     },
     "execution_count": 7,
     "metadata": {},
     "output_type": "execute_result"
    }
   ],
   "source": [
    "df_red.describe().transpose()"
   ]
  },
  {
   "cell_type": "markdown",
   "metadata": {},
   "source": [
    "# Linear Regression"
   ]
  },
  {
   "cell_type": "markdown",
   "metadata": {},
   "source": [
    "Assegning input X and output Y"
   ]
  },
  {
   "cell_type": "code",
   "execution_count": 13,
   "metadata": {
    "collapsed": true
   },
   "outputs": [],
   "source": [
    "y = (df_red['quality'].values)\n",
    "X = df_red.iloc[:,0:-1].values"
   ]
  },
  {
   "cell_type": "markdown",
   "metadata": {},
   "source": [
    "I chose PCA for graphic reson, in this way we can visualize PC1 against y (quality). PC1 is the linear combination of the 11 features of the matrix X."
   ]
  },
  {
   "cell_type": "code",
   "execution_count": 15,
   "metadata": {
    "collapsed": false
   },
   "outputs": [
    {
     "data": {
      "text/plain": [
       "array([ 0.94657698])"
      ]
     },
     "execution_count": 15,
     "metadata": {},
     "output_type": "execute_result"
    }
   ],
   "source": [
    "from sklearn.decomposition import PCA\n",
    "pca = PCA(n_components=1)\n",
    "X_pca = pca.fit_transform(X)\n",
    "pca.explained_variance_ratio_"
   ]
  },
  {
   "cell_type": "markdown",
   "metadata": {},
   "source": [
    "We split our data in training set and test set"
   ]
  },
  {
   "cell_type": "code",
   "execution_count": 11,
   "metadata": {
    "collapsed": true
   },
   "outputs": [],
   "source": [
    "from sklearn.model_selection import train_test_split\n",
    "X_pca_train, X_pca_test, y_train, y_test = \\\n",
    "train_test_split(X_pca, y, test_size=0.3, random_state=0)\n"
   ]
  },
  {
   "cell_type": "markdown",
   "metadata": {},
   "source": [
    "We use Linear regression from sklearn.linear_model for estimating the slope of the linear regression"
   ]
  },
  {
   "cell_type": "code",
   "execution_count": 19,
   "metadata": {
    "collapsed": false
   },
   "outputs": [
    {
     "name": "stdout",
     "output_type": "stream",
     "text": [
      "Intercept: 5.638\n",
      "slope: -0.004\n"
     ]
    }
   ],
   "source": [
    "from sklearn.linear_model import LinearRegression\n",
    "slr = LinearRegression ()\n",
    "slr.fit(X_pca_train, y_train)\n",
    "print('Intercept: %.3f' % slr.intercept_)\n",
    "print('slope: %.3f' % slr.coef_[0])"
   ]
  },
  {
   "cell_type": "markdown",
   "metadata": {},
   "source": [
    "The code for plotting the linear regression"
   ]
  },
  {
   "cell_type": "code",
   "execution_count": 22,
   "metadata": {
    "collapsed": false
   },
   "outputs": [],
   "source": [
    "\n",
    "def lin_regplot(X, y, model):\n",
    "    plt.scatter(X, y, c='blue')\n",
    "    plt.plot(X, model.predict(X), color='red')\n",
    "    return None"
   ]
  },
  {
   "cell_type": "code",
   "execution_count": 23,
   "metadata": {
    "collapsed": false
   },
   "outputs": [
    {
     "data": {
      "image/png": "[encoded data removed]",
      "text/plain": [
       "<matplotlib.figure.Figure at 0x7fbcbba8bcc0>"
      ]
     },
     "metadata": {},
     "output_type": "display_data"
    }
   ],
   "source": [
    "\n",
    "lin_regplot(X_pca_train,y_train, slr)\n",
    "plt.xlabel('X')\n",
    "plt.ylabel('y')\n",
    "plt.show()\n"
   ]
  },
  {
   "cell_type": "markdown",
   "metadata": {},
   "source": [
    "We want to evaluete the goodness of fit of our model, and its ability to predict (y)."
   ]
  },
  {
   "cell_type": "code",
   "execution_count": 25,
   "metadata": {
    "collapsed": true
   },
   "outputs": [],
   "source": [
    "\n",
    "y_train_pred = slr.predict (X_pca_train)\n",
    "y_test_pred = slr.predict (X_pca_test)"
   ]
  },
  {
   "cell_type": "code",
   "execution_count": 26,
   "metadata": {
    "collapsed": false
   },
   "outputs": [
    {
     "data": {
      "image/png": "[encoded data removed]",
      "text/plain": [
       "<matplotlib.figure.Figure at 0x7fbcbba8bb00>"
      ]
     },
     "metadata": {},
     "output_type": "display_data"
    }
   ],
   "source": [
    "plt.scatter(y_train_pred, y_train_pred - y_train,\n",
    "            c='blue', marker='o', label='Training data')\n",
    "plt.scatter(y_test_pred, y_test_pred - y_test,\n",
    "            c='lightgreen', marker = 's', label= 'Test data')\n",
    "plt.xlabel('Predicted values')\n",
    "plt.ylabel('Residuals')\n",
    "plt.legend(loc='upper right')\n",
    "plt.hlines(y=0, xmin=5.3, xmax=6.4, lw=2, color='red')\n",
    "plt.xlim([5.3, 6.4])\n",
    "plt.show()"
   ]
  },
  {
   "cell_type": "code",
   "execution_count": 27,
   "metadata": {
    "collapsed": false
   },
   "outputs": [
    {
     "name": "stdout",
     "output_type": "stream",
     "text": [
      "MSE train: 0.602, test: 0.697\n"
     ]
    }
   ],
   "source": [
    "\n",
    "from sklearn.metrics import mean_squared_error\n",
    "print('MSE train: %0.3f, test: %.3f' % (\n",
    "        mean_squared_error(y_train, y_train_pred),\n",
    "        mean_squared_error(y_test, y_test_pred)))"
   ]
  },
  {
   "cell_type": "markdown",
   "metadata": {},
   "source": [
    "# Logistic Regression"
   ]
  },
  {
   "cell_type": "markdown",
   "metadata": {
    "collapsed": true
   },
   "source": [
    "We set y as a 'qualitative value' in particular y>6 implies  'True = good', otherwise 'False = bad'"
   ]
  },
  {
   "cell_type": "code",
   "execution_count": 70,
   "metadata": {
    "collapsed": true
   },
   "outputs": [],
   "source": [
    "y = (df_red['quality'].values >= 6)"
   ]
  },
  {
   "cell_type": "markdown",
   "metadata": {},
   "source": [
    "Now we can consider two PCs from X"
   ]
  },
  {
   "cell_type": "code",
   "execution_count": 71,
   "metadata": {
    "collapsed": false
   },
   "outputs": [
    {
     "data": {
      "text/plain": [
       "array([ 0.94657698,  0.0483683 ])"
      ]
     },
     "execution_count": 71,
     "metadata": {},
     "output_type": "execute_result"
    }
   ],
   "source": [
    "from sklearn.decomposition import PCA\n",
    "pca = PCA(n_components=2)\n",
    "\n",
    "X_pca = pca.fit_transform(X)\n",
    "pca.explained_variance_ratio_"
   ]
  },
  {
   "cell_type": "markdown",
   "metadata": {},
   "source": [
    "We plot our data "
   ]
  },
  {
   "cell_type": "code",
   "execution_count": 72,
   "metadata": {
    "collapsed": false
   },
   "outputs": [
    {
     "data": {
      "image/png": "[encoded data removed]",
      "text/plain": [
       "<matplotlib.figure.Figure at 0x7fbcb3cd2940>"
      ]
     },
     "metadata": {},
     "output_type": "display_data"
    }
   ],
   "source": [
    "plt.scatter(X_pca[:743, 0], X_pca[:743, 1],\n",
    "            color='red', marker='o', label='Bad')\n",
    "plt.scatter(X_pca[744:1598, 0], X_pca[744:1598, 1],\n",
    "            color='blue', marker='x', label='good')\n",
    "plt.xlabel('PC 1')\n",
    "plt.ylabel('PC 2')\n",
    "plt.legend(loc='upper right')\n",
    "plt.show()\n"
   ]
  },
  {
   "cell_type": "markdown",
   "metadata": {},
   "source": [
    "We split our data in training set and test sat"
   ]
  },
  {
   "cell_type": "code",
   "execution_count": 73,
   "metadata": {
    "collapsed": true
   },
   "outputs": [],
   "source": [
    "\n",
    "from sklearn.model_selection import train_test_split\n",
    "X_pca_train, X_pca_test, y_train, y_test = \\\n",
    "train_test_split(X_pca, y, test_size=0.3, random_state=0)\n"
   ]
  },
  {
   "cell_type": "markdown",
   "metadata": {},
   "source": [
    "Now we Normalize our data"
   ]
  },
  {
   "cell_type": "code",
   "execution_count": 74,
   "metadata": {
    "collapsed": true
   },
   "outputs": [],
   "source": [
    "stdsc = StandardScaler()\n",
    "X_pca_train_std = stdsc.fit_transform(X_pca_train)\n",
    "X_pca_test_std = stdsc.transform(X_pca_test)"
   ]
  },
  {
   "cell_type": "markdown",
   "metadata": {},
   "source": [
    "run the logistic regression from sklearn.linear_model"
   ]
  },
  {
   "cell_type": "code",
   "execution_count": 75,
   "metadata": {
    "collapsed": false
   },
   "outputs": [
    {
     "data": {
      "text/plain": [
       "LogisticRegression(C=1000.0, class_weight=None, dual=False,\n",
       "          fit_intercept=True, intercept_scaling=1, max_iter=100,\n",
       "          multi_class='ovr', n_jobs=1, penalty='l2', random_state=0,\n",
       "          solver='liblinear', tol=0.0001, verbose=0, warm_start=False)"
      ]
     },
     "execution_count": 75,
     "metadata": {},
     "output_type": "execute_result"
    }
   ],
   "source": [
    "\n",
    "from sklearn.linear_model import LogisticRegression\n",
    "lr = LogisticRegression(C=1000.0, random_state=0)\n",
    "lr.fit(X_pca_train_std, y_train)"
   ]
  },
  {
   "cell_type": "code",
   "execution_count": 76,
   "metadata": {
    "collapsed": false
   },
   "outputs": [
    {
     "data": {
      "text/plain": [
       "array([[ 0.44099389,  0.55900611],\n",
       "       [ 0.38813725,  0.61186275],\n",
       "       [ 0.37032032,  0.62967968],\n",
       "       [ 0.47493665,  0.52506335],\n",
       "       [ 0.37554141,  0.62445859],\n",
       "       [ 0.42973361,  0.57026639],\n",
       "       [ 0.8105884 ,  0.1894116 ],\n",
       "       [ 0.48956117,  0.51043883],\n",
       "       [ 0.40103652,  0.59896348],\n",
       "       [ 0.5656651 ,  0.4343349 ],\n",
       "       [ 0.62380076,  0.37619924],\n",
       "       [ 0.337258  ,  0.662742  ],\n",
       "       [ 0.35616983,  0.64383017],\n",
       "       [ 0.44449502,  0.55550498],\n",
       "       [ 0.35327399,  0.64672601],\n",
       "       [ 0.45996008,  0.54003992],\n",
       "       [ 0.35949895,  0.64050105],\n",
       "       [ 0.44228161,  0.55771839],\n",
       "       [ 0.41877096,  0.58122904],\n",
       "       [ 0.4422951 ,  0.5577049 ],\n",
       "       [ 0.37313754,  0.62686246],\n",
       "       [ 0.58672129,  0.41327871],\n",
       "       [ 0.44193011,  0.55806989],\n",
       "       [ 0.71824506,  0.28175494],\n",
       "       [ 0.78431553,  0.21568447],\n",
       "       [ 0.41236061,  0.58763939],\n",
       "       [ 0.49014522,  0.50985478],\n",
       "       [ 0.38533629,  0.61466371],\n",
       "       [ 0.41746402,  0.58253598],\n",
       "       [ 0.40675845,  0.59324155],\n",
       "       [ 0.7507129 ,  0.2492871 ],\n",
       "       [ 0.60661994,  0.39338006],\n",
       "       [ 0.41591894,  0.58408106],\n",
       "       [ 0.41160535,  0.58839465],\n",
       "       [ 0.47925618,  0.52074382],\n",
       "       [ 0.83333191,  0.16666809],\n",
       "       [ 0.56375411,  0.43624589],\n",
       "       [ 0.37881961,  0.62118039],\n",
       "       [ 0.36133361,  0.63866639],\n",
       "       [ 0.35643984,  0.64356016],\n",
       "       [ 0.4418601 ,  0.5581399 ],\n",
       "       [ 0.39837175,  0.60162825],\n",
       "       [ 0.38216273,  0.61783727],\n",
       "       [ 0.37577217,  0.62422783],\n",
       "       [ 0.53229089,  0.46770911],\n",
       "       [ 0.37847723,  0.62152277],\n",
       "       [ 0.37386132,  0.62613868],\n",
       "       [ 0.31231494,  0.68768506],\n",
       "       [ 0.40140974,  0.59859026],\n",
       "       [ 0.37335265,  0.62664735],\n",
       "       [ 0.37334744,  0.62665256],\n",
       "       [ 0.37059037,  0.62940963],\n",
       "       [ 0.50533696,  0.49466304],\n",
       "       [ 0.79363951,  0.20636049],\n",
       "       [ 0.36794202,  0.63205798],\n",
       "       [ 0.37331514,  0.62668486],\n",
       "       [ 0.64186393,  0.35813607],\n",
       "       [ 0.38734712,  0.61265288],\n",
       "       [ 0.42282142,  0.57717858],\n",
       "       [ 0.52281478,  0.47718522],\n",
       "       [ 0.39910346,  0.60089654],\n",
       "       [ 0.47045182,  0.52954818],\n",
       "       [ 0.38458943,  0.61541057],\n",
       "       [ 0.79916513,  0.20083487],\n",
       "       [ 0.39364782,  0.60635218],\n",
       "       [ 0.38156049,  0.61843951],\n",
       "       [ 0.35633128,  0.64366872],\n",
       "       [ 0.81488458,  0.18511542],\n",
       "       [ 0.51635785,  0.48364215],\n",
       "       [ 0.35638472,  0.64361528],\n",
       "       [ 0.36497161,  0.63502839],\n",
       "       [ 0.33703216,  0.66296784],\n",
       "       [ 0.42395827,  0.57604173],\n",
       "       [ 0.38124151,  0.61875849],\n",
       "       [ 0.76320717,  0.23679283],\n",
       "       [ 0.36206785,  0.63793215],\n",
       "       [ 0.74254219,  0.25745781],\n",
       "       [ 0.3425621 ,  0.6574379 ],\n",
       "       [ 0.35411646,  0.64588354],\n",
       "       [ 0.37590024,  0.62409976],\n",
       "       [ 0.64438789,  0.35561211],\n",
       "       [ 0.34026888,  0.65973112],\n",
       "       [ 0.35681797,  0.64318203],\n",
       "       [ 0.41168214,  0.58831786],\n",
       "       [ 0.38286315,  0.61713685],\n",
       "       [ 0.50676907,  0.49323093],\n",
       "       [ 0.45674344,  0.54325656],\n",
       "       [ 0.4288381 ,  0.5711619 ],\n",
       "       [ 0.78866922,  0.21133078],\n",
       "       [ 0.43233315,  0.56766685],\n",
       "       [ 0.5034297 ,  0.4965703 ],\n",
       "       [ 0.41605244,  0.58394756],\n",
       "       [ 0.39835357,  0.60164643],\n",
       "       [ 0.39811163,  0.60188837],\n",
       "       [ 0.41264558,  0.58735442],\n",
       "       [ 0.61358698,  0.38641302],\n",
       "       [ 0.34783001,  0.65216999],\n",
       "       [ 0.39351634,  0.60648366],\n",
       "       [ 0.42395827,  0.57604173],\n",
       "       [ 0.36441123,  0.63558877],\n",
       "       [ 0.48521132,  0.51478868],\n",
       "       [ 0.39206606,  0.60793394],\n",
       "       [ 0.43977338,  0.56022662],\n",
       "       [ 0.35943546,  0.64056454],\n",
       "       [ 0.44065277,  0.55934723],\n",
       "       [ 0.43433173,  0.56566827],\n",
       "       [ 0.69700111,  0.30299889],\n",
       "       [ 0.35145772,  0.64854228],\n",
       "       [ 0.41403368,  0.58596632],\n",
       "       [ 0.3847386 ,  0.6152614 ],\n",
       "       [ 0.47754284,  0.52245716],\n",
       "       [ 0.38988131,  0.61011869],\n",
       "       [ 0.38368748,  0.61631252],\n",
       "       [ 0.38997482,  0.61002518],\n",
       "       [ 0.48765578,  0.51234422],\n",
       "       [ 0.36258233,  0.63741767],\n",
       "       [ 0.36856115,  0.63143885],\n",
       "       [ 0.7116338 ,  0.2883662 ],\n",
       "       [ 0.59593487,  0.40406513],\n",
       "       [ 0.33492604,  0.66507396],\n",
       "       [ 0.40912105,  0.59087895],\n",
       "       [ 0.65286422,  0.34713578],\n",
       "       [ 0.38317076,  0.61682924],\n",
       "       [ 0.80755157,  0.19244843],\n",
       "       [ 0.40118118,  0.59881882],\n",
       "       [ 0.35191496,  0.64808504],\n",
       "       [ 0.39296918,  0.60703082],\n",
       "       [ 0.32353405,  0.67646595],\n",
       "       [ 0.49270961,  0.50729039],\n",
       "       [ 0.33451671,  0.66548329],\n",
       "       [ 0.40391521,  0.59608479],\n",
       "       [ 0.51421767,  0.48578233],\n",
       "       [ 0.39154619,  0.60845381],\n",
       "       [ 0.38176968,  0.61823032],\n",
       "       [ 0.37881961,  0.62118039],\n",
       "       [ 0.48519835,  0.51480165],\n",
       "       [ 0.59830409,  0.40169591],\n",
       "       [ 0.68931092,  0.31068908],\n",
       "       [ 0.62052667,  0.37947333],\n",
       "       [ 0.44945625,  0.55054375],\n",
       "       [ 0.49099197,  0.50900803],\n",
       "       [ 0.44986707,  0.55013293],\n",
       "       [ 0.4362279 ,  0.5637721 ],\n",
       "       [ 0.38163882,  0.61836118],\n",
       "       [ 0.62113718,  0.37886282],\n",
       "       [ 0.45303587,  0.54696413],\n",
       "       [ 0.38667111,  0.61332889],\n",
       "       [ 0.4146761 ,  0.5853239 ],\n",
       "       [ 0.40912105,  0.59087895],\n",
       "       [ 0.41586334,  0.58413666],\n",
       "       [ 0.34827783,  0.65172217],\n",
       "       [ 0.36870966,  0.63129034],\n",
       "       [ 0.38103837,  0.61896163],\n",
       "       [ 0.35489362,  0.64510638],\n",
       "       [ 0.36953347,  0.63046653],\n",
       "       [ 0.37719107,  0.62280893],\n",
       "       [ 0.56235451,  0.43764549],\n",
       "       [ 0.48270158,  0.51729842],\n",
       "       [ 0.41536403,  0.58463597],\n",
       "       [ 0.39466771,  0.60533229],\n",
       "       [ 0.44316525,  0.55683475],\n",
       "       [ 0.39048434,  0.60951566],\n",
       "       [ 0.75559461,  0.24440539],\n",
       "       [ 0.39801291,  0.60198709],\n",
       "       [ 0.78655416,  0.21344584],\n",
       "       [ 0.49401929,  0.50598071],\n",
       "       [ 0.43022599,  0.56977401],\n",
       "       [ 0.43857083,  0.56142917],\n",
       "       [ 0.56384831,  0.43615169],\n",
       "       [ 0.40405812,  0.59594188],\n",
       "       [ 0.37794677,  0.62205323],\n",
       "       [ 0.44408106,  0.55591894],\n",
       "       [ 0.73803856,  0.26196144],\n",
       "       [ 0.36840216,  0.63159784],\n",
       "       [ 0.77765159,  0.22234841],\n",
       "       [ 0.43717968,  0.56282032],\n",
       "       [ 0.38324454,  0.61675546],\n",
       "       [ 0.38401877,  0.61598123],\n",
       "       [ 0.28775062,  0.71224938],\n",
       "       [ 0.37322771,  0.62677229],\n",
       "       [ 0.37678871,  0.62321129],\n",
       "       [ 0.49764967,  0.50235033],\n",
       "       [ 0.49542293,  0.50457707],\n",
       "       [ 0.69457293,  0.30542707],\n",
       "       [ 0.38043895,  0.61956105],\n",
       "       [ 0.34334041,  0.65665959],\n",
       "       [ 0.51331947,  0.48668053],\n",
       "       [ 0.51421767,  0.48578233],\n",
       "       [ 0.40422759,  0.59577241],\n",
       "       [ 0.37907528,  0.62092472],\n",
       "       [ 0.40730108,  0.59269892],\n",
       "       [ 0.54403186,  0.45596814],\n",
       "       [ 0.34947644,  0.65052356],\n",
       "       [ 0.54846726,  0.45153274],\n",
       "       [ 0.42378471,  0.57621529],\n",
       "       [ 0.40479575,  0.59520425],\n",
       "       [ 0.43001598,  0.56998402],\n",
       "       [ 0.64186393,  0.35813607],\n",
       "       [ 0.51966324,  0.48033676],\n",
       "       [ 0.67732075,  0.32267925],\n",
       "       [ 0.44354893,  0.55645107],\n",
       "       [ 0.44627434,  0.55372566],\n",
       "       [ 0.53502794,  0.46497206],\n",
       "       [ 0.39328021,  0.60671979],\n",
       "       [ 0.48513383,  0.51486617],\n",
       "       [ 0.39658961,  0.60341039],\n",
       "       [ 0.67355492,  0.32644508],\n",
       "       [ 0.31035799,  0.68964201],\n",
       "       [ 0.42596134,  0.57403866],\n",
       "       [ 0.41961053,  0.58038947],\n",
       "       [ 0.52012719,  0.47987281],\n",
       "       [ 0.52301551,  0.47698449],\n",
       "       [ 0.46912415,  0.53087585],\n",
       "       [ 0.70206996,  0.29793004],\n",
       "       [ 0.55504891,  0.44495109],\n",
       "       [ 0.67659926,  0.32340074],\n",
       "       [ 0.37546527,  0.62453473],\n",
       "       [ 0.33723299,  0.66276701],\n",
       "       [ 0.29325263,  0.70674737],\n",
       "       [ 0.62185947,  0.37814053],\n",
       "       [ 0.53011131,  0.46988869],\n",
       "       [ 0.3879949 ,  0.6120051 ],\n",
       "       [ 0.30549814,  0.69450186],\n",
       "       [ 0.53525214,  0.46474786],\n",
       "       [ 0.52012719,  0.47987281],\n",
       "       [ 0.61540782,  0.38459218],\n",
       "       [ 0.43824332,  0.56175668],\n",
       "       [ 0.36730269,  0.63269731],\n",
       "       [ 0.45687893,  0.54312107],\n",
       "       [ 0.53175911,  0.46824089],\n",
       "       [ 0.40260712,  0.59739288],\n",
       "       [ 0.3913224 ,  0.6086776 ],\n",
       "       [ 0.38430344,  0.61569656],\n",
       "       [ 0.38136905,  0.61863095],\n",
       "       [ 0.48393925,  0.51606075],\n",
       "       [ 0.44951557,  0.55048443],\n",
       "       [ 0.50333408,  0.49666592],\n",
       "       [ 0.37680974,  0.62319026],\n",
       "       [ 0.42252404,  0.57747596],\n",
       "       [ 0.66334764,  0.33665236],\n",
       "       [ 0.34660988,  0.65339012],\n",
       "       [ 0.36566255,  0.63433745],\n",
       "       [ 0.53350824,  0.46649176],\n",
       "       [ 0.39094992,  0.60905008],\n",
       "       [ 0.37397539,  0.62602461],\n",
       "       [ 0.62353896,  0.37646104],\n",
       "       [ 0.42596134,  0.57403866],\n",
       "       [ 0.3551287 ,  0.6448713 ],\n",
       "       [ 0.37260587,  0.62739413],\n",
       "       [ 0.33564178,  0.66435822],\n",
       "       [ 0.36206785,  0.63793215],\n",
       "       [ 0.37907528,  0.62092472],\n",
       "       [ 0.63970409,  0.36029591],\n",
       "       [ 0.47890406,  0.52109594],\n",
       "       [ 0.39696322,  0.60303678],\n",
       "       [ 0.38264716,  0.61735284],\n",
       "       [ 0.4302567 ,  0.5697433 ],\n",
       "       [ 0.38458871,  0.61541129],\n",
       "       [ 0.3660765 ,  0.6339235 ],\n",
       "       [ 0.56404723,  0.43595277],\n",
       "       [ 0.42488075,  0.57511925],\n",
       "       [ 0.46223581,  0.53776419],\n",
       "       [ 0.7614693 ,  0.2385307 ],\n",
       "       [ 0.53916382,  0.46083618],\n",
       "       [ 0.29305067,  0.70694933],\n",
       "       [ 0.47038532,  0.52961468],\n",
       "       [ 0.36863072,  0.63136928],\n",
       "       [ 0.46201797,  0.53798203],\n",
       "       [ 0.67913161,  0.32086839],\n",
       "       [ 0.43502157,  0.56497843],\n",
       "       [ 0.50874112,  0.49125888],\n",
       "       [ 0.39244832,  0.60755168],\n",
       "       [ 0.38300823,  0.61699177],\n",
       "       [ 0.35405523,  0.64594477],\n",
       "       [ 0.55854075,  0.44145925],\n",
       "       [ 0.54250196,  0.45749804],\n",
       "       [ 0.51158456,  0.48841544],\n",
       "       [ 0.4362279 ,  0.5637721 ],\n",
       "       [ 0.60741434,  0.39258566],\n",
       "       [ 0.61963771,  0.38036229],\n",
       "       [ 0.4530656 ,  0.5469344 ],\n",
       "       [ 0.7085611 ,  0.2914389 ],\n",
       "       [ 0.38153051,  0.61846949],\n",
       "       [ 0.6452897 ,  0.3547103 ],\n",
       "       [ 0.39691145,  0.60308855],\n",
       "       [ 0.3647251 ,  0.6352749 ],\n",
       "       [ 0.62585035,  0.37414965],\n",
       "       [ 0.34783001,  0.65216999],\n",
       "       [ 0.58385863,  0.41614137],\n",
       "       [ 0.87019414,  0.12980586],\n",
       "       [ 0.4948663 ,  0.5051337 ],\n",
       "       [ 0.39248351,  0.60751649],\n",
       "       [ 0.74798369,  0.25201631],\n",
       "       [ 0.38377674,  0.61622326],\n",
       "       [ 0.35676555,  0.64323445],\n",
       "       [ 0.40378572,  0.59621428],\n",
       "       [ 0.34559697,  0.65440303],\n",
       "       [ 0.43272821,  0.56727179],\n",
       "       [ 0.61582649,  0.38417351],\n",
       "       [ 0.3926108 ,  0.6073892 ],\n",
       "       [ 0.36963407,  0.63036593],\n",
       "       [ 0.4541295 ,  0.5458705 ],\n",
       "       [ 0.41783314,  0.58216686],\n",
       "       [ 0.79363951,  0.20636049],\n",
       "       [ 0.40501449,  0.59498551],\n",
       "       [ 0.35660884,  0.64339116],\n",
       "       [ 0.34437346,  0.65562654],\n",
       "       [ 0.40129009,  0.59870991],\n",
       "       [ 0.85451184,  0.14548816],\n",
       "       [ 0.54764669,  0.45235331],\n",
       "       [ 0.88172712,  0.11827288],\n",
       "       [ 0.40452703,  0.59547297],\n",
       "       [ 0.32623078,  0.67376922],\n",
       "       [ 0.39819366,  0.60180634],\n",
       "       [ 0.32909049,  0.67090951],\n",
       "       [ 0.36811523,  0.63188477],\n",
       "       [ 0.55266225,  0.44733775],\n",
       "       [ 0.35427832,  0.64572168],\n",
       "       [ 0.31264719,  0.68735281],\n",
       "       [ 0.46406162,  0.53593838],\n",
       "       [ 0.40864589,  0.59135411],\n",
       "       [ 0.77019028,  0.22980972],\n",
       "       [ 0.72359017,  0.27640983],\n",
       "       [ 0.85509861,  0.14490139],\n",
       "       [ 0.58704049,  0.41295951],\n",
       "       [ 0.7303033 ,  0.2696967 ],\n",
       "       [ 0.82011099,  0.17988901],\n",
       "       [ 0.56060952,  0.43939048],\n",
       "       [ 0.37344007,  0.62655993],\n",
       "       [ 0.79546659,  0.20453341],\n",
       "       [ 0.39286374,  0.60713626],\n",
       "       [ 0.85906777,  0.14093223],\n",
       "       [ 0.36554768,  0.63445232],\n",
       "       [ 0.38841657,  0.61158343],\n",
       "       [ 0.58356341,  0.41643659],\n",
       "       [ 0.6283747 ,  0.3716253 ],\n",
       "       [ 0.69700111,  0.30299889],\n",
       "       [ 0.33394101,  0.66605899],\n",
       "       [ 0.67412083,  0.32587917],\n",
       "       [ 0.3894676 ,  0.6105324 ],\n",
       "       [ 0.50420406,  0.49579594],\n",
       "       [ 0.61582649,  0.38417351],\n",
       "       [ 0.39463106,  0.60536894],\n",
       "       [ 0.35553486,  0.64446514],\n",
       "       [ 0.43266562,  0.56733438],\n",
       "       [ 0.4657832 ,  0.5342168 ],\n",
       "       [ 0.35638472,  0.64361528],\n",
       "       [ 0.46132376,  0.53867624],\n",
       "       [ 0.32337925,  0.67662075],\n",
       "       [ 0.42179643,  0.57820357],\n",
       "       [ 0.38428996,  0.61571004],\n",
       "       [ 0.38421725,  0.61578275],\n",
       "       [ 0.78033105,  0.21966895],\n",
       "       [ 0.66880898,  0.33119102],\n",
       "       [ 0.5320919 ,  0.4679081 ],\n",
       "       [ 0.36424794,  0.63575206],\n",
       "       [ 0.4155447 ,  0.5844553 ],\n",
       "       [ 0.40588763,  0.59411237],\n",
       "       [ 0.51783878,  0.48216122],\n",
       "       [ 0.36225097,  0.63774903],\n",
       "       [ 0.46534312,  0.53465688],\n",
       "       [ 0.36686254,  0.63313746],\n",
       "       [ 0.81659324,  0.18340676],\n",
       "       [ 0.61453189,  0.38546811],\n",
       "       [ 0.40912105,  0.59087895],\n",
       "       [ 0.44423109,  0.55576891],\n",
       "       [ 0.78806204,  0.21193796],\n",
       "       [ 0.39263864,  0.60736136],\n",
       "       [ 0.34819211,  0.65180789],\n",
       "       [ 0.37967785,  0.62032215],\n",
       "       [ 0.47630373,  0.52369627],\n",
       "       [ 0.44517174,  0.55482826],\n",
       "       [ 0.32990901,  0.67009099],\n",
       "       [ 0.3704155 ,  0.6295845 ],\n",
       "       [ 0.3528244 ,  0.6471756 ],\n",
       "       [ 0.35709118,  0.64290882],\n",
       "       [ 0.35915393,  0.64084607],\n",
       "       [ 0.54885299,  0.45114701],\n",
       "       [ 0.44951557,  0.55048443],\n",
       "       [ 0.38043283,  0.61956717],\n",
       "       [ 0.51717743,  0.48282257],\n",
       "       [ 0.37032032,  0.62967968],\n",
       "       [ 0.47508447,  0.52491553],\n",
       "       [ 0.47491623,  0.52508377],\n",
       "       [ 0.40444779,  0.59555221],\n",
       "       [ 0.78633736,  0.21366264],\n",
       "       [ 0.42586354,  0.57413646],\n",
       "       [ 0.4006801 ,  0.5993199 ],\n",
       "       [ 0.86498658,  0.13501342],\n",
       "       [ 0.43154895,  0.56845105],\n",
       "       [ 0.33725039,  0.66274961],\n",
       "       [ 0.48288984,  0.51711016],\n",
       "       [ 0.34383882,  0.65616118],\n",
       "       [ 0.39819293,  0.60180707],\n",
       "       [ 0.59002116,  0.40997884],\n",
       "       [ 0.36233477,  0.63766523],\n",
       "       [ 0.39865636,  0.60134364],\n",
       "       [ 0.73508632,  0.26491368],\n",
       "       [ 0.35960799,  0.64039201],\n",
       "       [ 0.44086361,  0.55913639],\n",
       "       [ 0.46223581,  0.53776419],\n",
       "       [ 0.44086361,  0.55913639],\n",
       "       [ 0.62841957,  0.37158043],\n",
       "       [ 0.45488795,  0.54511205],\n",
       "       [ 0.35126466,  0.64873534],\n",
       "       [ 0.35627648,  0.64372352],\n",
       "       [ 0.39288665,  0.60711335],\n",
       "       [ 0.36769484,  0.63230516],\n",
       "       [ 0.39828332,  0.60171668],\n",
       "       [ 0.42946251,  0.57053749],\n",
       "       [ 0.68440924,  0.31559076],\n",
       "       [ 0.33759387,  0.66240613],\n",
       "       [ 0.73151117,  0.26848883],\n",
       "       [ 0.39556912,  0.60443088],\n",
       "       [ 0.70835058,  0.29164942],\n",
       "       [ 0.65687231,  0.34312769],\n",
       "       [ 0.88172712,  0.11827288],\n",
       "       [ 0.41378564,  0.58621436],\n",
       "       [ 0.41011567,  0.58988433],\n",
       "       [ 0.43198901,  0.56801099],\n",
       "       [ 0.43839751,  0.56160249],\n",
       "       [ 0.65347715,  0.34652285],\n",
       "       [ 0.38705552,  0.61294448],\n",
       "       [ 0.42652547,  0.57347453],\n",
       "       [ 0.41103322,  0.58896678],\n",
       "       [ 0.42572612,  0.57427388],\n",
       "       [ 0.35678438,  0.64321562],\n",
       "       [ 0.36138945,  0.63861055],\n",
       "       [ 0.43540016,  0.56459984],\n",
       "       [ 0.34850165,  0.65149835],\n",
       "       [ 0.48915662,  0.51084338],\n",
       "       [ 0.43244283,  0.56755717],\n",
       "       [ 0.46897224,  0.53102776],\n",
       "       [ 0.61534838,  0.38465162],\n",
       "       [ 0.50890815,  0.49109185],\n",
       "       [ 0.39598818,  0.60401182],\n",
       "       [ 0.58782892,  0.41217108],\n",
       "       [ 0.63160664,  0.36839336],\n",
       "       [ 0.47321007,  0.52678993],\n",
       "       [ 0.43778885,  0.56221115],\n",
       "       [ 0.40041742,  0.59958258],\n",
       "       [ 0.47619082,  0.52380918],\n",
       "       [ 0.54643871,  0.45356129],\n",
       "       [ 0.8717143 ,  0.1282857 ],\n",
       "       [ 0.3955854 ,  0.6044146 ],\n",
       "       [ 0.4103986 ,  0.5896014 ],\n",
       "       [ 0.38667111,  0.61332889],\n",
       "       [ 0.55112467,  0.44887533],\n",
       "       [ 0.42722106,  0.57277894],\n",
       "       [ 0.39391458,  0.60608542],\n",
       "       [ 0.46769395,  0.53230605],\n",
       "       [ 0.55504891,  0.44495109],\n",
       "       [ 0.39440398,  0.60559602],\n",
       "       [ 0.44086361,  0.55913639],\n",
       "       [ 0.37247059,  0.62752941],\n",
       "       [ 0.4148613 ,  0.5851387 ],\n",
       "       [ 0.70489911,  0.29510089],\n",
       "       [ 0.37621729,  0.62378271],\n",
       "       [ 0.38731898,  0.61268102],\n",
       "       [ 0.59492384,  0.40507616],\n",
       "       [ 0.36483159,  0.63516841],\n",
       "       [ 0.43873728,  0.56126272],\n",
       "       [ 0.42111858,  0.57888142],\n",
       "       [ 0.37967785,  0.62032215],\n",
       "       [ 0.46200997,  0.53799003],\n",
       "       [ 0.48096576,  0.51903424],\n",
       "       [ 0.499991  ,  0.500009  ],\n",
       "       [ 0.40652354,  0.59347646],\n",
       "       [ 0.73029885,  0.26970115],\n",
       "       [ 0.66751136,  0.33248864],\n",
       "       [ 0.41804867,  0.58195133],\n",
       "       [ 0.42828804,  0.57171196],\n",
       "       [ 0.37448366,  0.62551634],\n",
       "       [ 0.45059161,  0.54940839],\n",
       "       [ 0.51424399,  0.48575601],\n",
       "       [ 0.39329492,  0.60670508],\n",
       "       [ 0.39816877,  0.60183123],\n",
       "       [ 0.37040321,  0.62959679],\n",
       "       [ 0.49386555,  0.50613445],\n",
       "       [ 0.5537157 ,  0.4462843 ]])"
      ]
     },
     "execution_count": 76,
     "metadata": {},
     "output_type": "execute_result"
    }
   ],
   "source": [
    "lr.predict_proba (X_pca_test_std)"
   ]
  },
  {
   "cell_type": "code",
   "execution_count": 77,
   "metadata": {
    "collapsed": true
   },
   "outputs": [],
   "source": [
    "X_pca_combined_std = np.vstack((X_pca_train_std, X_pca_test_std))\n",
    "y_combined = np.hstack((y_train, y_test))"
   ]
  },
  {
   "cell_type": "markdown",
   "metadata": {},
   "source": [
    "We want to plot the decision regions using the Logistic regression classifier"
   ]
  },
  {
   "cell_type": "code",
   "execution_count": 78,
   "metadata": {
    "collapsed": true
   },
   "outputs": [],
   "source": [
    "from matplotlib.colors import ListedColormap\n",
    "\n",
    "\n",
    "def plot_decision_regions(X, y, classifier, resolution=0.02):\n",
    "\n",
    "    \n",
    "    markers = ('s', 'x', 'o', '^', 'v')\n",
    "    colors = ('red', 'blue', 'lightgreen', 'gray', 'cyan')\n",
    "    cmap = ListedColormap(colors[:len(np.unique(y))])\n",
    "\n",
    "    \n",
    "    x1_min, x1_max = X[:, 0].min() - 1, X[:, 0].max() + 1\n",
    "    x2_min, x2_max = X[:, 1].min() - 1, X[:, 1].max() + 1\n",
    "    xx1, xx2 = np.meshgrid(np.arange(x1_min, x1_max, resolution),\n",
    "                           np.arange(x2_min, x2_max, resolution))\n",
    "    Z = classifier.predict(np.array([xx1.ravel(), xx2.ravel()]).T)\n",
    "    Z = Z.reshape(xx1.shape)\n",
    "    plt.contourf(xx1, xx2, Z, alpha=0.4, cmap=cmap)\n",
    "    plt.xlim(xx1.min(), xx1.max())\n",
    "    plt.ylim(xx2.min(), xx2.max())\n",
    "\n",
    "\n",
    "    for idx, cl in enumerate(np.unique(y)):\n",
    "        plt.scatter(x=X[y == cl, 0], y=X[y == cl, 1],\n",
    "                    alpha=0.8, c=cmap(idx),\n",
    "                    marker=markers[idx], label=cl)"
   ]
  },
  {
   "cell_type": "code",
   "execution_count": 80,
   "metadata": {
    "collapsed": false
   },
   "outputs": [
    {
     "data": {
      "image/png": "[encoded data removed]",
      "text/plain": [
       "<matplotlib.figure.Figure at 0x7fbcb3e1c908>"
      ]
     },
     "metadata": {},
     "output_type": "display_data"
    }
   ],
   "source": [
    "    \n",
    "plot_decision_regions(X_pca_combined_std, y_combined, classifier=lr)\n",
    "plt.xlabel('PC1')\n",
    "plt.ylabel('PC2')\n",
    "plt.legend(loc='upper right')\n",
    "\n",
    "plt.tight_layout()\n",
    "\n",
    "plt.show()\n",
    "\n",
    "\n"
   ]
  },
  {
   "cell_type": "markdown",
   "metadata": {},
   "source": [
    "# SVM\n"
   ]
  },
  {
   "cell_type": "markdown",
   "metadata": {},
   "source": [
    "We use SVC from sklearn.svm as a classifier for our y variable, with linear kernel"
   ]
  },
  {
   "cell_type": "code",
   "execution_count": 81,
   "metadata": {
    "collapsed": false
   },
   "outputs": [
    {
     "data": {
      "text/plain": [
       "SVC(C=1.0, cache_size=200, class_weight=None, coef0=0.0,\n",
       "  decision_function_shape=None, degree=3, gamma='auto', kernel='linear',\n",
       "  max_iter=-1, probability=False, random_state=0, shrinking=True,\n",
       "  tol=0.001, verbose=False)"
      ]
     },
     "execution_count": 81,
     "metadata": {},
     "output_type": "execute_result"
    }
   ],
   "source": [
    "from sklearn.svm import SVC\n",
    "svm= SVC(kernel='linear', C=1.0, random_state=0)\n",
    "svm.fit(X_pca_train_std, y_train)"
   ]
  },
  {
   "cell_type": "code",
   "execution_count": 82,
   "metadata": {
    "collapsed": false
   },
   "outputs": [
    {
     "data": {
      "image/png": "[encoded data removed]",
      "text/plain": [
       "<matplotlib.figure.Figure at 0x7fbcb3c46898>"
      ]
     },
     "metadata": {},
     "output_type": "display_data"
    }
   ],
   "source": [
    "plot_decision_regions(X_pca_combined_std,\n",
    "                      y_combined, classifier= svm)\n",
    "plt.xlabel('fixed acidity [standardized]')\n",
    "plt.ylabel('pH [standardized')\n",
    "plt.legend(loc='upper right')\n",
    "plt.show()"
   ]
  },
  {
   "cell_type": "markdown",
   "metadata": {},
   "source": [
    "In this case we use Radial basis function as kernel"
   ]
  },
  {
   "cell_type": "code",
   "execution_count": 87,
   "metadata": {
    "collapsed": false
   },
   "outputs": [
    {
     "data": {
      "text/plain": [
       "SVC(C=10.0, cache_size=200, class_weight=None, coef0=0.0,\n",
       "  decision_function_shape=None, degree=3, gamma=1.1, kernel='rbf',\n",
       "  max_iter=-1, probability=False, random_state=0, shrinking=True,\n",
       "  tol=0.001, verbose=False)"
      ]
     },
     "execution_count": 87,
     "metadata": {},
     "output_type": "execute_result"
    }
   ],
   "source": [
    "svm1= SVC(kernel='rbf', gamma = 1.1, C=10.0, random_state=0)\n",
    "svm1.fit(X_pca_train_std, y_train)\n"
   ]
  },
  {
   "cell_type": "code",
   "execution_count": 89,
   "metadata": {
    "collapsed": false
   },
   "outputs": [
    {
     "data": {
      "image/png": "[encoded data removed]",
      "text/plain": [
       "<matplotlib.figure.Figure at 0x7fbcb80dbb00>"
      ]
     },
     "metadata": {},
     "output_type": "display_data"
    }
   ],
   "source": [
    "plot_decision_regions(X_pca_combined_std,\n",
    "                      y_combined, classifier= svm1)\n",
    "plt.xlabel('fixed acidity [standardized]')\n",
    "plt.ylabel('pH [standardized]')\n",
    "plt.legend(loc='upper right')\n",
    "plt.show()\n"
   ]
  },
  {
   "cell_type": "markdown",
   "metadata": {},
   "source": [
    "# KNN neighbours\n"
   ]
  },
  {
   "cell_type": "markdown",
   "metadata": {},
   "source": [
    "WE performe Knn neighbours as classifier."
   ]
  },
  {
   "cell_type": "code",
   "execution_count": 85,
   "metadata": {
    "collapsed": false
   },
   "outputs": [
    {
     "data": {
      "text/plain": [
       "KNeighborsClassifier(algorithm='auto', leaf_size=30, metric='minkowski',\n",
       "           metric_params=None, n_jobs=1, n_neighbors=5, p=2,\n",
       "           weights='uniform')"
      ]
     },
     "execution_count": 85,
     "metadata": {},
     "output_type": "execute_result"
    }
   ],
   "source": [
    "from sklearn.neighbors import KNeighborsClassifier\n",
    "knn = KNeighborsClassifier(n_neighbors=5, p=2, metric='minkowski')\n",
    "knn.fit(X_pca_train_std, y_train)\n"
   ]
  },
  {
   "cell_type": "code",
   "execution_count": 86,
   "metadata": {
    "collapsed": false
   },
   "outputs": [
    {
     "data": {
      "image/png": "[encoded data removed]",
      "text/plain": [
       "<matplotlib.figure.Figure at 0x7fbcb3f18e80>"
      ]
     },
     "metadata": {},
     "output_type": "display_data"
    }
   ],
   "source": [
    "plot_decision_regions(X_pca_combined_std, y_combined, classifier=knn)\n",
    "plt.xlabel('fixed acidity [standardized]')\n",
    "plt.ylabel('pH [standardized')\n",
    "plt.legend(loc='upper right')\n",
    "plt.show()\n"
   ]
  },
  {
   "cell_type": "code",
   "execution_count": null,
   "metadata": {
    "collapsed": true
   },
   "outputs": [],
   "source": []
  }
 ],
 "metadata": {
  "kernelspec": {
   "display_name": "Python 3",
   "language": "python",
   "name": "python3"
  },
  "language_info": {
   "codemirror_mode": {
    "name": "ipython",
    "version": 3
   },
   "file_extension": ".py",
   "mimetype": "text/x-python",
   "name": "python",
   "nbconvert_exporter": "python",
   "pygments_lexer": "ipython3",
   "version": "3.6.0"
  }
 },
 "nbformat": 4,
 "nbformat_minor": 2
}
