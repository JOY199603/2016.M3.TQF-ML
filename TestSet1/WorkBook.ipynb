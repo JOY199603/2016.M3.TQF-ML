{
 "cells": [
  {
   "cell_type": "code",
   "execution_count": 129,
   "metadata": {
    "collapsed": true
   },
   "outputs": [],
   "source": [
    "import pandas as pd\n",
    "import numpy as np"
   ]
  },
  {
   "cell_type": "code",
   "execution_count": 130,
   "metadata": {
    "collapsed": false
   },
   "outputs": [],
   "source": [
    "df_red = pd.read_csv('http://archive.ics.uci.edu/ml/machine-learning-databases/wine-quality/winequality-red.csv', sep=\";\")\n",
    "df_white = pd.read_csv('http://archive.ics.uci.edu/ml/machine-learning-databases/wine-quality/winequality-red.csv', sep=\";\")"
   ]
  },
  {
   "cell_type": "markdown",
   "metadata": {},
   "source": [
    "If your internet connection is slow, you can directly read from the local files. Uncomment (remove #) before you execute."
   ]
  },
  {
   "cell_type": "code",
   "execution_count": 131,
   "metadata": {
    "collapsed": false
   },
   "outputs": [],
   "source": [
    "#df_red = pd.read_csv('winequality-red.csv', sep=\";\")\n",
    "#df_white = pd.read_csv('winequality-red.csv', sep=\";\")"
   ]
  },
  {
   "cell_type": "code",
   "execution_count": 132,
   "metadata": {
    "collapsed": false,
    "scrolled": true
   },
   "outputs": [
    {
     "data": {
      "text/html": [
       "<div>\n",
       "<table border=\"1\" class=\"dataframe\">\n",
       "  <thead>\n",
       "    <tr style=\"text-align: right;\">\n",
       "      <th></th>\n",
       "      <th>fixed acidity</th>\n",
       "      <th>volatile acidity</th>\n",
       "      <th>citric acid</th>\n",
       "      <th>residual sugar</th>\n",
       "      <th>chlorides</th>\n",
       "      <th>free sulfur dioxide</th>\n",
       "      <th>total sulfur dioxide</th>\n",
       "      <th>density</th>\n",
       "      <th>pH</th>\n",
       "      <th>sulphates</th>\n",
       "      <th>alcohol</th>\n",
       "      <th>quality</th>\n",
       "    </tr>\n",
       "  </thead>\n",
       "  <tbody>\n",
       "    <tr>\n",
       "      <th>0</th>\n",
       "      <td>7.4</td>\n",
       "      <td>0.70</td>\n",
       "      <td>0.00</td>\n",
       "      <td>1.9</td>\n",
       "      <td>0.076</td>\n",
       "      <td>11.0</td>\n",
       "      <td>34.0</td>\n",
       "      <td>0.9978</td>\n",
       "      <td>3.51</td>\n",
       "      <td>0.56</td>\n",
       "      <td>9.4</td>\n",
       "      <td>5</td>\n",
       "    </tr>\n",
       "    <tr>\n",
       "      <th>1</th>\n",
       "      <td>7.8</td>\n",
       "      <td>0.88</td>\n",
       "      <td>0.00</td>\n",
       "      <td>2.6</td>\n",
       "      <td>0.098</td>\n",
       "      <td>25.0</td>\n",
       "      <td>67.0</td>\n",
       "      <td>0.9968</td>\n",
       "      <td>3.20</td>\n",
       "      <td>0.68</td>\n",
       "      <td>9.8</td>\n",
       "      <td>5</td>\n",
       "    </tr>\n",
       "    <tr>\n",
       "      <th>2</th>\n",
       "      <td>7.8</td>\n",
       "      <td>0.76</td>\n",
       "      <td>0.04</td>\n",
       "      <td>2.3</td>\n",
       "      <td>0.092</td>\n",
       "      <td>15.0</td>\n",
       "      <td>54.0</td>\n",
       "      <td>0.9970</td>\n",
       "      <td>3.26</td>\n",
       "      <td>0.65</td>\n",
       "      <td>9.8</td>\n",
       "      <td>5</td>\n",
       "    </tr>\n",
       "    <tr>\n",
       "      <th>3</th>\n",
       "      <td>11.2</td>\n",
       "      <td>0.28</td>\n",
       "      <td>0.56</td>\n",
       "      <td>1.9</td>\n",
       "      <td>0.075</td>\n",
       "      <td>17.0</td>\n",
       "      <td>60.0</td>\n",
       "      <td>0.9980</td>\n",
       "      <td>3.16</td>\n",
       "      <td>0.58</td>\n",
       "      <td>9.8</td>\n",
       "      <td>6</td>\n",
       "    </tr>\n",
       "    <tr>\n",
       "      <th>4</th>\n",
       "      <td>7.4</td>\n",
       "      <td>0.70</td>\n",
       "      <td>0.00</td>\n",
       "      <td>1.9</td>\n",
       "      <td>0.076</td>\n",
       "      <td>11.0</td>\n",
       "      <td>34.0</td>\n",
       "      <td>0.9978</td>\n",
       "      <td>3.51</td>\n",
       "      <td>0.56</td>\n",
       "      <td>9.4</td>\n",
       "      <td>5</td>\n",
       "    </tr>\n",
       "  </tbody>\n",
       "</table>\n",
       "</div>"
      ],
      "text/plain": [
       "   fixed acidity  volatile acidity  citric acid  residual sugar  chlorides  \\\n",
       "0            7.4              0.70         0.00             1.9      0.076   \n",
       "1            7.8              0.88         0.00             2.6      0.098   \n",
       "2            7.8              0.76         0.04             2.3      0.092   \n",
       "3           11.2              0.28         0.56             1.9      0.075   \n",
       "4            7.4              0.70         0.00             1.9      0.076   \n",
       "\n",
       "   free sulfur dioxide  total sulfur dioxide  density    pH  sulphates  \\\n",
       "0                 11.0                  34.0   0.9978  3.51       0.56   \n",
       "1                 25.0                  67.0   0.9968  3.20       0.68   \n",
       "2                 15.0                  54.0   0.9970  3.26       0.65   \n",
       "3                 17.0                  60.0   0.9980  3.16       0.58   \n",
       "4                 11.0                  34.0   0.9978  3.51       0.56   \n",
       "\n",
       "   alcohol  quality  \n",
       "0      9.4        5  \n",
       "1      9.8        5  \n",
       "2      9.8        5  \n",
       "3      9.8        6  \n",
       "4      9.4        5  "
      ]
     },
     "execution_count": 132,
     "metadata": {},
     "output_type": "execute_result"
    }
   ],
   "source": [
    "df_red.head()"
   ]
  },
  {
   "cell_type": "code",
   "execution_count": 133,
   "metadata": {
    "collapsed": false,
    "scrolled": true
   },
   "outputs": [
    {
     "data": {
      "text/html": [
       "<div>\n",
       "<table border=\"1\" class=\"dataframe\">\n",
       "  <thead>\n",
       "    <tr style=\"text-align: right;\">\n",
       "      <th></th>\n",
       "      <th>count</th>\n",
       "      <th>mean</th>\n",
       "      <th>std</th>\n",
       "      <th>min</th>\n",
       "      <th>25%</th>\n",
       "      <th>50%</th>\n",
       "      <th>75%</th>\n",
       "      <th>max</th>\n",
       "    </tr>\n",
       "  </thead>\n",
       "  <tbody>\n",
       "    <tr>\n",
       "      <th>fixed acidity</th>\n",
       "      <td>1599.0</td>\n",
       "      <td>8.319637</td>\n",
       "      <td>1.741096</td>\n",
       "      <td>4.60000</td>\n",
       "      <td>7.1000</td>\n",
       "      <td>7.90000</td>\n",
       "      <td>9.200000</td>\n",
       "      <td>15.90000</td>\n",
       "    </tr>\n",
       "    <tr>\n",
       "      <th>volatile acidity</th>\n",
       "      <td>1599.0</td>\n",
       "      <td>0.527821</td>\n",
       "      <td>0.179060</td>\n",
       "      <td>0.12000</td>\n",
       "      <td>0.3900</td>\n",
       "      <td>0.52000</td>\n",
       "      <td>0.640000</td>\n",
       "      <td>1.58000</td>\n",
       "    </tr>\n",
       "    <tr>\n",
       "      <th>citric acid</th>\n",
       "      <td>1599.0</td>\n",
       "      <td>0.270976</td>\n",
       "      <td>0.194801</td>\n",
       "      <td>0.00000</td>\n",
       "      <td>0.0900</td>\n",
       "      <td>0.26000</td>\n",
       "      <td>0.420000</td>\n",
       "      <td>1.00000</td>\n",
       "    </tr>\n",
       "    <tr>\n",
       "      <th>residual sugar</th>\n",
       "      <td>1599.0</td>\n",
       "      <td>2.538806</td>\n",
       "      <td>1.409928</td>\n",
       "      <td>0.90000</td>\n",
       "      <td>1.9000</td>\n",
       "      <td>2.20000</td>\n",
       "      <td>2.600000</td>\n",
       "      <td>15.50000</td>\n",
       "    </tr>\n",
       "    <tr>\n",
       "      <th>chlorides</th>\n",
       "      <td>1599.0</td>\n",
       "      <td>0.087467</td>\n",
       "      <td>0.047065</td>\n",
       "      <td>0.01200</td>\n",
       "      <td>0.0700</td>\n",
       "      <td>0.07900</td>\n",
       "      <td>0.090000</td>\n",
       "      <td>0.61100</td>\n",
       "    </tr>\n",
       "    <tr>\n",
       "      <th>free sulfur dioxide</th>\n",
       "      <td>1599.0</td>\n",
       "      <td>15.874922</td>\n",
       "      <td>10.460157</td>\n",
       "      <td>1.00000</td>\n",
       "      <td>7.0000</td>\n",
       "      <td>14.00000</td>\n",
       "      <td>21.000000</td>\n",
       "      <td>72.00000</td>\n",
       "    </tr>\n",
       "    <tr>\n",
       "      <th>total sulfur dioxide</th>\n",
       "      <td>1599.0</td>\n",
       "      <td>46.467792</td>\n",
       "      <td>32.895324</td>\n",
       "      <td>6.00000</td>\n",
       "      <td>22.0000</td>\n",
       "      <td>38.00000</td>\n",
       "      <td>62.000000</td>\n",
       "      <td>289.00000</td>\n",
       "    </tr>\n",
       "    <tr>\n",
       "      <th>density</th>\n",
       "      <td>1599.0</td>\n",
       "      <td>0.996747</td>\n",
       "      <td>0.001887</td>\n",
       "      <td>0.99007</td>\n",
       "      <td>0.9956</td>\n",
       "      <td>0.99675</td>\n",
       "      <td>0.997835</td>\n",
       "      <td>1.00369</td>\n",
       "    </tr>\n",
       "    <tr>\n",
       "      <th>pH</th>\n",
       "      <td>1599.0</td>\n",
       "      <td>3.311113</td>\n",
       "      <td>0.154386</td>\n",
       "      <td>2.74000</td>\n",
       "      <td>3.2100</td>\n",
       "      <td>3.31000</td>\n",
       "      <td>3.400000</td>\n",
       "      <td>4.01000</td>\n",
       "    </tr>\n",
       "    <tr>\n",
       "      <th>sulphates</th>\n",
       "      <td>1599.0</td>\n",
       "      <td>0.658149</td>\n",
       "      <td>0.169507</td>\n",
       "      <td>0.33000</td>\n",
       "      <td>0.5500</td>\n",
       "      <td>0.62000</td>\n",
       "      <td>0.730000</td>\n",
       "      <td>2.00000</td>\n",
       "    </tr>\n",
       "    <tr>\n",
       "      <th>alcohol</th>\n",
       "      <td>1599.0</td>\n",
       "      <td>10.422983</td>\n",
       "      <td>1.065668</td>\n",
       "      <td>8.40000</td>\n",
       "      <td>9.5000</td>\n",
       "      <td>10.20000</td>\n",
       "      <td>11.100000</td>\n",
       "      <td>14.90000</td>\n",
       "    </tr>\n",
       "    <tr>\n",
       "      <th>quality</th>\n",
       "      <td>1599.0</td>\n",
       "      <td>5.636023</td>\n",
       "      <td>0.807569</td>\n",
       "      <td>3.00000</td>\n",
       "      <td>5.0000</td>\n",
       "      <td>6.00000</td>\n",
       "      <td>6.000000</td>\n",
       "      <td>8.00000</td>\n",
       "    </tr>\n",
       "  </tbody>\n",
       "</table>\n",
       "</div>"
      ],
      "text/plain": [
       "                       count       mean        std      min      25%  \\\n",
       "fixed acidity         1599.0   8.319637   1.741096  4.60000   7.1000   \n",
       "volatile acidity      1599.0   0.527821   0.179060  0.12000   0.3900   \n",
       "citric acid           1599.0   0.270976   0.194801  0.00000   0.0900   \n",
       "residual sugar        1599.0   2.538806   1.409928  0.90000   1.9000   \n",
       "chlorides             1599.0   0.087467   0.047065  0.01200   0.0700   \n",
       "free sulfur dioxide   1599.0  15.874922  10.460157  1.00000   7.0000   \n",
       "total sulfur dioxide  1599.0  46.467792  32.895324  6.00000  22.0000   \n",
       "density               1599.0   0.996747   0.001887  0.99007   0.9956   \n",
       "pH                    1599.0   3.311113   0.154386  2.74000   3.2100   \n",
       "sulphates             1599.0   0.658149   0.169507  0.33000   0.5500   \n",
       "alcohol               1599.0  10.422983   1.065668  8.40000   9.5000   \n",
       "quality               1599.0   5.636023   0.807569  3.00000   5.0000   \n",
       "\n",
       "                           50%        75%        max  \n",
       "fixed acidity          7.90000   9.200000   15.90000  \n",
       "volatile acidity       0.52000   0.640000    1.58000  \n",
       "citric acid            0.26000   0.420000    1.00000  \n",
       "residual sugar         2.20000   2.600000   15.50000  \n",
       "chlorides              0.07900   0.090000    0.61100  \n",
       "free sulfur dioxide   14.00000  21.000000   72.00000  \n",
       "total sulfur dioxide  38.00000  62.000000  289.00000  \n",
       "density                0.99675   0.997835    1.00369  \n",
       "pH                     3.31000   3.400000    4.01000  \n",
       "sulphates              0.62000   0.730000    2.00000  \n",
       "alcohol               10.20000  11.100000   14.90000  \n",
       "quality                6.00000   6.000000    8.00000  "
      ]
     },
     "execution_count": 133,
     "metadata": {},
     "output_type": "execute_result"
    }
   ],
   "source": [
    "df_red.describe().transpose()"
   ]
  },
  {
   "cell_type": "markdown",
   "metadata": {},
   "source": [
    "Assing input (X) and output (y)"
   ]
  },
  {
   "cell_type": "code",
   "execution_count": 134,
   "metadata": {
    "collapsed": false
   },
   "outputs": [],
   "source": [
    "y = (df_red['quality'].values > 6)\n",
    "X = df_red.iloc[:,0:-1]"
   ]
  },
  {
   "cell_type": "markdown",
   "metadata": {},
   "source": [
    "Split training set and test set"
   ]
  },
  {
   "cell_type": "code",
   "execution_count": 135,
   "metadata": {
    "collapsed": false
   },
   "outputs": [],
   "source": [
    "from sklearn.model_selection import train_test_split\n",
    "\n",
    "X_train, X_test, y_train, y_test = \\\n",
    "    train_test_split(X, y, test_size=0.3, random_state=0)"
   ]
  },
  {
   "cell_type": "markdown",
   "metadata": {},
   "source": [
    "Normalize X data (on training set)"
   ]
  },
  {
   "cell_type": "code",
   "execution_count": 136,
   "metadata": {
    "collapsed": false,
    "scrolled": true
   },
   "outputs": [
    {
     "data": {
      "text/html": [
       "<div>\n",
       "<table border=\"1\" class=\"dataframe\">\n",
       "  <thead>\n",
       "    <tr style=\"text-align: right;\">\n",
       "      <th></th>\n",
       "      <th>count</th>\n",
       "      <th>mean</th>\n",
       "      <th>std</th>\n",
       "      <th>min</th>\n",
       "      <th>25%</th>\n",
       "      <th>50%</th>\n",
       "      <th>75%</th>\n",
       "      <th>max</th>\n",
       "    </tr>\n",
       "  </thead>\n",
       "  <tbody>\n",
       "    <tr>\n",
       "      <th>0</th>\n",
       "      <td>1119.0</td>\n",
       "      <td>-1.271945e-16</td>\n",
       "      <td>1.000447</td>\n",
       "      <td>-2.090941</td>\n",
       "      <td>-0.712549</td>\n",
       "      <td>-0.253085</td>\n",
       "      <td>0.550977</td>\n",
       "      <td>4.341555</td>\n",
       "    </tr>\n",
       "    <tr>\n",
       "      <th>1</th>\n",
       "      <td>1119.0</td>\n",
       "      <td>-1.214399e-16</td>\n",
       "      <td>1.000447</td>\n",
       "      <td>-2.214153</td>\n",
       "      <td>-0.757544</td>\n",
       "      <td>-0.056214</td>\n",
       "      <td>0.591167</td>\n",
       "      <td>5.662322</td>\n",
       "    </tr>\n",
       "    <tr>\n",
       "      <th>2</th>\n",
       "      <td>1119.0</td>\n",
       "      <td>-2.622765e-16</td>\n",
       "      <td>1.000447</td>\n",
       "      <td>-1.396757</td>\n",
       "      <td>-0.934734</td>\n",
       "      <td>-0.062025</td>\n",
       "      <td>0.759348</td>\n",
       "      <td>3.736827</td>\n",
       "    </tr>\n",
       "    <tr>\n",
       "      <th>3</th>\n",
       "      <td>1119.0</td>\n",
       "      <td>2.115277e-16</td>\n",
       "      <td>1.000447</td>\n",
       "      <td>-1.108115</td>\n",
       "      <td>-0.438669</td>\n",
       "      <td>-0.237836</td>\n",
       "      <td>0.029943</td>\n",
       "      <td>8.665794</td>\n",
       "    </tr>\n",
       "    <tr>\n",
       "      <th>4</th>\n",
       "      <td>1119.0</td>\n",
       "      <td>-1.587450e-18</td>\n",
       "      <td>1.000447</td>\n",
       "      <td>-1.527181</td>\n",
       "      <td>-0.356857</td>\n",
       "      <td>-0.175255</td>\n",
       "      <td>0.046703</td>\n",
       "      <td>10.559442</td>\n",
       "    </tr>\n",
       "    <tr>\n",
       "      <th>5</th>\n",
       "      <td>1119.0</td>\n",
       "      <td>1.438627e-16</td>\n",
       "      <td>1.000447</td>\n",
       "      <td>-1.419711</td>\n",
       "      <td>-0.767974</td>\n",
       "      <td>-0.209341</td>\n",
       "      <td>0.535501</td>\n",
       "      <td>5.190770</td>\n",
       "    </tr>\n",
       "    <tr>\n",
       "      <th>6</th>\n",
       "      <td>1119.0</td>\n",
       "      <td>1.230274e-17</td>\n",
       "      <td>1.000447</td>\n",
       "      <td>-1.210217</td>\n",
       "      <td>-0.743039</td>\n",
       "      <td>-0.275861</td>\n",
       "      <td>0.454105</td>\n",
       "      <td>7.052999</td>\n",
       "    </tr>\n",
       "    <tr>\n",
       "      <th>7</th>\n",
       "      <td>1119.0</td>\n",
       "      <td>-5.975193e-14</td>\n",
       "      <td>1.000447</td>\n",
       "      <td>-3.520329</td>\n",
       "      <td>-0.608117</td>\n",
       "      <td>-0.018302</td>\n",
       "      <td>0.582045</td>\n",
       "      <td>3.652243</td>\n",
       "    </tr>\n",
       "    <tr>\n",
       "      <th>8</th>\n",
       "      <td>1119.0</td>\n",
       "      <td>1.005551e-15</td>\n",
       "      <td>1.000447</td>\n",
       "      <td>-3.669365</td>\n",
       "      <td>-0.638236</td>\n",
       "      <td>0.006686</td>\n",
       "      <td>0.587115</td>\n",
       "      <td>4.521134</td>\n",
       "    </tr>\n",
       "    <tr>\n",
       "      <th>9</th>\n",
       "      <td>1119.0</td>\n",
       "      <td>-3.551920e-17</td>\n",
       "      <td>1.000447</td>\n",
       "      <td>-1.626274</td>\n",
       "      <td>-0.618757</td>\n",
       "      <td>-0.226944</td>\n",
       "      <td>0.388761</td>\n",
       "      <td>7.497358</td>\n",
       "    </tr>\n",
       "    <tr>\n",
       "      <th>10</th>\n",
       "      <td>1119.0</td>\n",
       "      <td>-8.838129e-16</td>\n",
       "      <td>1.000447</td>\n",
       "      <td>-1.888447</td>\n",
       "      <td>-0.854927</td>\n",
       "      <td>-0.291189</td>\n",
       "      <td>0.585737</td>\n",
       "      <td>4.218717</td>\n",
       "    </tr>\n",
       "  </tbody>\n",
       "</table>\n",
       "</div>"
      ],
      "text/plain": [
       "     count          mean       std       min       25%       50%       75%  \\\n",
       "0   1119.0 -1.271945e-16  1.000447 -2.090941 -0.712549 -0.253085  0.550977   \n",
       "1   1119.0 -1.214399e-16  1.000447 -2.214153 -0.757544 -0.056214  0.591167   \n",
       "2   1119.0 -2.622765e-16  1.000447 -1.396757 -0.934734 -0.062025  0.759348   \n",
       "3   1119.0  2.115277e-16  1.000447 -1.108115 -0.438669 -0.237836  0.029943   \n",
       "4   1119.0 -1.587450e-18  1.000447 -1.527181 -0.356857 -0.175255  0.046703   \n",
       "5   1119.0  1.438627e-16  1.000447 -1.419711 -0.767974 -0.209341  0.535501   \n",
       "6   1119.0  1.230274e-17  1.000447 -1.210217 -0.743039 -0.275861  0.454105   \n",
       "7   1119.0 -5.975193e-14  1.000447 -3.520329 -0.608117 -0.018302  0.582045   \n",
       "8   1119.0  1.005551e-15  1.000447 -3.669365 -0.638236  0.006686  0.587115   \n",
       "9   1119.0 -3.551920e-17  1.000447 -1.626274 -0.618757 -0.226944  0.388761   \n",
       "10  1119.0 -8.838129e-16  1.000447 -1.888447 -0.854927 -0.291189  0.585737   \n",
       "\n",
       "          max  \n",
       "0    4.341555  \n",
       "1    5.662322  \n",
       "2    3.736827  \n",
       "3    8.665794  \n",
       "4   10.559442  \n",
       "5    5.190770  \n",
       "6    7.052999  \n",
       "7    3.652243  \n",
       "8    4.521134  \n",
       "9    7.497358  \n",
       "10   4.218717  "
      ]
     },
     "execution_count": 136,
     "metadata": {},
     "output_type": "execute_result"
    }
   ],
   "source": [
    "from sklearn.preprocessing import StandardScaler\n",
    "\n",
    "stdsc = StandardScaler()\n",
    "X_train_std = stdsc.fit_transform(X_train)\n",
    "X_test_std = stdsc.transform(X_test)\n",
    "pd.DataFrame(X_train_std).describe().transpose()"
   ]
  },
  {
   "cell_type": "markdown",
   "metadata": {},
   "source": [
    "Instead we can use the pipeline method introduced in  [Ch 5 of PML](https://github.com/PHBS/python-machine-learning-book/blob/master/code/ch06/ch06.ipynb). We sequentially apply normilization, PCA (first 2 components) and logistic regression and get about 89% accuracy!"
   ]
  },
  {
   "cell_type": "code",
   "execution_count": 137,
   "metadata": {
    "collapsed": false
   },
   "outputs": [
    {
     "name": "stdout",
     "output_type": "stream",
     "text": [
      "Test Accuracy: 0.892\n"
     ]
    }
   ],
   "source": [
    "from sklearn.preprocessing import StandardScaler\n",
    "from sklearn.decomposition import PCA\n",
    "from sklearn.linear_model import LogisticRegression\n",
    "from sklearn.pipeline import Pipeline\n",
    "\n",
    "pipe_lr = Pipeline([('scl', StandardScaler()),\n",
    "                    ('pca', PCA(n_components=2)),\n",
    "                    ('clf', LogisticRegression(random_state=1))])\n",
    "\n",
    "pipe_lr.fit(X_train, y_train)\n",
    "print('Test Accuracy: %.3f' % pipe_lr.score(X_test, y_test))\n",
    "y_pred = pipe_lr.predict(X_test)"
   ]
  },
  {
   "cell_type": "markdown",
   "metadata": {},
   "source": [
    "We replaced LogisticRegression with Support Vector Machine with RBF kernel. The accuracy is similarly 89%."
   ]
  },
  {
   "cell_type": "code",
   "execution_count": 138,
   "metadata": {
    "collapsed": false
   },
   "outputs": [
    {
     "name": "stdout",
     "output_type": "stream",
     "text": [
      "Test Accuracy: 0.894\n"
     ]
    }
   ],
   "source": [
    "from sklearn.svm import SVC\n",
    "\n",
    "pipe_lr = Pipeline([('scl', StandardScaler()),\n",
    "                    ('pca', PCA(n_components=2)),\n",
    "                    ('svm', SVC(kernel='rbf', random_state=0, gamma=0.20, C=5.0))])\n",
    "\n",
    "pipe_lr.fit(X_train, y_train)\n",
    "print('Test Accuracy: %.3f' % pipe_lr.score(X_test, y_test))\n",
    "y_pred = pipe_lr.predict(X_test)"
   ]
  },
  {
   "cell_type": "markdown",
   "metadata": {},
   "source": [
    "# Linear regresssion on wine quality using four features: 'chlorides', 'density', 'volatile acidity', 'quality'"
   ]
  },
  {
   "cell_type": "code",
   "execution_count": 139,
   "metadata": {
    "collapsed": false
   },
   "outputs": [
    {
     "data": {
      "image/png": "[encoded data removed]",
      "text/plain": [
       "<matplotlib.figure.Figure at 0x11681470>"
      ]
     },
     "metadata": {},
     "output_type": "display_data"
    }
   ],
   "source": [
    "import matplotlib.pyplot as plt\n",
    "import seaborn as sns\n",
    "\n",
    "sns.set(style='whitegrid', context='notebook')\n",
    "cols = ['chlorides', 'density', 'volatile acidity', 'quality' ]\n",
    "\n",
    "sns.pairplot(df_red[cols], size=2.5)\n",
    "plt.tight_layout()\n",
    "# plt.savefig('./figures/scatter.png', dpi=300)\n",
    "plt.show()"
   ]
  },
  {
   "cell_type": "markdown",
   "metadata": {},
   "source": [
    "## Simple regression: 'volatility acidity' vs 'quality'"
   ]
  },
  {
   "cell_type": "code",
   "execution_count": 140,
   "metadata": {
    "collapsed": false
   },
   "outputs": [],
   "source": [
    "X = df_red[['volatile acidity']].values\n",
    "y = df_red['quality'].values"
   ]
  },
  {
   "cell_type": "code",
   "execution_count": 141,
   "metadata": {
    "collapsed": false
   },
   "outputs": [],
   "source": [
    "from sklearn.linear_model import LinearRegression\n",
    "slr = LinearRegression()\n",
    "slr.fit(X, y)\n",
    "y_pred = slr.predict(X)"
   ]
  },
  {
   "cell_type": "code",
   "execution_count": 142,
   "metadata": {
    "collapsed": false
   },
   "outputs": [
    {
     "data": {
      "image/png": "[encoded data removed]",
      "text/plain": [
       "<matplotlib.figure.Figure at 0x14082470>"
      ]
     },
     "metadata": {},
     "output_type": "display_data"
    },
    {
     "name": "stdout",
     "output_type": "stream",
     "text": [
      "Slope: -1.761\n",
      "Intercept: 6.566\n"
     ]
    }
   ],
   "source": [
    "def lin_regplot(X, y, model):\n",
    "    plt.scatter(X, y, c='lightblue')\n",
    "    plt.plot(X, model.predict(X), color='red', linewidth=2)    \n",
    "    return\n",
    "\n",
    "lin_regplot(X, y, slr)\n",
    "plt.xlabel('Volatile Acidity')\n",
    "plt.ylabel('Wine Quality (RED)')\n",
    "plt.tight_layout()\n",
    "# plt.savefig('./figures/gradient_fit.png', dpi=300)\n",
    "plt.show()\n",
    "print('Slope: %.3f' % slr.coef_[0])\n",
    "print('Intercept: %.3f' % slr.intercept_)"
   ]
  },
  {
   "cell_type": "markdown",
   "metadata": {},
   "source": [
    "\n",
    "## Simple regression using TensorFlow"
   ]
  },
  {
   "cell_type": "code",
   "execution_count": 143,
   "metadata": {
    "collapsed": true
   },
   "outputs": [],
   "source": [
    "import tensorflow as tf"
   ]
  },
  {
   "cell_type": "code",
   "execution_count": 144,
   "metadata": {
    "collapsed": false
   },
   "outputs": [],
   "source": [
    "# Need to convert ndarray to python list (tensor)\n",
    "X_list = X.reshape(-1).tolist()\n",
    "y_list = y.tolist()\n",
    "\n",
    "w = tf.Variable(tf.random_normal([1]), name='weight')\n",
    "b = tf.Variable(tf.random_normal([1]), name='bias')\n",
    "\n",
    "# Model hypothesis XW+b\n",
    "y_list_hat = X_list * w + b\n",
    "\n",
    "# Cost/loss function\n",
    "cost = tf.reduce_mean(tf.square(y_list - y_list_hat))\n",
    "\n",
    "# Minimize\n",
    "optimizer = tf.train.GradientDescentOptimizer(learning_rate=0.02)\n",
    "train = optimizer.minimize(cost)\n",
    "\n",
    "# Launch the graph in a session.\n",
    "sess = tf.Session()\n",
    "# Initializes global variables in the graph.\n",
    "sess.run(tf.global_variables_initializer())"
   ]
  },
  {
   "cell_type": "code",
   "execution_count": 145,
   "metadata": {
    "collapsed": false
   },
   "outputs": [
    {
     "name": "stdout",
     "output_type": "stream",
     "text": [
      "0 42.0511 [-0.12259524] [-0.73454094]\n",
      "2000 0.563494 [-1.17320573] [ 6.24732876]\n",
      "4000 0.55255 [-1.68140709] [ 6.52242374]\n",
      "6000 0.552348 [-1.75052834] [ 6.55983829]\n",
      "8000 0.552344 [-1.75993049] [ 6.56493187]\n",
      "10000 0.552344 [-1.76121283] [ 6.5656209]\n",
      "12000 0.552344 [-1.76129329] [ 6.56566334]\n",
      "14000 0.552344 [-1.76129329] [ 6.56566334]\n",
      "16000 0.552344 [-1.76129329] [ 6.56566334]\n"
     ]
    }
   ],
   "source": [
    "# Train the weight and bias\n",
    "for step in range(16001):\n",
    "    sess.run(train)\n",
    "    if step % 2000 == 0:\n",
    "        print(step, sess.run(cost), sess.run(w), sess.run(b))"
   ]
  },
  {
   "cell_type": "markdown",
   "metadata": {},
   "source": [
    "## Simple regression using TensorFlow wiht placeholder"
   ]
  },
  {
   "cell_type": "code",
   "execution_count": 146,
   "metadata": {
    "collapsed": false
   },
   "outputs": [
    {
     "name": "stdout",
     "output_type": "stream",
     "text": [
      "0 38.2947 [ 0.03933325] [-0.2082155]\n",
      "1000 0.630891 [-0.20174336] [ 5.72146606]\n",
      "2000 0.56303 [-1.18614912] [ 6.25433588]\n",
      "3000 0.553798 [-1.54924226] [ 6.45088196]\n",
      "4000 0.552542 [-1.68316877] [ 6.5233779]\n",
      "5000 0.552371 [-1.73256123] [ 6.55011368]\n",
      "6000 0.552348 [-1.75076747] [ 6.55996656]\n",
      "7000 0.552344 [-1.75748122] [ 6.5636034]\n",
      "8000 0.552344 [-1.75996459] [ 6.56494999]\n",
      "9000 0.552344 [-1.76089656] [ 6.56545401]\n",
      "10000 0.552344 [-1.76121545] [ 6.56562233]\n",
      "11000 0.552344 [-1.76129329] [ 6.56566334]\n",
      "12000 0.552344 [-1.76129329] [ 6.56566334]\n",
      "13000 0.552344 [-1.76129329] [ 6.56566334]\n",
      "14000 0.552344 [-1.76129329] [ 6.56566334]\n",
      "15000 0.552344 [-1.76129329] [ 6.56566334]\n",
      "16000 0.552344 [-1.76129329] [ 6.56566334]\n"
     ]
    }
   ],
   "source": [
    "X_ph = tf.placeholder(tf.float32, shape=[None])\n",
    "y_ph = tf.placeholder(tf.float32, shape=[None])\n",
    "\n",
    "w = tf.Variable(tf.random_normal([1]), name='weight')\n",
    "b = tf.Variable(tf.random_normal([1]), name='bias')\n",
    "\n",
    "# Our hypothesis XW+b\n",
    "y_list_hat = X_ph * w + b\n",
    "\n",
    "# cost/loss function\n",
    "cost = tf.reduce_mean(tf.square(y_ph - y_list_hat))\n",
    "\n",
    "# Minimize\n",
    "optimizer = tf.train.GradientDescentOptimizer(learning_rate=0.02)\n",
    "train = optimizer.minimize(cost)\n",
    "\n",
    "# Launch the graph in a session.\n",
    "sess = tf.Session()\n",
    "# Initializes global variables in the graph.\n",
    "sess.run(tf.global_variables_initializer())\n",
    "\n",
    "# Fit the line\n",
    "for step in range(16001):\n",
    "    cost_val, W_val, b_val, _ = \\\n",
    "        sess.run([cost, w, b, train],\n",
    "                 feed_dict={X_ph: X_list, y_ph: y_list})\n",
    "    if step % 1000 == 0:\n",
    "        print(step, cost_val, W_val, b_val)"
   ]
  },
  {
   "cell_type": "markdown",
   "metadata": {},
   "source": [
    "## Multi-variate regression"
   ]
  },
  {
   "cell_type": "code",
   "execution_count": 147,
   "metadata": {
    "collapsed": false
   },
   "outputs": [
    {
     "name": "stderr",
     "output_type": "stream",
     "text": [
      "D:\\sw\\Anaconda3\\lib\\site-packages\\sklearn\\utils\\validation.py:429: DataConversionWarning: Data with input dtype int64 was converted to float64 by StandardScaler.\n",
      "  warnings.warn(msg, _DataConversionWarning)\n"
     ]
    }
   ],
   "source": [
    "X = df_red[cols].values\n",
    "X = X[:,0:-1]\n",
    "\n",
    "X_list = X.reshape(-1,3).tolist()\n",
    "y_list = y.reshape(-1,1).tolist()\n",
    "\n",
    "# Standardize variables\n",
    "sc_x = StandardScaler()\n",
    "sc_y = StandardScaler()\n",
    "X_std = sc_x.fit_transform(X)\n",
    "y_std = sc_y.fit_transform(y[:, np.newaxis]).flatten()\n",
    "\n",
    "X_std_list = X_std.reshape(-1,3).tolist()\n",
    "y_std_list = y_std.reshape(-1,1).tolist()"
   ]
  },
  {
   "cell_type": "code",
   "execution_count": 148,
   "metadata": {
    "collapsed": false
   },
   "outputs": [
    {
     "name": "stdout",
     "output_type": "stream",
     "text": [
      "Slope:  [ -1.28810558 -64.79517091  -1.72564093]\n",
      "Intercept:  71.2438887704\n"
     ]
    }
   ],
   "source": [
    "slr = LinearRegression()\n",
    "slr.fit(X, y)\n",
    "print('Slope: ', slr.coef_)\n",
    "print('Intercept: ', slr.intercept_)"
   ]
  },
  {
   "cell_type": "code",
   "execution_count": 149,
   "metadata": {
    "collapsed": false
   },
   "outputs": [
    {
     "name": "stdout",
     "output_type": "stream",
     "text": [
      "0 58.0045 [ 0.64765382 -0.40112567  0.89041519  0.01843548]\n",
      "1000 0.549063 [ 3.22547507 -0.79816979  3.40802336 -1.73707819]\n",
      "2000 0.547671 [ 3.26751208 -1.16548598  3.40034699 -1.74114835]\n",
      "3000 0.547087 [ 3.30119276 -1.40215814  3.38541102 -1.73749089]\n",
      "4000 0.546839 [ 3.33117056 -1.55460215  3.36746716 -1.73511147]\n",
      "5000 0.546729 [ 3.3587575  -1.65277219  3.34760165 -1.73357582]\n",
      "6000 0.546678 [ 3.38480592 -1.71596682  3.32649589 -1.73258674]\n",
      "7000 0.54665 [ 3.40986538 -1.75662374  3.3045876  -1.73194695]\n",
      "8000 0.546632 [ 3.43428993 -1.7827574   3.282161   -1.73153532]\n",
      "9000 0.546618 [ 3.45828176 -1.79953063  3.25942373 -1.73127019]\n",
      "10000 0.546606 [ 3.48196721 -1.8102752   3.23651576 -1.73110116]\n",
      "11000 0.546594 [ 3.50553107 -1.81713283  3.21341491 -1.73098278]\n",
      "12000 0.546584 [ 3.52893138 -1.82148421  3.19028616 -1.73091745]\n",
      "13000 0.546573 [ 3.5522964  -1.82422507  3.16706109 -1.73087096]\n",
      "14000 0.546562 [ 3.57564092 -1.82592392  3.14377308 -1.73083973]\n",
      "15000 0.546551 [ 3.59892726 -1.82695448  3.12049079 -1.73081994]\n",
      "16000 0.54654 [ 3.62216091 -1.82754874  3.09722495 -1.73080409]\n",
      "17000 0.546529 [ 3.64534926 -1.82786274  3.07398367 -1.73079491]\n",
      "18000 0.546519 [ 3.66848874 -1.82800651  3.05077815 -1.73078871]\n",
      "19000 0.546508 [ 3.69161534 -1.82801735  3.02757454 -1.73078406]\n",
      "20000 0.546497 [ 3.71474195 -1.82796669  3.00436687 -1.73078167]\n"
     ]
    }
   ],
   "source": [
    "X_ph = tf.placeholder(tf.float32, shape=[None, 3])\n",
    "y_ph = tf.placeholder(tf.float32, shape=[None, 1])\n",
    "\n",
    "# Now the weight W include the intercept\n",
    "W = tf.Variable(tf.random_normal([4, 1]), name='weight')\n",
    "b = tf.Variable(tf.random_normal([1]), name='bias')\n",
    "\n",
    "# Hypothesis\n",
    "y_hat = tf.matmul(X_ph, W[1:]) + W[0]\n",
    "\n",
    "# Simplified cost/loss function\n",
    "cost = tf.reduce_mean(tf.square(y_hat - y_ph))\n",
    "\n",
    "# Minimize\n",
    "optimizer = tf.train.GradientDescentOptimizer(learning_rate=0.1)\n",
    "train = optimizer.minimize(cost)\n",
    "\n",
    "# Launch the graph in a session.\n",
    "sess = tf.Session()\n",
    "# Initializes global variables in the graph.\n",
    "sess.run(tf.global_variables_initializer())\n",
    "\n",
    "# Train the weights (it's very slow because we didn't standardized)\n",
    "for step in range(20001):\n",
    "    cost_val, W_val, _ = \\\n",
    "        sess.run([cost, W, train],\n",
    "                 feed_dict={X_ph: X_list, y_ph: y_list})\n",
    "    if step % 1000 == 0:\n",
    "        print(step, cost_val, W_val.flatten())"
   ]
  },
  {
   "cell_type": "code",
   "execution_count": 150,
   "metadata": {
    "collapsed": false
   },
   "outputs": [
    {
     "name": "stdout",
     "output_type": "stream",
     "text": [
      "0 27.3455 [ 2.97179341 -1.5874908   2.44948339 -1.45356202]\n",
      "1000 0.814399 [ -4.07838119e-09  -7.50710666e-02  -1.51429817e-01  -3.82620603e-01]\n",
      "2000 0.814399 [ -3.75226517e-09  -7.50710666e-02  -1.51429817e-01  -3.82620603e-01]\n",
      "3000 0.814399 [ -3.79867870e-09  -7.50710666e-02  -1.51429817e-01  -3.82620603e-01]\n",
      "4000 0.814399 [ -3.84509224e-09  -7.50710666e-02  -1.51429817e-01  -3.82620603e-01]\n",
      "5000 0.814399 [ -3.89150578e-09  -7.50710666e-02  -1.51429817e-01  -3.82620603e-01]\n",
      "6000 0.814399 [ -3.93791932e-09  -7.50710666e-02  -1.51429817e-01  -3.82620603e-01]\n",
      "7000 0.814399 [ -3.98433286e-09  -7.50710666e-02  -1.51429817e-01  -3.82620603e-01]\n",
      "8000 0.814399 [ -4.03074640e-09  -7.50710666e-02  -1.51429817e-01  -3.82620603e-01]\n",
      "9000 0.814399 [ -4.07715994e-09  -7.50710666e-02  -1.51429817e-01  -3.82620603e-01]\n",
      "10000 0.814399 [ -3.75104392e-09  -7.50710666e-02  -1.51429817e-01  -3.82620603e-01]\n"
     ]
    }
   ],
   "source": [
    "# Train the weights (it's fast)\n",
    "for step in range(10001):\n",
    "    cost_val, W_val, _ = \\\n",
    "        sess.run([cost, W, train],\n",
    "                 feed_dict={X_ph: X_std_list, y_ph: y_std_list})\n",
    "    if step % 1000 == 0:\n",
    "        print(step, cost_val, W_val.flatten())"
   ]
  },
  {
   "cell_type": "code",
   "execution_count": 151,
   "metadata": {
    "collapsed": false
   },
   "outputs": [
    {
     "data": {
      "text/plain": [
       "array([ -1.28810603, -64.79515313,  -1.72564066])"
      ]
     },
     "execution_count": 151,
     "metadata": {},
     "output_type": "execute_result"
    }
   ],
   "source": [
    "# recover the coefficients in the original scale\n",
    "W_val[1:].flatten()/sc_x.scale_*sc_y.scale_"
   ]
  },
  {
   "cell_type": "code",
   "execution_count": null,
   "metadata": {
    "collapsed": false
   },
   "outputs": [],
   "source": []
  },
  {
   "cell_type": "code",
   "execution_count": null,
   "metadata": {
    "collapsed": true
   },
   "outputs": [],
   "source": []
  }
 ],
 "metadata": {
  "anaconda-cloud": {},
  "kernelspec": {
   "display_name": "Python 3",
   "language": "python",
   "name": "python3"
  },
  "language_info": {
   "codemirror_mode": {
    "name": "ipython",
    "version": 3
   },
   "file_extension": ".py",
   "mimetype": "text/x-python",
   "name": "python",
   "nbconvert_exporter": "python",
   "pygments_lexer": "ipython3",
   "version": "3.5.1"
  }
 },
 "nbformat": 4,
 "nbformat_minor": 1
}
