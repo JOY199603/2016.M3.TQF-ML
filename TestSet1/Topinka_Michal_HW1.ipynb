{
 "cells": [
  {
   "cell_type": "markdown",
   "metadata": {
    "collapsed": true
   },
   "source": [
    "## TQF-ML: HW I\n",
    "Author: Topinka Michal"
   ]
  },
  {
   "cell_type": "markdown",
   "metadata": {},
   "source": [
    "For this homework, I will work with the white wine dataset. I will use several packages in this homework. Pandas and NumPy are loaded in the very beginning and rest of the packages are loaded in the beginnings of the particular blocks that use them (each is loaded only once)."
   ]
  },
  {
   "cell_type": "code",
   "execution_count": 3,
   "metadata": {},
   "outputs": [],
   "source": [
    "import pandas as pd\n",
    "import numpy as np"
   ]
  },
  {
   "cell_type": "markdown",
   "metadata": {},
   "source": [
    "Firstly I will download the data from the UCI website:"
   ]
  },
  {
   "cell_type": "code",
   "execution_count": 4,
   "metadata": {
    "collapsed": true
   },
   "outputs": [],
   "source": [
    "df_white = pd.read_csv('http://archive.ics.uci.edu/ml/machine-learning-databases/wine-quality/winequality-white.csv',sep=\";\")"
   ]
  },
  {
   "cell_type": "markdown",
   "metadata": {},
   "source": [
    "To make sure data are downloaded, I will display a first few rows of the data:"
   ]
  },
  {
   "cell_type": "code",
   "execution_count": 4,
   "metadata": {
    "collapsed": false
   },
   "outputs": [
    {
     "data": {
      "text/html": [
       "<div>\n",
       "<table border=\"1\" class=\"dataframe\">\n",
       "  <thead>\n",
       "    <tr style=\"text-align: right;\">\n",
       "      <th></th>\n",
       "      <th>fixed acidity</th>\n",
       "      <th>volatile acidity</th>\n",
       "      <th>citric acid</th>\n",
       "      <th>residual sugar</th>\n",
       "      <th>chlorides</th>\n",
       "      <th>free sulfur dioxide</th>\n",
       "      <th>total sulfur dioxide</th>\n",
       "      <th>density</th>\n",
       "      <th>pH</th>\n",
       "      <th>sulphates</th>\n",
       "      <th>alcohol</th>\n",
       "      <th>quality</th>\n",
       "    </tr>\n",
       "  </thead>\n",
       "  <tbody>\n",
       "    <tr>\n",
       "      <th>0</th>\n",
       "      <td>7.0</td>\n",
       "      <td>0.27</td>\n",
       "      <td>0.36</td>\n",
       "      <td>20.7</td>\n",
       "      <td>0.045</td>\n",
       "      <td>45.0</td>\n",
       "      <td>170.0</td>\n",
       "      <td>1.0010</td>\n",
       "      <td>3.00</td>\n",
       "      <td>0.45</td>\n",
       "      <td>8.8</td>\n",
       "      <td>6</td>\n",
       "    </tr>\n",
       "    <tr>\n",
       "      <th>1</th>\n",
       "      <td>6.3</td>\n",
       "      <td>0.30</td>\n",
       "      <td>0.34</td>\n",
       "      <td>1.6</td>\n",
       "      <td>0.049</td>\n",
       "      <td>14.0</td>\n",
       "      <td>132.0</td>\n",
       "      <td>0.9940</td>\n",
       "      <td>3.30</td>\n",
       "      <td>0.49</td>\n",
       "      <td>9.5</td>\n",
       "      <td>6</td>\n",
       "    </tr>\n",
       "    <tr>\n",
       "      <th>2</th>\n",
       "      <td>8.1</td>\n",
       "      <td>0.28</td>\n",
       "      <td>0.40</td>\n",
       "      <td>6.9</td>\n",
       "      <td>0.050</td>\n",
       "      <td>30.0</td>\n",
       "      <td>97.0</td>\n",
       "      <td>0.9951</td>\n",
       "      <td>3.26</td>\n",
       "      <td>0.44</td>\n",
       "      <td>10.1</td>\n",
       "      <td>6</td>\n",
       "    </tr>\n",
       "    <tr>\n",
       "      <th>3</th>\n",
       "      <td>7.2</td>\n",
       "      <td>0.23</td>\n",
       "      <td>0.32</td>\n",
       "      <td>8.5</td>\n",
       "      <td>0.058</td>\n",
       "      <td>47.0</td>\n",
       "      <td>186.0</td>\n",
       "      <td>0.9956</td>\n",
       "      <td>3.19</td>\n",
       "      <td>0.40</td>\n",
       "      <td>9.9</td>\n",
       "      <td>6</td>\n",
       "    </tr>\n",
       "    <tr>\n",
       "      <th>4</th>\n",
       "      <td>7.2</td>\n",
       "      <td>0.23</td>\n",
       "      <td>0.32</td>\n",
       "      <td>8.5</td>\n",
       "      <td>0.058</td>\n",
       "      <td>47.0</td>\n",
       "      <td>186.0</td>\n",
       "      <td>0.9956</td>\n",
       "      <td>3.19</td>\n",
       "      <td>0.40</td>\n",
       "      <td>9.9</td>\n",
       "      <td>6</td>\n",
       "    </tr>\n",
       "  </tbody>\n",
       "</table>\n",
       "</div>"
      ],
      "text/plain": [
       "<div>\n",
       "<table border=\"1\" class=\"dataframe\">\n",
       "  <thead>\n",
       "    <tr style=\"text-align: right;\">\n",
       "      <th></th>\n",
       "      <th>fixed acidity</th>\n",
       "      <th>volatile acidity</th>\n",
       "      <th>citric acid</th>\n",
       "      <th>residual sugar</th>\n",
       "      <th>chlorides</th>\n",
       "      <th>free sulfur dioxide</th>\n",
       "      <th>total sulfur dioxide</th>\n",
       "      <th>density</th>\n",
       "      <th>pH</th>\n",
       "      <th>sulphates</th>\n",
       "      <th>alcohol</th>\n",
       "      <th>quality</th>\n",
       "    </tr>\n",
       "  </thead>\n",
       "  <tbody>\n",
       "    <tr>\n",
       "      <th>0</th>\n",
       "      <td>7.0</td>\n",
       "      <td>0.27</td>\n",
       "      <td>0.36</td>\n",
       "      <td>20.7</td>\n",
       "      <td>0.045</td>\n",
       "      <td>45.0</td>\n",
       "      <td>170.0</td>\n",
       "      <td>1.0010</td>\n",
       "      <td>3.00</td>\n",
       "      <td>0.45</td>\n",
       "      <td>8.8</td>\n",
       "      <td>6</td>\n",
       "    </tr>\n",
       "    <tr>\n",
       "      <th>1</th>\n",
       "      <td>6.3</td>\n",
       "      <td>0.30</td>\n",
       "      <td>0.34</td>\n",
       "      <td>1.6</td>\n",
       "      <td>0.049</td>\n",
       "      <td>14.0</td>\n",
       "      <td>132.0</td>\n",
       "      <td>0.9940</td>\n",
       "      <td>3.30</td>\n",
       "      <td>0.49</td>\n",
       "      <td>9.5</td>\n",
       "      <td>6</td>\n",
       "    </tr>\n",
       "    <tr>\n",
       "      <th>2</th>\n",
       "      <td>8.1</td>\n",
       "      <td>0.28</td>\n",
       "      <td>0.40</td>\n",
       "      <td>6.9</td>\n",
       "      <td>0.050</td>\n",
       "      <td>30.0</td>\n",
       "      <td>97.0</td>\n",
       "      <td>0.9951</td>\n",
       "      <td>3.26</td>\n",
       "      <td>0.44</td>\n",
       "      <td>10.1</td>\n",
       "      <td>6</td>\n",
       "    </tr>\n",
       "    <tr>\n",
       "      <th>3</th>\n",
       "      <td>7.2</td>\n",
       "      <td>0.23</td>\n",
       "      <td>0.32</td>\n",
       "      <td>8.5</td>\n",
       "      <td>0.058</td>\n",
       "      <td>47.0</td>\n",
       "      <td>186.0</td>\n",
       "      <td>0.9956</td>\n",
       "      <td>3.19</td>\n",
       "      <td>0.40</td>\n",
       "      <td>9.9</td>\n",
       "      <td>6</td>\n",
       "    </tr>\n",
       "    <tr>\n",
       "      <th>4</th>\n",
       "      <td>7.2</td>\n",
       "      <td>0.23</td>\n",
       "      <td>0.32</td>\n",
       "      <td>8.5</td>\n",
       "      <td>0.058</td>\n",
       "      <td>47.0</td>\n",
       "      <td>186.0</td>\n",
       "      <td>0.9956</td>\n",
       "      <td>3.19</td>\n",
       "      <td>0.40</td>\n",
       "      <td>9.9</td>\n",
       "      <td>6</td>\n",
       "    </tr>\n",
       "  </tbody>\n",
       "</table>\n",
       "</div>"
      ]
     },
     "execution_count": 4,
     "metadata": {},
     "output_type": "execute_result"
    }
   ],
   "source": [
    "df_white.head()"
   ]
  },
  {
   "cell_type": "markdown",
   "metadata": {},
   "source": [
    "Now I will display some summary statistics to get some idea about the values of the variables (features):"
   ]
  },
  {
   "cell_type": "code",
   "execution_count": 5,
   "metadata": {
    "collapsed": false
   },
   "outputs": [
    {
     "data": {
      "text/html": [
       "<div>\n",
       "<table border=\"1\" class=\"dataframe\">\n",
       "  <thead>\n",
       "    <tr style=\"text-align: right;\">\n",
       "      <th></th>\n",
       "      <th>count</th>\n",
       "      <th>mean</th>\n",
       "      <th>std</th>\n",
       "      <th>min</th>\n",
       "      <th>25%</th>\n",
       "      <th>50%</th>\n",
       "      <th>75%</th>\n",
       "      <th>max</th>\n",
       "    </tr>\n",
       "  </thead>\n",
       "  <tbody>\n",
       "    <tr>\n",
       "      <th>fixed acidity</th>\n",
       "      <td>4898.0</td>\n",
       "      <td>6.854788</td>\n",
       "      <td>0.843868</td>\n",
       "      <td>3.80000</td>\n",
       "      <td>6.300000</td>\n",
       "      <td>6.80000</td>\n",
       "      <td>7.3000</td>\n",
       "      <td>14.20000</td>\n",
       "    </tr>\n",
       "    <tr>\n",
       "      <th>volatile acidity</th>\n",
       "      <td>4898.0</td>\n",
       "      <td>0.278241</td>\n",
       "      <td>0.100795</td>\n",
       "      <td>0.08000</td>\n",
       "      <td>0.210000</td>\n",
       "      <td>0.26000</td>\n",
       "      <td>0.3200</td>\n",
       "      <td>1.10000</td>\n",
       "    </tr>\n",
       "    <tr>\n",
       "      <th>citric acid</th>\n",
       "      <td>4898.0</td>\n",
       "      <td>0.334192</td>\n",
       "      <td>0.121020</td>\n",
       "      <td>0.00000</td>\n",
       "      <td>0.270000</td>\n",
       "      <td>0.32000</td>\n",
       "      <td>0.3900</td>\n",
       "      <td>1.66000</td>\n",
       "    </tr>\n",
       "    <tr>\n",
       "      <th>residual sugar</th>\n",
       "      <td>4898.0</td>\n",
       "      <td>6.391415</td>\n",
       "      <td>5.072058</td>\n",
       "      <td>0.60000</td>\n",
       "      <td>1.700000</td>\n",
       "      <td>5.20000</td>\n",
       "      <td>9.9000</td>\n",
       "      <td>65.80000</td>\n",
       "    </tr>\n",
       "    <tr>\n",
       "      <th>chlorides</th>\n",
       "      <td>4898.0</td>\n",
       "      <td>0.045772</td>\n",
       "      <td>0.021848</td>\n",
       "      <td>0.00900</td>\n",
       "      <td>0.036000</td>\n",
       "      <td>0.04300</td>\n",
       "      <td>0.0500</td>\n",
       "      <td>0.34600</td>\n",
       "    </tr>\n",
       "    <tr>\n",
       "      <th>free sulfur dioxide</th>\n",
       "      <td>4898.0</td>\n",
       "      <td>35.308085</td>\n",
       "      <td>17.007137</td>\n",
       "      <td>2.00000</td>\n",
       "      <td>23.000000</td>\n",
       "      <td>34.00000</td>\n",
       "      <td>46.0000</td>\n",
       "      <td>289.00000</td>\n",
       "    </tr>\n",
       "    <tr>\n",
       "      <th>total sulfur dioxide</th>\n",
       "      <td>4898.0</td>\n",
       "      <td>138.360657</td>\n",
       "      <td>42.498065</td>\n",
       "      <td>9.00000</td>\n",
       "      <td>108.000000</td>\n",
       "      <td>134.00000</td>\n",
       "      <td>167.0000</td>\n",
       "      <td>440.00000</td>\n",
       "    </tr>\n",
       "    <tr>\n",
       "      <th>density</th>\n",
       "      <td>4898.0</td>\n",
       "      <td>0.994027</td>\n",
       "      <td>0.002991</td>\n",
       "      <td>0.98711</td>\n",
       "      <td>0.991723</td>\n",
       "      <td>0.99374</td>\n",
       "      <td>0.9961</td>\n",
       "      <td>1.03898</td>\n",
       "    </tr>\n",
       "    <tr>\n",
       "      <th>pH</th>\n",
       "      <td>4898.0</td>\n",
       "      <td>3.188267</td>\n",
       "      <td>0.151001</td>\n",
       "      <td>2.72000</td>\n",
       "      <td>3.090000</td>\n",
       "      <td>3.18000</td>\n",
       "      <td>3.2800</td>\n",
       "      <td>3.82000</td>\n",
       "    </tr>\n",
       "    <tr>\n",
       "      <th>sulphates</th>\n",
       "      <td>4898.0</td>\n",
       "      <td>0.489847</td>\n",
       "      <td>0.114126</td>\n",
       "      <td>0.22000</td>\n",
       "      <td>0.410000</td>\n",
       "      <td>0.47000</td>\n",
       "      <td>0.5500</td>\n",
       "      <td>1.08000</td>\n",
       "    </tr>\n",
       "    <tr>\n",
       "      <th>alcohol</th>\n",
       "      <td>4898.0</td>\n",
       "      <td>10.514267</td>\n",
       "      <td>1.230621</td>\n",
       "      <td>8.00000</td>\n",
       "      <td>9.500000</td>\n",
       "      <td>10.40000</td>\n",
       "      <td>11.4000</td>\n",
       "      <td>14.20000</td>\n",
       "    </tr>\n",
       "    <tr>\n",
       "      <th>quality</th>\n",
       "      <td>4898.0</td>\n",
       "      <td>5.877909</td>\n",
       "      <td>0.885639</td>\n",
       "      <td>3.00000</td>\n",
       "      <td>5.000000</td>\n",
       "      <td>6.00000</td>\n",
       "      <td>6.0000</td>\n",
       "      <td>9.00000</td>\n",
       "    </tr>\n",
       "  </tbody>\n",
       "</table>\n",
       "</div>"
      ],
      "text/plain": [
       "<div>\n",
       "<table border=\"1\" class=\"dataframe\">\n",
       "  <thead>\n",
       "    <tr style=\"text-align: right;\">\n",
       "      <th></th>\n",
       "      <th>count</th>\n",
       "      <th>mean</th>\n",
       "      <th>std</th>\n",
       "      <th>min</th>\n",
       "      <th>25%</th>\n",
       "      <th>50%</th>\n",
       "      <th>75%</th>\n",
       "      <th>max</th>\n",
       "    </tr>\n",
       "  </thead>\n",
       "  <tbody>\n",
       "    <tr>\n",
       "      <th>fixed acidity</th>\n",
       "      <td>4898.0</td>\n",
       "      <td>6.854788</td>\n",
       "      <td>0.843868</td>\n",
       "      <td>3.80000</td>\n",
       "      <td>6.300000</td>\n",
       "      <td>6.80000</td>\n",
       "      <td>7.3000</td>\n",
       "      <td>14.20000</td>\n",
       "    </tr>\n",
       "    <tr>\n",
       "      <th>volatile acidity</th>\n",
       "      <td>4898.0</td>\n",
       "      <td>0.278241</td>\n",
       "      <td>0.100795</td>\n",
       "      <td>0.08000</td>\n",
       "      <td>0.210000</td>\n",
       "      <td>0.26000</td>\n",
       "      <td>0.3200</td>\n",
       "      <td>1.10000</td>\n",
       "    </tr>\n",
       "    <tr>\n",
       "      <th>citric acid</th>\n",
       "      <td>4898.0</td>\n",
       "      <td>0.334192</td>\n",
       "      <td>0.121020</td>\n",
       "      <td>0.00000</td>\n",
       "      <td>0.270000</td>\n",
       "      <td>0.32000</td>\n",
       "      <td>0.3900</td>\n",
       "      <td>1.66000</td>\n",
       "    </tr>\n",
       "    <tr>\n",
       "      <th>residual sugar</th>\n",
       "      <td>4898.0</td>\n",
       "      <td>6.391415</td>\n",
       "      <td>5.072058</td>\n",
       "      <td>0.60000</td>\n",
       "      <td>1.700000</td>\n",
       "      <td>5.20000</td>\n",
       "      <td>9.9000</td>\n",
       "      <td>65.80000</td>\n",
       "    </tr>\n",
       "    <tr>\n",
       "      <th>chlorides</th>\n",
       "      <td>4898.0</td>\n",
       "      <td>0.045772</td>\n",
       "      <td>0.021848</td>\n",
       "      <td>0.00900</td>\n",
       "      <td>0.036000</td>\n",
       "      <td>0.04300</td>\n",
       "      <td>0.0500</td>\n",
       "      <td>0.34600</td>\n",
       "    </tr>\n",
       "    <tr>\n",
       "      <th>free sulfur dioxide</th>\n",
       "      <td>4898.0</td>\n",
       "      <td>35.308085</td>\n",
       "      <td>17.007137</td>\n",
       "      <td>2.00000</td>\n",
       "      <td>23.000000</td>\n",
       "      <td>34.00000</td>\n",
       "      <td>46.0000</td>\n",
       "      <td>289.00000</td>\n",
       "    </tr>\n",
       "    <tr>\n",
       "      <th>total sulfur dioxide</th>\n",
       "      <td>4898.0</td>\n",
       "      <td>138.360657</td>\n",
       "      <td>42.498065</td>\n",
       "      <td>9.00000</td>\n",
       "      <td>108.000000</td>\n",
       "      <td>134.00000</td>\n",
       "      <td>167.0000</td>\n",
       "      <td>440.00000</td>\n",
       "    </tr>\n",
       "    <tr>\n",
       "      <th>density</th>\n",
       "      <td>4898.0</td>\n",
       "      <td>0.994027</td>\n",
       "      <td>0.002991</td>\n",
       "      <td>0.98711</td>\n",
       "      <td>0.991723</td>\n",
       "      <td>0.99374</td>\n",
       "      <td>0.9961</td>\n",
       "      <td>1.03898</td>\n",
       "    </tr>\n",
       "    <tr>\n",
       "      <th>pH</th>\n",
       "      <td>4898.0</td>\n",
       "      <td>3.188267</td>\n",
       "      <td>0.151001</td>\n",
       "      <td>2.72000</td>\n",
       "      <td>3.090000</td>\n",
       "      <td>3.18000</td>\n",
       "      <td>3.2800</td>\n",
       "      <td>3.82000</td>\n",
       "    </tr>\n",
       "    <tr>\n",
       "      <th>sulphates</th>\n",
       "      <td>4898.0</td>\n",
       "      <td>0.489847</td>\n",
       "      <td>0.114126</td>\n",
       "      <td>0.22000</td>\n",
       "      <td>0.410000</td>\n",
       "      <td>0.47000</td>\n",
       "      <td>0.5500</td>\n",
       "      <td>1.08000</td>\n",
       "    </tr>\n",
       "    <tr>\n",
       "      <th>alcohol</th>\n",
       "      <td>4898.0</td>\n",
       "      <td>10.514267</td>\n",
       "      <td>1.230621</td>\n",
       "      <td>8.00000</td>\n",
       "      <td>9.500000</td>\n",
       "      <td>10.40000</td>\n",
       "      <td>11.4000</td>\n",
       "      <td>14.20000</td>\n",
       "    </tr>\n",
       "    <tr>\n",
       "      <th>quality</th>\n",
       "      <td>4898.0</td>\n",
       "      <td>5.877909</td>\n",
       "      <td>0.885639</td>\n",
       "      <td>3.00000</td>\n",
       "      <td>5.000000</td>\n",
       "      <td>6.00000</td>\n",
       "      <td>6.0000</td>\n",
       "      <td>9.00000</td>\n",
       "    </tr>\n",
       "  </tbody>\n",
       "</table>\n",
       "</div>"
      ]
     },
     "execution_count": 5,
     "metadata": {},
     "output_type": "execute_result"
    }
   ],
   "source": [
    "df_white.describe().transpose()"
   ]
  },
  {
   "cell_type": "markdown",
   "metadata": {},
   "source": [
    "## Linear Regression"
   ]
  },
  {
   "cell_type": "markdown",
   "metadata": {},
   "source": [
    "Firstly I will split the data into training and testing sets (70:30 ratio) and then I will fit the linear regression using scikit-learn. The dependent variable is 'quality' (values 0-10) and the rest of the features are used as independent variables."
   ]
  },
  {
   "cell_type": "code",
   "execution_count": 6,
   "metadata": {
    "collapsed": true
   },
   "outputs": [],
   "source": [
    "from sklearn.linear_model import LinearRegression\n",
    "from sklearn.model_selection import train_test_split\n",
    "\n",
    "X = df_white.iloc[:, 0:-1].values\n",
    "y=df_white['quality'].values\n",
    "X_train, X_test, y_train, y_test = train_test_split(X, y, test_size=0.3, random_state=0)\n",
    "slr = LinearRegression()\n",
    "slr.fit(X_train, y_train)\n",
    "y_train_pred = slr.predict(X_train)\n",
    "y_test_pred = slr.predict(X_test)"
   ]
  },
  {
   "cell_type": "markdown",
   "metadata": {},
   "source": [
    "Since this is a multiple regression I will not plot the plots of individual features, but will instead plot the regression residuals to visualize the model's performance:"
   ]
  },
  {
   "cell_type": "code",
   "execution_count": 7,
   "metadata": {
    "collapsed": false
   },
   "outputs": [
    {
     "data": {
      "image/png": "[encoded data removed]",
      "text/plain": [
       "<matplotlib.figure.Figure at 0x11416aa90>"
      ]
     },
     "metadata": {},
     "output_type": "display_data"
    }
   ],
   "source": [
    "import matplotlib.pyplot as plt\n",
    "\n",
    "plt.scatter(y_train_pred, y_train_pred - y_train, c='blue', marker='o', label='Training data')\n",
    "plt.scatter(y_test_pred,  y_test_pred - y_test, c='lightgreen', marker='s', label='Test data')\n",
    "plt.xlabel('Predicted values')\n",
    "plt.ylabel('Residuals')\n",
    "plt.legend(loc='upper left')\n",
    "plt.hlines(y=0, xmin=0, xmax=10, lw=2, color='red')\n",
    "plt.xlim([0, 10])\n",
    "plt.show()"
   ]
  },
  {
   "cell_type": "markdown",
   "metadata": {},
   "source": [
    "To quantify the model's performance, I will calculate MSE and  R^2:"
   ]
  },
  {
   "cell_type": "code",
   "execution_count": 8,
   "metadata": {
    "collapsed": false
   },
   "outputs": [
    {
     "name": "stdout",
     "output_type": "stream",
     "text": [
      "MSE train: 0.547, test: 0.608\n"
     ]
    }
   ],
   "source": [
    "from sklearn.metrics import mean_squared_error\n",
    "\n",
    "print('MSE train: %.3f, test: %.3f' % (mean_squared_error(y_train, y_train_pred), mean_squared_error(y_test, y_test_pred)))"
   ]
  },
  {
   "cell_type": "code",
   "execution_count": 9,
   "metadata": {
    "collapsed": false
   },
   "outputs": [
    {
     "name": "stdout",
     "output_type": "stream",
     "text": [
      "R^2 train: 0.292, test: 0.248\n"
     ]
    }
   ],
   "source": [
    "from sklearn.metrics import r2_score\n",
    "\n",
    "print('R^2 train: %.3f, test: %.3f' %(r2_score(y_train, y_train_pred), r2_score(y_test, y_test_pred)))"
   ]
  },
  {
   "cell_type": "markdown",
   "metadata": {},
   "source": [
    "From the plot and calculations above we can see that a simple multiple linear regression does not perform very well, as the residuals are quite large and the features all together explain only about 30% and 25% of the response variance for training and testing sets, respectively."
   ]
  },
  {
   "cell_type": "markdown",
   "metadata": {},
   "source": [
    "## Logistic regression"
   ]
  },
  {
   "cell_type": "markdown",
   "metadata": {},
   "source": [
    "For logistic regression, I will use binary independent (response) variable, defined as following: y=1 if quality is higher than 6 and 0 otherwise. The list of the independent variables is the same as in the linear regression. The variables are again splitted into training and testing sets (70:30 ratio). The new response variable is defined as 'y01' in the code."
   ]
  },
  {
   "cell_type": "code",
   "execution_count": 15,
   "metadata": {
    "collapsed": true
   },
   "outputs": [],
   "source": [
    "y01 = (df_white['quality'].values > 6)\n",
    "X_train, X_test, y01_train, y01_test = train_test_split(X, y01, test_size=0.3, random_state=0)"
   ]
  },
  {
   "cell_type": "markdown",
   "metadata": {},
   "source": [
    "According to theory (and empirics) majority of machine learning and optimization algorithms behave much better if features are on the same scale. Therefore, I will standardize the X data (on the training set):"
   ]
  },
  {
   "cell_type": "code",
   "execution_count": 16,
   "metadata": {
    "collapsed": false
   },
   "outputs": [
    {
     "data": {
      "text/html": [
       "<div>\n",
       "<table border=\"1\" class=\"dataframe\">\n",
       "  <thead>\n",
       "    <tr style=\"text-align: right;\">\n",
       "      <th></th>\n",
       "      <th>count</th>\n",
       "      <th>mean</th>\n",
       "      <th>std</th>\n",
       "      <th>min</th>\n",
       "      <th>25%</th>\n",
       "      <th>50%</th>\n",
       "      <th>75%</th>\n",
       "      <th>max</th>\n",
       "    </tr>\n",
       "  </thead>\n",
       "  <tbody>\n",
       "    <tr>\n",
       "      <th>0</th>\n",
       "      <td>3428.0</td>\n",
       "      <td>9.155907e-15</td>\n",
       "      <td>1.000146</td>\n",
       "      <td>-3.679287</td>\n",
       "      <td>-0.670241</td>\n",
       "      <td>-0.068432</td>\n",
       "      <td>0.653739</td>\n",
       "      <td>5.949660</td>\n",
       "    </tr>\n",
       "    <tr>\n",
       "      <th>1</th>\n",
       "      <td>3428.0</td>\n",
       "      <td>-5.418977e-15</td>\n",
       "      <td>1.000146</td>\n",
       "      <td>-1.972843</td>\n",
       "      <td>-0.684689</td>\n",
       "      <td>-0.189246</td>\n",
       "      <td>0.405287</td>\n",
       "      <td>8.134207</td>\n",
       "    </tr>\n",
       "    <tr>\n",
       "      <th>2</th>\n",
       "      <td>3428.0</td>\n",
       "      <td>1.628105e-14</td>\n",
       "      <td>1.000146</td>\n",
       "      <td>-2.791145</td>\n",
       "      <td>-0.523537</td>\n",
       "      <td>-0.187595</td>\n",
       "      <td>0.400303</td>\n",
       "      <td>11.150443</td>\n",
       "    </tr>\n",
       "    <tr>\n",
       "      <th>3</th>\n",
       "      <td>3428.0</td>\n",
       "      <td>7.425669e-16</td>\n",
       "      <td>1.000146</td>\n",
       "      <td>-1.149586</td>\n",
       "      <td>-0.929125</td>\n",
       "      <td>-0.247702</td>\n",
       "      <td>0.674223</td>\n",
       "      <td>5.063389</td>\n",
       "    </tr>\n",
       "    <tr>\n",
       "      <th>4</th>\n",
       "      <td>3428.0</td>\n",
       "      <td>-1.686815e-14</td>\n",
       "      <td>1.000146</td>\n",
       "      <td>-1.664892</td>\n",
       "      <td>-0.447283</td>\n",
       "      <td>-0.131606</td>\n",
       "      <td>0.184070</td>\n",
       "      <td>13.532671</td>\n",
       "    </tr>\n",
       "    <tr>\n",
       "      <th>5</th>\n",
       "      <td>3428.0</td>\n",
       "      <td>-1.125769e-16</td>\n",
       "      <td>1.000146</td>\n",
       "      <td>-1.959411</td>\n",
       "      <td>-0.726534</td>\n",
       "      <td>-0.080741</td>\n",
       "      <td>0.623760</td>\n",
       "      <td>14.889912</td>\n",
       "    </tr>\n",
       "    <tr>\n",
       "      <th>6</th>\n",
       "      <td>3428.0</td>\n",
       "      <td>3.370262e-17</td>\n",
       "      <td>1.000146</td>\n",
       "      <td>-3.056039</td>\n",
       "      <td>-0.696517</td>\n",
       "      <td>-0.106636</td>\n",
       "      <td>0.695601</td>\n",
       "      <td>7.113503</td>\n",
       "    </tr>\n",
       "    <tr>\n",
       "      <th>7</th>\n",
       "      <td>3428.0</td>\n",
       "      <td>7.608717e-13</td>\n",
       "      <td>1.000146</td>\n",
       "      <td>-2.337267</td>\n",
       "      <td>-0.776760</td>\n",
       "      <td>-0.096801</td>\n",
       "      <td>0.719151</td>\n",
       "      <td>5.546864</td>\n",
       "    </tr>\n",
       "    <tr>\n",
       "      <th>8</th>\n",
       "      <td>3428.0</td>\n",
       "      <td>5.960550e-14</td>\n",
       "      <td>1.000146</td>\n",
       "      <td>-2.959341</td>\n",
       "      <td>-0.717246</td>\n",
       "      <td>-0.057807</td>\n",
       "      <td>0.601633</td>\n",
       "      <td>4.096662</td>\n",
       "    </tr>\n",
       "    <tr>\n",
       "      <th>9</th>\n",
       "      <td>3428.0</td>\n",
       "      <td>-2.712512e-14</td>\n",
       "      <td>1.000146</td>\n",
       "      <td>-2.326912</td>\n",
       "      <td>-0.693743</td>\n",
       "      <td>-0.092049</td>\n",
       "      <td>0.509644</td>\n",
       "      <td>5.065325</td>\n",
       "    </tr>\n",
       "    <tr>\n",
       "      <th>10</th>\n",
       "      <td>3428.0</td>\n",
       "      <td>-8.582740e-15</td>\n",
       "      <td>1.000146</td>\n",
       "      <td>-1.728126</td>\n",
       "      <td>-0.835604</td>\n",
       "      <td>-0.105358</td>\n",
       "      <td>0.706025</td>\n",
       "      <td>2.977900</td>\n",
       "    </tr>\n",
       "  </tbody>\n",
       "</table>\n",
       "</div>"
      ],
      "text/plain": [
       "<div>\n",
       "<table border=\"1\" class=\"dataframe\">\n",
       "  <thead>\n",
       "    <tr style=\"text-align: right;\">\n",
       "      <th></th>\n",
       "      <th>count</th>\n",
       "      <th>mean</th>\n",
       "      <th>std</th>\n",
       "      <th>min</th>\n",
       "      <th>25%</th>\n",
       "      <th>50%</th>\n",
       "      <th>75%</th>\n",
       "      <th>max</th>\n",
       "    </tr>\n",
       "  </thead>\n",
       "  <tbody>\n",
       "    <tr>\n",
       "      <th>0</th>\n",
       "      <td>3428.0</td>\n",
       "      <td>9.155907e-15</td>\n",
       "      <td>1.000146</td>\n",
       "      <td>-3.679287</td>\n",
       "      <td>-0.670241</td>\n",
       "      <td>-0.068432</td>\n",
       "      <td>0.653739</td>\n",
       "      <td>5.949660</td>\n",
       "    </tr>\n",
       "    <tr>\n",
       "      <th>1</th>\n",
       "      <td>3428.0</td>\n",
       "      <td>-5.418977e-15</td>\n",
       "      <td>1.000146</td>\n",
       "      <td>-1.972843</td>\n",
       "      <td>-0.684689</td>\n",
       "      <td>-0.189246</td>\n",
       "      <td>0.405287</td>\n",
       "      <td>8.134207</td>\n",
       "    </tr>\n",
       "    <tr>\n",
       "      <th>2</th>\n",
       "      <td>3428.0</td>\n",
       "      <td>1.628105e-14</td>\n",
       "      <td>1.000146</td>\n",
       "      <td>-2.791145</td>\n",
       "      <td>-0.523537</td>\n",
       "      <td>-0.187595</td>\n",
       "      <td>0.400303</td>\n",
       "      <td>11.150443</td>\n",
       "    </tr>\n",
       "    <tr>\n",
       "      <th>3</th>\n",
       "      <td>3428.0</td>\n",
       "      <td>7.425669e-16</td>\n",
       "      <td>1.000146</td>\n",
       "      <td>-1.149586</td>\n",
       "      <td>-0.929125</td>\n",
       "      <td>-0.247702</td>\n",
       "      <td>0.674223</td>\n",
       "      <td>5.063389</td>\n",
       "    </tr>\n",
       "    <tr>\n",
       "      <th>4</th>\n",
       "      <td>3428.0</td>\n",
       "      <td>-1.686815e-14</td>\n",
       "      <td>1.000146</td>\n",
       "      <td>-1.664892</td>\n",
       "      <td>-0.447283</td>\n",
       "      <td>-0.131606</td>\n",
       "      <td>0.184070</td>\n",
       "      <td>13.532671</td>\n",
       "    </tr>\n",
       "    <tr>\n",
       "      <th>5</th>\n",
       "      <td>3428.0</td>\n",
       "      <td>-1.125769e-16</td>\n",
       "      <td>1.000146</td>\n",
       "      <td>-1.959411</td>\n",
       "      <td>-0.726534</td>\n",
       "      <td>-0.080741</td>\n",
       "      <td>0.623760</td>\n",
       "      <td>14.889912</td>\n",
       "    </tr>\n",
       "    <tr>\n",
       "      <th>6</th>\n",
       "      <td>3428.0</td>\n",
       "      <td>3.370262e-17</td>\n",
       "      <td>1.000146</td>\n",
       "      <td>-3.056039</td>\n",
       "      <td>-0.696517</td>\n",
       "      <td>-0.106636</td>\n",
       "      <td>0.695601</td>\n",
       "      <td>7.113503</td>\n",
       "    </tr>\n",
       "    <tr>\n",
       "      <th>7</th>\n",
       "      <td>3428.0</td>\n",
       "      <td>7.608717e-13</td>\n",
       "      <td>1.000146</td>\n",
       "      <td>-2.337267</td>\n",
       "      <td>-0.776760</td>\n",
       "      <td>-0.096801</td>\n",
       "      <td>0.719151</td>\n",
       "      <td>5.546864</td>\n",
       "    </tr>\n",
       "    <tr>\n",
       "      <th>8</th>\n",
       "      <td>3428.0</td>\n",
       "      <td>5.960550e-14</td>\n",
       "      <td>1.000146</td>\n",
       "      <td>-2.959341</td>\n",
       "      <td>-0.717246</td>\n",
       "      <td>-0.057807</td>\n",
       "      <td>0.601633</td>\n",
       "      <td>4.096662</td>\n",
       "    </tr>\n",
       "    <tr>\n",
       "      <th>9</th>\n",
       "      <td>3428.0</td>\n",
       "      <td>-2.712512e-14</td>\n",
       "      <td>1.000146</td>\n",
       "      <td>-2.326912</td>\n",
       "      <td>-0.693743</td>\n",
       "      <td>-0.092049</td>\n",
       "      <td>0.509644</td>\n",
       "      <td>5.065325</td>\n",
       "    </tr>\n",
       "    <tr>\n",
       "      <th>10</th>\n",
       "      <td>3428.0</td>\n",
       "      <td>-8.582740e-15</td>\n",
       "      <td>1.000146</td>\n",
       "      <td>-1.728126</td>\n",
       "      <td>-0.835604</td>\n",
       "      <td>-0.105358</td>\n",
       "      <td>0.706025</td>\n",
       "      <td>2.977900</td>\n",
       "    </tr>\n",
       "  </tbody>\n",
       "</table>\n",
       "</div>"
      ]
     },
     "execution_count": 16,
     "metadata": {},
     "output_type": "execute_result"
    }
   ],
   "source": [
    "from sklearn.preprocessing import StandardScaler\n",
    "\n",
    "stdsc = StandardScaler()\n",
    "X_train_std = stdsc.fit_transform(X_train)\n",
    "X_test_std = stdsc.transform(X_test)\n",
    "pd.DataFrame(X_train_std).describe().transpose()"
   ]
  },
  {
   "cell_type": "markdown",
   "metadata": {},
   "source": [
    "For the analysis, I will use the pipeline method introduced in Ch. 5 of the PML book:"
   ]
  },
  {
   "cell_type": "code",
   "execution_count": 17,
   "metadata": {
    "collapsed": false
   },
   "outputs": [
    {
     "name": "stdout",
     "output_type": "stream",
     "text": [
      "Test Accuracy: 0.784\n"
     ]
    }
   ],
   "source": [
    "from sklearn.decomposition import PCA\n",
    "from sklearn.linear_model import LogisticRegression\n",
    "from sklearn.pipeline import Pipeline\n",
    "\n",
    "pipe_lr = Pipeline([('scl', StandardScaler()),\n",
    "                    ('pca', PCA(n_components=2)),\n",
    "                    ('clf', LogisticRegression(random_state=1))])\n",
    "\n",
    "pipe_lr.fit(X_train, y01_train)\n",
    "print('Test Accuracy: %.3f' % pipe_lr.score(X_test, y01_test))\n",
    "y2_pred = pipe_lr.predict(X_test)"
   ]
  },
  {
   "cell_type": "markdown",
   "metadata": {},
   "source": [
    "This model gives us 78.4% accuracy. I will also plot the learning curve to visualize the performance of the model:"
   ]
  },
  {
   "cell_type": "code",
   "execution_count": 19,
   "metadata": {
    "collapsed": false
   },
   "outputs": [
    {
     "data": {
      "image/png": "[encoded data removed]",
      "text/plain": [
       "<matplotlib.figure.Figure at 0x1142a1080>"
      ]
     },
     "metadata": {},
     "output_type": "display_data"
    }
   ],
   "source": [
    "from sklearn.model_selection import learning_curve\n",
    "\n",
    "train_sizes, train_scores, test_scores = learning_curve(estimator=pipe_lr,\n",
    "                                                        X=X_train,\n",
    "                                                        y=y01_train,\n",
    "                                                        train_sizes=np.linspace(0.1, 1.0, 10),\n",
    "                                                        cv=10,\n",
    "                                                        n_jobs=1)\n",
    "train_mean = np.mean(train_scores, axis=1)\n",
    "train_std = np.std(train_scores, axis=1)\n",
    "test_mean = np.mean(test_scores, axis=1)\n",
    "test_std = np.std(test_scores, axis=1)\n",
    "plt.plot(train_sizes, train_mean,\n",
    "         color='blue', marker='o',\n",
    "         markersize=5,\n",
    "         label='training accuracy')\n",
    "plt.fill_between(train_sizes,\n",
    "                 train_mean + train_std,\n",
    "                 train_mean - train_std,\n",
    "                 alpha=0.15, color='blue')\n",
    "plt.plot(train_sizes, test_mean,\n",
    "         color='green', linestyle='--',\n",
    "         marker='s', markersize=5,\n",
    "         label='validation accuracy')\n",
    "plt.fill_between(train_sizes,\n",
    "                 test_mean + test_std,\n",
    "                 test_mean - test_std,\n",
    "                 alpha=0.15, color='green')\n",
    "plt.grid()\n",
    "plt.xlabel('Number of training samples')\n",
    "plt.ylabel('Accuracy')\n",
    "plt.legend(loc='lower right')\n",
    "plt.show()"
   ]
  },
  {
   "cell_type": "markdown",
   "metadata": {},
   "source": [
    "The model can be a little biased, which would explain the relatively lower accuracy (78%). As far as the number of training samples goes, we see that the lowest variance is between 1500 and 2000 training samples, after which the validation accuracy grows higher than the training accuracy."
   ]
  },
  {
   "cell_type": "markdown",
   "metadata": {},
   "source": [
    "I will also print the confusion matrix to evaluate the performance of the learning algorithm by mapping the numbers of classification errors:"
   ]
  },
  {
   "cell_type": "code",
   "execution_count": 20,
   "metadata": {
    "collapsed": false
   },
   "outputs": [
    {
     "data": {
      "image/png": "[encoded data removed]",
      "text/plain": [
       "<matplotlib.figure.Figure at 0x111af7208>"
      ]
     },
     "metadata": {},
     "output_type": "display_data"
    }
   ],
   "source": [
    "from sklearn.metrics import confusion_matrix\n",
    "\n",
    "pipe_lr.fit(X_train, y01_train)\n",
    "y01_pred = pipe_lr.predict(X_test)\n",
    "confmat = confusion_matrix(y_true=y01_test, y_pred=y01_pred)\n",
    "#print(confmat)\n",
    "\n",
    "fig, ax = plt.subplots(figsize=(2.5, 2.5))\n",
    "ax.matshow(confmat, cmap=plt.cm.Blues, alpha=0.3)\n",
    "for i in range(confmat.shape[0]):\n",
    "    for j in range(confmat.shape[1]):\n",
    "        ax.text(x=j, y=i,\n",
    "                s=confmat[i, j],\n",
    "                va='center', ha='center')\n",
    "plt.xlabel('predicted label')\n",
    "plt.ylabel('true label')\n",
    "plt.show()"
   ]
  },
  {
   "cell_type": "markdown",
   "metadata": {},
   "source": [
    "There are 1143 true negatives (77.8%) and only 9 true positives (0.6%). We see that 99.8% of the negatives were classified correctly, but on the other hand 97.1% of the positives were not classified correctly. The misclassification together amounts for 21.6%, giving the model's accuracy of 78.4%."
   ]
  },
  {
   "cell_type": "markdown",
   "metadata": {},
   "source": [
    "## Support vector machine"
   ]
  },
  {
   "cell_type": "markdown",
   "metadata": {},
   "source": [
    "Now I will replace logistic regression with SVM with RBF kernel. The results are exactly the same as when using logistic regression and therefore all of the coments from above apply to this section as well."
   ]
  },
  {
   "cell_type": "code",
   "execution_count": 26,
   "metadata": {
    "collapsed": false
   },
   "outputs": [
    {
     "name": "stdout",
     "output_type": "stream",
     "text": [
      "Test Accuracy: 0.784\n"
     ]
    }
   ],
   "source": [
    "from sklearn.svm import SVC\n",
    "\n",
    "pipe_lr = Pipeline([('scl', StandardScaler()),\n",
    "                    ('pca', PCA(n_components=2)),\n",
    "                    ('svm', SVC(kernel='rbf', random_state=0, gamma=0.20, C=5.0))])\n",
    "\n",
    "pipe_lr.fit(X_train, y01_train)\n",
    "print('Test Accuracy: %.3f' % pipe_lr.score(X_test, y01_test))\n",
    "y01_pred = pipe_lr.predict(X_test)"
   ]
  },
  {
   "cell_type": "markdown",
   "metadata": {},
   "source": [
    "The learning curve (the same as in the previous case):"
   ]
  },
  {
   "cell_type": "code",
   "execution_count": 27,
   "metadata": {
    "collapsed": false
   },
   "outputs": [
    {
     "data": {
      "image/png": "[encoded data removed]",
      "text/plain": [
       "<matplotlib.figure.Figure at 0x117f06a58>"
      ]
     },
     "metadata": {},
     "output_type": "display_data"
    }
   ],
   "source": [
    "train_sizes, train_scores, test_scores = learning_curve(estimator=pipe_lr,\n",
    "                                                        X=X_train,\n",
    "                                                        y=y01_train,\n",
    "                                                        train_sizes=np.linspace(0.1, 1.0, 10),\n",
    "                                                        cv=10,\n",
    "                                                        n_jobs=1)\n",
    "train_mean = np.mean(train_scores, axis=1)\n",
    "train_std = np.std(train_scores, axis=1)\n",
    "test_mean = np.mean(test_scores, axis=1)\n",
    "test_std = np.std(test_scores, axis=1)\n",
    "plt.plot(train_sizes, train_mean,\n",
    "         color='blue', marker='o',\n",
    "         markersize=5,\n",
    "         label='training accuracy')\n",
    "plt.fill_between(train_sizes,\n",
    "                 train_mean + train_std,\n",
    "                 train_mean - train_std,\n",
    "                 alpha=0.15, color='blue')\n",
    "plt.plot(train_sizes, test_mean,\n",
    "         color='green', linestyle='--',\n",
    "         marker='s', markersize=5,\n",
    "         label='validation accuracy')\n",
    "plt.fill_between(train_sizes,\n",
    "                 test_mean + test_std,\n",
    "                 test_mean - test_std,\n",
    "                 alpha=0.15, color='green')\n",
    "plt.grid()\n",
    "plt.xlabel('Number of training samples')\n",
    "plt.ylabel('Accuracy')\n",
    "plt.legend(loc='lower right')\n",
    "plt.show()"
   ]
  },
  {
   "cell_type": "markdown",
   "metadata": {},
   "source": [
    "And the confusion matrix (again the same):"
   ]
  },
  {
   "cell_type": "code",
   "execution_count": 28,
   "metadata": {
    "collapsed": false
   },
   "outputs": [
    {
     "data": {
      "image/png": "[encoded data removed]",
      "text/plain": [
       "<matplotlib.figure.Figure at 0x111b43518>"
      ]
     },
     "metadata": {},
     "output_type": "display_data"
    }
   ],
   "source": [
    "pipe_lr.fit(X_train, y01_train)\n",
    "y01_pred = pipe_lr.predict(X_test)\n",
    "confmat = confusion_matrix(y_true=y01_test, y_pred=y01_pred)\n",
    "#print(confmat)\n",
    "\n",
    "fig, ax = plt.subplots(figsize=(2.5, 2.5))\n",
    "ax.matshow(confmat, cmap=plt.cm.Blues, alpha=0.3)\n",
    "for i in range(confmat.shape[0]):\n",
    "    for j in range(confmat.shape[1]):\n",
    "        ax.text(x=j, y=i,\n",
    "                s=confmat[i, j],\n",
    "                va='center', ha='center')\n",
    "plt.xlabel('predicted label')\n",
    "plt.ylabel('true label')\n",
    "plt.show()"
   ]
  }
 ],
 "metadata": {
  "kernelspec": {
   "display_name": "Python 3",
   "language": "python",
   "name": "python3"
  },
  "language_info": {
   "codemirror_mode": {
    "name": "ipython",
    "version": 3.0
   },
   "file_extension": ".py",
   "mimetype": "text/x-python",
   "name": "python",
   "nbconvert_exporter": "python",
   "pygments_lexer": "ipython3",
   "version": "3.6.0"
  }
 },
 "nbformat": 4,
 "nbformat_minor": 0
}