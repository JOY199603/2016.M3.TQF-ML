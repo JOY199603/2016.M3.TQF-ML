{
 "cells": [
  {
   "cell_type": "markdown",
   "metadata": {},
   "source": [
    "# Double layer NN for XOR (Lab 09-2 in HunKim)"
   ]
  },
  {
   "cell_type": "code",
   "execution_count": 1,
   "metadata": {
    "collapsed": true
   },
   "outputs": [],
   "source": [
    "import tensorflow as tf\n",
    "import numpy as np\n",
    "tf.set_random_seed(777)  # for reproducibility\n",
    "\n",
    "x_data = np.array([[0, 0], [0, 1], [1, 0], [1, 1]], dtype=np.float32)\n",
    "y_data = np.array([[0], [1], [1], [0]], dtype=np.float32)"
   ]
  },
  {
   "cell_type": "code",
   "execution_count": 2,
   "metadata": {
    "collapsed": true
   },
   "outputs": [],
   "source": [
    "# input & output\n",
    "X = tf.placeholder(tf.float32, [None, 2])\n",
    "Y = tf.placeholder(tf.float32, [None, 1])\n",
    "\n",
    "# 1st layer\n",
    "W1 = tf.Variable(tf.random_normal([2, 2]), name='weight1')\n",
    "b1 = tf.Variable(tf.random_normal([2]), name='bias1')\n",
    "layer1 = tf.sigmoid(tf.matmul(X, W1) + b1)\n",
    "\n",
    "# 2nd layer\n",
    "W2 = tf.Variable(tf.random_normal([2, 1]), name='weight2')\n",
    "b2 = tf.Variable(tf.random_normal([1]), name='bias2')\n",
    "hypothesis = tf.sigmoid(tf.matmul(layer1, W2) + b2)"
   ]
  },
  {
   "cell_type": "code",
   "execution_count": 3,
   "metadata": {
    "collapsed": true
   },
   "outputs": [],
   "source": [
    "# cost/loss function\n",
    "cost = -tf.reduce_mean(Y*tf.log(hypothesis) + (1 - Y)*tf.log(1 - hypothesis))\n",
    "train = tf.train.GradientDescentOptimizer(learning_rate=0.1).minimize(cost)"
   ]
  },
  {
   "cell_type": "code",
   "execution_count": 4,
   "metadata": {
    "collapsed": true
   },
   "outputs": [],
   "source": [
    "# Accuracy computation\n",
    "# True if hypothesis>0.5 else False\n",
    "predicted = tf.cast(hypothesis > 0.5, dtype=tf.float32)\n",
    "accuracy = tf.reduce_mean(tf.cast(tf.equal(predicted, Y), dtype=tf.float32))"
   ]
  },
  {
   "cell_type": "code",
   "execution_count": 22,
   "metadata": {
    "collapsed": false,
    "scrolled": true
   },
   "outputs": [
    {
     "name": "stdout",
     "output_type": "stream",
     "text": [
      "0 0.753902 [array([[ 0.7988674 ,  0.6801188 ],\n",
      "       [-1.21986341, -0.30361032]], dtype=float32), array([[ 1.37522972],\n",
      "       [-0.78823847]], dtype=float32)]\n",
      "1000 0.671229 [array([[ 1.15745616,  0.70470023],\n",
      "       [-1.85447979, -0.1528109 ]], dtype=float32), array([[ 1.38862824],\n",
      "       [-0.87442583]], dtype=float32)]\n",
      "2000 0.533936 [array([[ 3.05309701,  1.38850832],\n",
      "       [-3.45586586, -0.65311342]], dtype=float32), array([[ 3.28347397],\n",
      "       [-1.56185901]], dtype=float32)]\n",
      "3000 0.197867 [array([[ 4.62342453,  3.50294876],\n",
      "       [-4.75216293, -3.03614497]], dtype=float32), array([[ 5.56490564],\n",
      "       [-4.34472466]], dtype=float32)]\n",
      "4000 0.0776533 [array([[ 5.28239202,  4.63241005],\n",
      "       [-5.36364794, -4.27421331]], dtype=float32), array([[ 7.05860186],\n",
      "       [-6.29910707]], dtype=float32)]\n",
      "5000 0.0453608 [array([[ 5.61032104,  5.15951157],\n",
      "       [-5.69579315, -4.82549715]], dtype=float32), array([[ 7.97181797],\n",
      "       [-7.34886265]], dtype=float32)]\n",
      "6000 0.0315366 [array([[ 5.81935787,  5.48017645],\n",
      "       [-5.91430616, -5.15713835]], dtype=float32), array([[ 8.61034107],\n",
      "       [-8.04423904]], dtype=float32)]\n",
      "7000 0.0240175 [array([[ 5.97044706,  5.70476246],\n",
      "       [-6.07438278, -5.3883605 ]], dtype=float32), array([[ 9.09748268],\n",
      "       [-8.56067181]], dtype=float32)]\n",
      "8000 0.0193315 [array([[ 6.08780718,  5.87527657],\n",
      "       [-6.19953299, -5.56346369]], dtype=float32), array([[ 9.49004841],\n",
      "       [-8.97038651]], dtype=float32)]\n",
      "9000 0.0161456 [array([[ 6.18327713,  6.01159048],\n",
      "       [-6.30168438, -5.70319986]], dtype=float32), array([[ 9.81828213],\n",
      "       [-9.30953789]], dtype=float32)]\n",
      "10000 0.0138448 [array([[ 6.26347113,  6.12451124],\n",
      "       [-6.38764334, -5.81880617]], dtype=float32), array([[ 10.10004139],\n",
      "       [ -9.59866238]], dtype=float32)]\n",
      "\n",
      "Hypothesis:  [[ 0.01338218]\n",
      " [ 0.98166394]\n",
      " [ 0.98809403]\n",
      " [ 0.01135799]] \n",
      "Correct:  [[ 0.]\n",
      " [ 1.]\n",
      " [ 1.]\n",
      " [ 0.]] \n",
      "Accuracy:  1.0\n"
     ]
    }
   ],
   "source": [
    "# Launch graph\n",
    "with tf.Session() as sess:\n",
    "    # Initialize TensorFlow variables\n",
    "    sess.run(tf.global_variables_initializer())\n",
    "\n",
    "    for step in range(10001):\n",
    "        sess.run(train, feed_dict={X: x_data, Y: y_data})\n",
    "        if step % 1000 == 0:\n",
    "            print(step, sess.run(cost, feed_dict={\n",
    "                  X: x_data, Y: y_data}), sess.run([W1, W2]))\n",
    "\n",
    "    # Accuracy report\n",
    "    h, c, a = sess.run([hypothesis, predicted, accuracy],\n",
    "                       feed_dict={X: x_data, Y: y_data})\n",
    "    print(\"\\nHypothesis: \", h, \"\\nCorrect: \", c, \"\\nAccuracy: \", a)\n"
   ]
  },
  {
   "cell_type": "markdown",
   "metadata": {},
   "source": [
    "# The XOR example from Python Machine Learning"
   ]
  },
  {
   "cell_type": "code",
   "execution_count": 23,
   "metadata": {
    "collapsed": false
   },
   "outputs": [
    {
     "data": {
      "image/png": "[encoded data removed]",
      "text/plain": [
       "<matplotlib.figure.Figure at 0xb2556a0>"
      ]
     },
     "metadata": {},
     "output_type": "display_data"
    }
   ],
   "source": [
    "import matplotlib.pyplot as plt\n",
    "\n",
    "np.random.seed(0)\n",
    "X_xor = np.random.randn(200, 2)\n",
    "y_xor = np.logical_xor(X_xor[:, 0] > 0,\n",
    "                       X_xor[:, 1] > 0)\n",
    "y_xor = np.where(y_xor, 1, -1)\n",
    "\n",
    "plt.scatter(X_xor[y_xor == 1, 0],\n",
    "            X_xor[y_xor == 1, 1],\n",
    "            c='b', marker='x',\n",
    "            label='1')\n",
    "plt.scatter(X_xor[y_xor == -1, 0],\n",
    "            X_xor[y_xor == -1, 1],\n",
    "            c='r',\n",
    "            marker='s',\n",
    "            label='-1')\n",
    "\n",
    "plt.xlim([-3, 3])\n",
    "plt.ylim([-3, 3])\n",
    "plt.legend(loc='best')\n",
    "plt.tight_layout()\n",
    "# plt.savefig('./figures/xor.png', dpi=300)\n",
    "plt.show()"
   ]
  },
  {
   "cell_type": "code",
   "execution_count": 44,
   "metadata": {
    "collapsed": false
   },
   "outputs": [],
   "source": [
    "x_data = X_xor.tolist()\n",
    "y_data = np.expand_dims((y_xor>0)+0.0,1).tolist()"
   ]
  },
  {
   "cell_type": "code",
   "execution_count": 55,
   "metadata": {
    "collapsed": false
   },
   "outputs": [
    {
     "name": "stdout",
     "output_type": "stream",
     "text": [
      "0 0.786101 [array([[ 0.80023456,  0.67967117],\n",
      "       [-1.21406353, -0.30628094]], dtype=float32), array([[ 1.35795116],\n",
      "       [-0.79406995]], dtype=float32)]\n",
      "4000 0.452201 [array([[ 2.44478774,  2.42860603],\n",
      "       [-2.38669181, -2.71319151]], dtype=float32), array([[ 5.40043449],\n",
      "       [-5.22545767]], dtype=float32)]\n",
      "8000 0.448991 [array([[ 2.22748923,  2.01612997],\n",
      "       [-2.19597602, -2.18916035]], dtype=float32), array([[ 6.30235243],\n",
      "       [-6.0452013 ]], dtype=float32)]\n",
      "12000 0.447605 [array([[ 2.06242347,  1.80836213],\n",
      "       [-2.03425217, -1.94648755]], dtype=float32), array([[ 6.87085056],\n",
      "       [-6.68627262]], dtype=float32)]\n",
      "16000 0.446815 [array([[ 1.94861114,  1.6832037 ],\n",
      "       [-1.92254269, -1.80369246]], dtype=float32), array([[ 7.32387352],\n",
      "       [-7.19328451]], dtype=float32)]\n",
      "20000 0.446305 [array([[ 1.86759424,  1.59774518],\n",
      "       [-1.84343207, -1.7072283 ]], dtype=float32), array([[ 7.70492935],\n",
      "       [-7.60847139]], dtype=float32)]\n",
      "24000 0.445948 [array([[ 1.80646551,  1.53449965],\n",
      "       [-1.78397286, -1.63631141]], dtype=float32), array([[ 8.0335865 ],\n",
      "       [-7.95990133]], dtype=float32)]\n",
      "28000 0.445682 [array([[ 1.75816584,  1.48505306],\n",
      "       [-1.73710966, -1.58113587]], dtype=float32), array([[ 8.32238865],\n",
      "       [-8.26534653]], dtype=float32)]\n",
      "32000 0.445475 [array([[ 1.71867192,  1.44489002],\n",
      "       [-1.69885385, -1.53647947]], dtype=float32), array([[ 8.58014393],\n",
      "       [-8.53617764]], dtype=float32)]\n",
      "36000 0.445309 [array([[ 1.68555033,  1.41131854],\n",
      "       [-1.66681015, -1.49926209]], dtype=float32), array([[ 8.81307602],\n",
      "       [-8.7800703 ]], dtype=float32)]\n",
      "40000 0.445173 [array([[ 1.65720367,  1.38265061],\n",
      "       [-1.63941145, -1.46755767]], dtype=float32), array([[ 9.02586937],\n",
      "       [-9.0023613 ]], dtype=float32)]\n",
      "44000 0.445058 [array([[ 1.63255739,  1.35774481],\n",
      "       [-1.61560643, -1.44007087]], dtype=float32), array([[ 9.22190189],\n",
      "       [-9.20697021]], dtype=float32)]\n",
      "48000 0.44496 [array([[ 1.61084092,  1.33581507],\n",
      "       [-1.59464669, -1.41590774]], dtype=float32), array([[ 9.40369606],\n",
      "       [-9.39657688]], dtype=float32)]\n",
      "0.795\n"
     ]
    }
   ],
   "source": [
    "# cost/loss function\n",
    "cost = -tf.reduce_mean(Y*tf.log(hypothesis) + (1 - Y)*tf.log(1 - hypothesis))\n",
    "train = tf.train.GradientDescentOptimizer(learning_rate=0.2).minimize(cost)\n",
    "\n",
    "# Accuracy computation\n",
    "# True if hypothesis>0.5 else False\n",
    "predicted = tf.cast(hypothesis > 0.5, dtype=tf.float32)\n",
    "accuracy = tf.reduce_mean(tf.cast(tf.equal(predicted, Y), dtype=tf.float32))\n",
    "\n",
    "# Launch graph\n",
    "with tf.Session() as sess:\n",
    "    # Initialize TensorFlow variables\n",
    "    sess.run(tf.global_variables_initializer())\n",
    "\n",
    "    for step in range(50001):\n",
    "        sess.run(train, feed_dict={X: x_data, Y: y_data})\n",
    "        if step % 4000 == 0:\n",
    "            print(step, sess.run(cost, feed_dict={X: x_data, Y: y_data}), sess.run([W1, W2]))\n",
    "            \n",
    "    print( sess.run(accuracy, feed_dict={X: x_data, Y: y_data}) )\n",
    "    y_pred = sess.run(predicted, feed_dict={X: x_data, Y: y_data})"
   ]
  },
  {
   "cell_type": "code",
   "execution_count": 53,
   "metadata": {
    "collapsed": false
   },
   "outputs": [],
   "source": [
    "y_pred = np.squeeze(y_pred)"
   ]
  },
  {
   "cell_type": "code",
   "execution_count": 54,
   "metadata": {
    "collapsed": false
   },
   "outputs": [
    {
     "data": {
      "image/png": "[encoded data removed]",
      "text/plain": [
       "<matplotlib.figure.Figure at 0xb73b668>"
      ]
     },
     "metadata": {},
     "output_type": "display_data"
    }
   ],
   "source": [
    "plt.scatter(X_xor[y_pred == 1, 0],\n",
    "            X_xor[y_pred == 1, 1],\n",
    "            c='b', marker='x',\n",
    "            label='1')\n",
    "plt.scatter(X_xor[y_pred == 0, 0],\n",
    "            X_xor[y_pred == 0, 1],\n",
    "            c='r',\n",
    "            marker='s',\n",
    "            label='-1')\n",
    "\n",
    "plt.xlim([-3, 3])\n",
    "plt.ylim([-3, 3])\n",
    "plt.legend(loc='best')\n",
    "plt.tight_layout()\n",
    "# plt.savefig('./figures/xor.png', dpi=300)\n",
    "plt.show()"
   ]
  },
  {
   "cell_type": "code",
   "execution_count": null,
   "metadata": {
    "collapsed": true
   },
   "outputs": [],
   "source": []
  }
 ],
 "metadata": {
  "kernelspec": {
   "display_name": "Python [default]",
   "language": "python",
   "name": "python3"
  },
  "language_info": {
   "codemirror_mode": {
    "name": "ipython",
    "version": 3
   },
   "file_extension": ".py",
   "mimetype": "text/x-python",
   "name": "python",
   "nbconvert_exporter": "python",
   "pygments_lexer": "ipython3",
   "version": "3.5.2"
  }
 },
 "nbformat": 4,
 "nbformat_minor": 1
}
